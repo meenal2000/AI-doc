{
  "nbformat": 4,
  "nbformat_minor": 0,
  "metadata": {
    "colab": {
      "name": "Regression_model_with_tensorflow.ipynb",
      "provenance": [],
      "collapsed_sections": []
    },
    "kernelspec": {
      "display_name": "Python 3",
      "name": "python3"
    },
    "language_info": {
      "name": "python"
    }
  },
  "cells": [
    {
      "cell_type": "code",
      "metadata": {
        "id": "Sj-Bmh5maKHd"
      },
      "source": [
        "import tensorflow as tf\n",
        "import numpy as np\n",
        "import matplotlib.pyplot as plt "
      ],
      "execution_count": 25,
      "outputs": []
    },
    {
      "cell_type": "code",
      "metadata": {
        "colab": {
          "base_uri": "https://localhost:8080/"
        },
        "id": "Nt-hGr1qaXra",
        "outputId": "e59fafee-028f-4a7b-9655-52b1d830b1eb"
      },
      "source": [
        "X = tf.range(-100, 100, 4)\n",
        "X"
      ],
      "execution_count": 26,
      "outputs": [
        {
          "output_type": "execute_result",
          "data": {
            "text/plain": [
              "<tf.Tensor: shape=(50,), dtype=int32, numpy=\n",
              "array([-100,  -96,  -92,  -88,  -84,  -80,  -76,  -72,  -68,  -64,  -60,\n",
              "        -56,  -52,  -48,  -44,  -40,  -36,  -32,  -28,  -24,  -20,  -16,\n",
              "        -12,   -8,   -4,    0,    4,    8,   12,   16,   20,   24,   28,\n",
              "         32,   36,   40,   44,   48,   52,   56,   60,   64,   68,   72,\n",
              "         76,   80,   84,   88,   92,   96], dtype=int32)>"
            ]
          },
          "metadata": {
            "tags": []
          },
          "execution_count": 26
        }
      ]
    },
    {
      "cell_type": "code",
      "metadata": {
        "colab": {
          "base_uri": "https://localhost:8080/"
        },
        "id": "Z9enYWbYaoZN",
        "outputId": "ade3f540-7aa8-4346-ac46-26ad90db5c5c"
      },
      "source": [
        "y = X + 10\n",
        "y"
      ],
      "execution_count": 27,
      "outputs": [
        {
          "output_type": "execute_result",
          "data": {
            "text/plain": [
              "<tf.Tensor: shape=(50,), dtype=int32, numpy=\n",
              "array([-90, -86, -82, -78, -74, -70, -66, -62, -58, -54, -50, -46, -42,\n",
              "       -38, -34, -30, -26, -22, -18, -14, -10,  -6,  -2,   2,   6,  10,\n",
              "        14,  18,  22,  26,  30,  34,  38,  42,  46,  50,  54,  58,  62,\n",
              "        66,  70,  74,  78,  82,  86,  90,  94,  98, 102, 106], dtype=int32)>"
            ]
          },
          "metadata": {
            "tags": []
          },
          "execution_count": 27
        }
      ]
    },
    {
      "cell_type": "code",
      "metadata": {
        "id": "IyXEgUIDa5uJ"
      },
      "source": [
        "X_train = X[:40]\n",
        "X_test = X[40:]"
      ],
      "execution_count": 28,
      "outputs": []
    },
    {
      "cell_type": "code",
      "metadata": {
        "colab": {
          "base_uri": "https://localhost:8080/"
        },
        "id": "vM6QVsH8bigS",
        "outputId": "15166f14-660c-4f68-cf0c-04af7e458ea5"
      },
      "source": [
        "X_train, X_test"
      ],
      "execution_count": 29,
      "outputs": [
        {
          "output_type": "execute_result",
          "data": {
            "text/plain": [
              "(<tf.Tensor: shape=(40,), dtype=int32, numpy=\n",
              " array([-100,  -96,  -92,  -88,  -84,  -80,  -76,  -72,  -68,  -64,  -60,\n",
              "         -56,  -52,  -48,  -44,  -40,  -36,  -32,  -28,  -24,  -20,  -16,\n",
              "         -12,   -8,   -4,    0,    4,    8,   12,   16,   20,   24,   28,\n",
              "          32,   36,   40,   44,   48,   52,   56], dtype=int32)>,\n",
              " <tf.Tensor: shape=(10,), dtype=int32, numpy=array([60, 64, 68, 72, 76, 80, 84, 88, 92, 96], dtype=int32)>)"
            ]
          },
          "metadata": {
            "tags": []
          },
          "execution_count": 29
        }
      ]
    },
    {
      "cell_type": "code",
      "metadata": {
        "id": "_LekoAbJcK04"
      },
      "source": [
        "y_train = y[:40]\n",
        "y_test = y[40:]"
      ],
      "execution_count": 30,
      "outputs": []
    },
    {
      "cell_type": "code",
      "metadata": {
        "colab": {
          "base_uri": "https://localhost:8080/",
          "height": 283
        },
        "id": "6WAC1YuCcTcv",
        "outputId": "f7292422-76d4-461b-d0a6-4385dcf246f5"
      },
      "source": [
        "plt.scatter(X, y)"
      ],
      "execution_count": 31,
      "outputs": [
        {
          "output_type": "execute_result",
          "data": {
            "text/plain": [
              "<matplotlib.collections.PathCollection at 0x7f8c5d722690>"
            ]
          },
          "metadata": {
            "tags": []
          },
          "execution_count": 31
        },
        {
          "output_type": "display_data",
          "data": {
            "image/png": "[encoded data removed]",
            "text/plain": [
              "<Figure size 432x288 with 1 Axes>"
            ]
          },
          "metadata": {
            "tags": [],
            "needs_background": "light"
          }
        }
      ]
    },
    {
      "cell_type": "markdown",
      "metadata": {
        "id": "Mu3aT2RdeH0K"
      },
      "source": [
        "## MODEL 1"
      ]
    },
    {
      "cell_type": "code",
      "metadata": {
        "colab": {
          "base_uri": "https://localhost:8080/"
        },
        "id": "XnomZ6kZcXVz",
        "outputId": "e7b7b71f-9fd0-4272-b8ff-30279f519fb1"
      },
      "source": [
        "# 1. Creating a model \n",
        "model_1 = tf.keras.Sequential([\n",
        "   tf.keras.layers.Dense(100, activation=\"relu\"),\n",
        "   tf.keras.layers.Dense(100, activation=\"relu\"),\n",
        "   tf.keras.layers.Dense(1)                            \n",
        "])\n",
        "\n",
        "# 2. Compiling a model\n",
        "model_1.compile(loss=tf.keras.losses.mae,\n",
        "                optimizer=tf.keras.optimizers.Adam(lr=0.01),\n",
        "                metrics=[\"mae\"])\n",
        "\n",
        "# 3. Model fitting\n",
        "model_1.fit(X_train, y_train, epochs=200)"
      ],
      "execution_count": 32,
      "outputs": [
        {
          "output_type": "stream",
          "text": [
            "/usr/local/lib/python3.7/dist-packages/tensorflow/python/keras/optimizer_v2/optimizer_v2.py:375: UserWarning: The `lr` argument is deprecated, use `learning_rate` instead.\n",
            "  \"The `lr` argument is deprecated, use `learning_rate` instead.\")\n"
          ],
          "name": "stderr"
        },
        {
          "output_type": "stream",
          "text": [
            "Epoch 1/200\n",
            "2/2 [==============================] - 0s 7ms/step - loss: 33.4998 - mae: 33.4998\n",
            "Epoch 2/200\n",
            "2/2 [==============================] - 0s 8ms/step - loss: 14.6662 - mae: 14.6662\n",
            "Epoch 3/200\n",
            "2/2 [==============================] - 0s 8ms/step - loss: 5.7571 - mae: 5.7571\n",
            "Epoch 4/200\n",
            "2/2 [==============================] - 0s 8ms/step - loss: 10.2666 - mae: 10.2666\n",
            "Epoch 5/200\n",
            "2/2 [==============================] - 0s 7ms/step - loss: 5.4345 - mae: 5.4345\n",
            "Epoch 6/200\n",
            "2/2 [==============================] - 0s 7ms/step - loss: 5.8424 - mae: 5.8424\n",
            "Epoch 7/200\n",
            "2/2 [==============================] - 0s 9ms/step - loss: 6.5238 - mae: 6.5238\n",
            "Epoch 8/200\n",
            "2/2 [==============================] - 0s 8ms/step - loss: 7.8366 - mae: 7.8366\n",
            "Epoch 9/200\n",
            "2/2 [==============================] - 0s 5ms/step - loss: 4.4315 - mae: 4.4315\n",
            "Epoch 10/200\n",
            "2/2 [==============================] - 0s 7ms/step - loss: 6.9566 - mae: 6.9566\n",
            "Epoch 11/200\n",
            "2/2 [==============================] - 0s 7ms/step - loss: 6.9313 - mae: 6.9313\n",
            "Epoch 12/200\n",
            "2/2 [==============================] - 0s 7ms/step - loss: 7.5538 - mae: 7.5538\n",
            "Epoch 13/200\n",
            "2/2 [==============================] - 0s 14ms/step - loss: 5.2471 - mae: 5.2471\n",
            "Epoch 14/200\n",
            "2/2 [==============================] - 0s 6ms/step - loss: 6.1510 - mae: 6.1510\n",
            "Epoch 15/200\n",
            "2/2 [==============================] - 0s 8ms/step - loss: 7.6283 - mae: 7.6283\n",
            "Epoch 16/200\n",
            "2/2 [==============================] - 0s 6ms/step - loss: 4.8112 - mae: 4.8112\n",
            "Epoch 17/200\n",
            "2/2 [==============================] - 0s 7ms/step - loss: 4.5546 - mae: 4.5546\n",
            "Epoch 18/200\n",
            "2/2 [==============================] - 0s 4ms/step - loss: 4.6694 - mae: 4.6694\n",
            "Epoch 19/200\n",
            "2/2 [==============================] - 0s 6ms/step - loss: 4.9823 - mae: 4.9823\n",
            "Epoch 20/200\n",
            "2/2 [==============================] - 0s 6ms/step - loss: 3.9814 - mae: 3.9814\n",
            "Epoch 21/200\n",
            "2/2 [==============================] - 0s 9ms/step - loss: 4.2304 - mae: 4.2304\n",
            "Epoch 22/200\n",
            "2/2 [==============================] - 0s 9ms/step - loss: 4.3159 - mae: 4.3159\n",
            "Epoch 23/200\n",
            "2/2 [==============================] - 0s 9ms/step - loss: 3.8669 - mae: 3.8669\n",
            "Epoch 24/200\n",
            "2/2 [==============================] - 0s 9ms/step - loss: 4.7890 - mae: 4.7890\n",
            "Epoch 25/200\n",
            "2/2 [==============================] - 0s 10ms/step - loss: 3.7393 - mae: 3.7393\n",
            "Epoch 26/200\n",
            "2/2 [==============================] - 0s 9ms/step - loss: 3.3427 - mae: 3.3427\n",
            "Epoch 27/200\n",
            "2/2 [==============================] - 0s 6ms/step - loss: 3.7530 - mae: 3.7530\n",
            "Epoch 28/200\n",
            "2/2 [==============================] - 0s 10ms/step - loss: 3.4674 - mae: 3.4674\n",
            "Epoch 29/200\n",
            "2/2 [==============================] - 0s 6ms/step - loss: 3.2236 - mae: 3.2236\n",
            "Epoch 30/200\n",
            "2/2 [==============================] - 0s 4ms/step - loss: 3.0503 - mae: 3.0503\n",
            "Epoch 31/200\n",
            "2/2 [==============================] - 0s 4ms/step - loss: 3.1492 - mae: 3.1492\n",
            "Epoch 32/200\n",
            "2/2 [==============================] - 0s 5ms/step - loss: 3.0918 - mae: 3.0918\n",
            "Epoch 33/200\n",
            "2/2 [==============================] - 0s 7ms/step - loss: 4.2897 - mae: 4.2897\n",
            "Epoch 34/200\n",
            "2/2 [==============================] - 0s 4ms/step - loss: 5.1382 - mae: 5.1382\n",
            "Epoch 35/200\n",
            "2/2 [==============================] - 0s 5ms/step - loss: 2.7321 - mae: 2.7321\n",
            "Epoch 36/200\n",
            "2/2 [==============================] - 0s 4ms/step - loss: 3.7811 - mae: 3.7811\n",
            "Epoch 37/200\n",
            "2/2 [==============================] - 0s 5ms/step - loss: 3.4870 - mae: 3.4870\n",
            "Epoch 38/200\n",
            "2/2 [==============================] - 0s 5ms/step - loss: 4.0065 - mae: 4.0065\n",
            "Epoch 39/200\n",
            "2/2 [==============================] - 0s 5ms/step - loss: 2.8087 - mae: 2.8087\n",
            "Epoch 40/200\n",
            "2/2 [==============================] - 0s 5ms/step - loss: 5.5579 - mae: 5.5579\n",
            "Epoch 41/200\n",
            "2/2 [==============================] - 0s 5ms/step - loss: 3.4942 - mae: 3.4942\n",
            "Epoch 42/200\n",
            "2/2 [==============================] - 0s 6ms/step - loss: 4.5331 - mae: 4.5331\n",
            "Epoch 43/200\n",
            "2/2 [==============================] - 0s 5ms/step - loss: 3.2288 - mae: 3.2288\n",
            "Epoch 44/200\n",
            "2/2 [==============================] - 0s 7ms/step - loss: 2.7930 - mae: 2.7930\n",
            "Epoch 45/200\n",
            "2/2 [==============================] - 0s 5ms/step - loss: 2.2368 - mae: 2.2368\n",
            "Epoch 46/200\n",
            "2/2 [==============================] - 0s 8ms/step - loss: 2.5162 - mae: 2.5162\n",
            "Epoch 47/200\n",
            "2/2 [==============================] - 0s 6ms/step - loss: 1.8075 - mae: 1.8075\n",
            "Epoch 48/200\n",
            "2/2 [==============================] - 0s 16ms/step - loss: 1.7967 - mae: 1.7967\n",
            "Epoch 49/200\n",
            "2/2 [==============================] - 0s 6ms/step - loss: 3.5144 - mae: 3.5144\n",
            "Epoch 50/200\n",
            "2/2 [==============================] - 0s 8ms/step - loss: 1.4333 - mae: 1.4333\n",
            "Epoch 51/200\n",
            "2/2 [==============================] - 0s 16ms/step - loss: 2.2264 - mae: 2.2264\n",
            "Epoch 52/200\n",
            "2/2 [==============================] - 0s 5ms/step - loss: 2.5455 - mae: 2.5455\n",
            "Epoch 53/200\n",
            "2/2 [==============================] - 0s 5ms/step - loss: 3.7465 - mae: 3.7465\n",
            "Epoch 54/200\n",
            "2/2 [==============================] - 0s 6ms/step - loss: 2.7280 - mae: 2.7280\n",
            "Epoch 55/200\n",
            "2/2 [==============================] - 0s 8ms/step - loss: 4.5768 - mae: 4.5768\n",
            "Epoch 56/200\n",
            "2/2 [==============================] - 0s 10ms/step - loss: 4.3048 - mae: 4.3048\n",
            "Epoch 57/200\n",
            "2/2 [==============================] - 0s 5ms/step - loss: 3.1470 - mae: 3.1470\n",
            "Epoch 58/200\n",
            "2/2 [==============================] - 0s 6ms/step - loss: 4.4435 - mae: 4.4435\n",
            "Epoch 59/200\n",
            "2/2 [==============================] - 0s 4ms/step - loss: 1.3467 - mae: 1.3467\n",
            "Epoch 60/200\n",
            "2/2 [==============================] - 0s 9ms/step - loss: 2.1156 - mae: 2.1156\n",
            "Epoch 61/200\n",
            "2/2 [==============================] - 0s 5ms/step - loss: 1.7453 - mae: 1.7453\n",
            "Epoch 62/200\n",
            "2/2 [==============================] - 0s 7ms/step - loss: 0.8955 - mae: 0.8955\n",
            "Epoch 63/200\n",
            "2/2 [==============================] - 0s 6ms/step - loss: 1.7791 - mae: 1.7791\n",
            "Epoch 64/200\n",
            "2/2 [==============================] - 0s 6ms/step - loss: 1.5303 - mae: 1.5303\n",
            "Epoch 65/200\n",
            "2/2 [==============================] - 0s 6ms/step - loss: 2.5697 - mae: 2.5697\n",
            "Epoch 66/200\n",
            "2/2 [==============================] - 0s 7ms/step - loss: 4.5673 - mae: 4.5673\n",
            "Epoch 67/200\n",
            "2/2 [==============================] - 0s 9ms/step - loss: 2.4660 - mae: 2.4660\n",
            "Epoch 68/200\n",
            "2/2 [==============================] - 0s 5ms/step - loss: 2.2682 - mae: 2.2682\n",
            "Epoch 69/200\n",
            "2/2 [==============================] - 0s 5ms/step - loss: 2.6227 - mae: 2.6227\n",
            "Epoch 70/200\n",
            "2/2 [==============================] - 0s 4ms/step - loss: 1.8975 - mae: 1.8975\n",
            "Epoch 71/200\n",
            "2/2 [==============================] - 0s 7ms/step - loss: 1.3195 - mae: 1.3195\n",
            "Epoch 72/200\n",
            "2/2 [==============================] - 0s 6ms/step - loss: 1.1433 - mae: 1.1433\n",
            "Epoch 73/200\n",
            "2/2 [==============================] - 0s 14ms/step - loss: 1.5640 - mae: 1.5640\n",
            "Epoch 74/200\n",
            "2/2 [==============================] - 0s 5ms/step - loss: 0.9789 - mae: 0.9789\n",
            "Epoch 75/200\n",
            "2/2 [==============================] - 0s 5ms/step - loss: 1.0397 - mae: 1.0397\n",
            "Epoch 76/200\n",
            "2/2 [==============================] - 0s 8ms/step - loss: 1.5036 - mae: 1.5036\n",
            "Epoch 77/200\n",
            "2/2 [==============================] - 0s 10ms/step - loss: 1.7913 - mae: 1.7913\n",
            "Epoch 78/200\n",
            "2/2 [==============================] - 0s 5ms/step - loss: 1.0374 - mae: 1.0374\n",
            "Epoch 79/200\n",
            "2/2 [==============================] - 0s 7ms/step - loss: 2.5242 - mae: 2.5242\n",
            "Epoch 80/200\n",
            "2/2 [==============================] - 0s 5ms/step - loss: 1.0206 - mae: 1.0206\n",
            "Epoch 81/200\n",
            "2/2 [==============================] - 0s 10ms/step - loss: 0.9791 - mae: 0.9791\n",
            "Epoch 82/200\n",
            "2/2 [==============================] - 0s 5ms/step - loss: 1.5257 - mae: 1.5257\n",
            "Epoch 83/200\n",
            "2/2 [==============================] - 0s 5ms/step - loss: 0.4607 - mae: 0.4607\n",
            "Epoch 84/200\n",
            "2/2 [==============================] - 0s 6ms/step - loss: 0.5927 - mae: 0.5927\n",
            "Epoch 85/200\n",
            "2/2 [==============================] - 0s 5ms/step - loss: 0.7238 - mae: 0.7238\n",
            "Epoch 86/200\n",
            "2/2 [==============================] - 0s 5ms/step - loss: 0.7476 - mae: 0.7476\n",
            "Epoch 87/200\n",
            "2/2 [==============================] - 0s 12ms/step - loss: 0.6609 - mae: 0.6609\n",
            "Epoch 88/200\n",
            "2/2 [==============================] - 0s 6ms/step - loss: 0.3275 - mae: 0.3275\n",
            "Epoch 89/200\n",
            "2/2 [==============================] - 0s 5ms/step - loss: 1.3446 - mae: 1.3446\n",
            "Epoch 90/200\n",
            "2/2 [==============================] - 0s 5ms/step - loss: 0.7690 - mae: 0.7690\n",
            "Epoch 91/200\n",
            "2/2 [==============================] - 0s 5ms/step - loss: 2.8775 - mae: 2.8775\n",
            "Epoch 92/200\n",
            "2/2 [==============================] - 0s 5ms/step - loss: 0.7588 - mae: 0.7588\n",
            "Epoch 93/200\n",
            "2/2 [==============================] - 0s 6ms/step - loss: 5.1250 - mae: 5.1250\n",
            "Epoch 94/200\n",
            "2/2 [==============================] - 0s 8ms/step - loss: 3.9512 - mae: 3.9512\n",
            "Epoch 95/200\n",
            "2/2 [==============================] - 0s 9ms/step - loss: 2.1860 - mae: 2.1860\n",
            "Epoch 96/200\n",
            "2/2 [==============================] - 0s 5ms/step - loss: 3.5597 - mae: 3.5597\n",
            "Epoch 97/200\n",
            "2/2 [==============================] - 0s 13ms/step - loss: 1.3250 - mae: 1.3250\n",
            "Epoch 98/200\n",
            "2/2 [==============================] - 0s 5ms/step - loss: 4.0799 - mae: 4.0799\n",
            "Epoch 99/200\n",
            "2/2 [==============================] - 0s 7ms/step - loss: 3.0083 - mae: 3.0083\n",
            "Epoch 100/200\n",
            "2/2 [==============================] - 0s 13ms/step - loss: 2.4633 - mae: 2.4633\n",
            "Epoch 101/200\n",
            "2/2 [==============================] - 0s 11ms/step - loss: 3.7092 - mae: 3.7092\n",
            "Epoch 102/200\n",
            "2/2 [==============================] - 0s 4ms/step - loss: 1.7028 - mae: 1.7028\n",
            "Epoch 103/200\n",
            "2/2 [==============================] - 0s 10ms/step - loss: 3.7462 - mae: 3.7462\n",
            "Epoch 104/200\n",
            "2/2 [==============================] - 0s 4ms/step - loss: 3.5765 - mae: 3.5765\n",
            "Epoch 105/200\n",
            "2/2 [==============================] - 0s 9ms/step - loss: 0.6709 - mae: 0.6709\n",
            "Epoch 106/200\n",
            "2/2 [==============================] - 0s 5ms/step - loss: 2.5038 - mae: 2.5038\n",
            "Epoch 107/200\n",
            "2/2 [==============================] - 0s 10ms/step - loss: 1.0662 - mae: 1.0662\n",
            "Epoch 108/200\n",
            "2/2 [==============================] - 0s 7ms/step - loss: 3.2977 - mae: 3.2977\n",
            "Epoch 109/200\n",
            "2/2 [==============================] - 0s 11ms/step - loss: 1.7277 - mae: 1.7277\n",
            "Epoch 110/200\n",
            "2/2 [==============================] - 0s 8ms/step - loss: 1.7222 - mae: 1.7222\n",
            "Epoch 111/200\n",
            "2/2 [==============================] - 0s 4ms/step - loss: 2.4556 - mae: 2.4556\n",
            "Epoch 112/200\n",
            "2/2 [==============================] - 0s 4ms/step - loss: 1.2323 - mae: 1.2323\n",
            "Epoch 113/200\n",
            "2/2 [==============================] - 0s 3ms/step - loss: 2.3107 - mae: 2.3107\n",
            "Epoch 114/200\n",
            "2/2 [==============================] - 0s 5ms/step - loss: 1.1657 - mae: 1.1657\n",
            "Epoch 115/200\n",
            "2/2 [==============================] - 0s 6ms/step - loss: 0.5163 - mae: 0.5163\n",
            "Epoch 116/200\n",
            "2/2 [==============================] - 0s 11ms/step - loss: 0.9971 - mae: 0.9971\n",
            "Epoch 117/200\n",
            "2/2 [==============================] - 0s 4ms/step - loss: 0.5883 - mae: 0.5883\n",
            "Epoch 118/200\n",
            "2/2 [==============================] - 0s 4ms/step - loss: 1.3641 - mae: 1.3641\n",
            "Epoch 119/200\n",
            "2/2 [==============================] - 0s 6ms/step - loss: 1.2354 - mae: 1.2354\n",
            "Epoch 120/200\n",
            "2/2 [==============================] - 0s 8ms/step - loss: 2.1195 - mae: 2.1195\n",
            "Epoch 121/200\n",
            "2/2 [==============================] - 0s 8ms/step - loss: 1.5836 - mae: 1.5836\n",
            "Epoch 122/200\n",
            "2/2 [==============================] - 0s 4ms/step - loss: 1.6398 - mae: 1.6398\n",
            "Epoch 123/200\n",
            "2/2 [==============================] - 0s 4ms/step - loss: 1.2508 - mae: 1.2508\n",
            "Epoch 124/200\n",
            "2/2 [==============================] - 0s 5ms/step - loss: 1.4922 - mae: 1.4922\n",
            "Epoch 125/200\n",
            "2/2 [==============================] - 0s 5ms/step - loss: 1.3658 - mae: 1.3658\n",
            "Epoch 126/200\n",
            "2/2 [==============================] - 0s 9ms/step - loss: 1.2253 - mae: 1.2253\n",
            "Epoch 127/200\n",
            "2/2 [==============================] - 0s 5ms/step - loss: 1.1196 - mae: 1.1196\n",
            "Epoch 128/200\n",
            "2/2 [==============================] - 0s 5ms/step - loss: 0.9335 - mae: 0.9335\n",
            "Epoch 129/200\n",
            "2/2 [==============================] - 0s 4ms/step - loss: 0.8113 - mae: 0.8113\n",
            "Epoch 130/200\n",
            "2/2 [==============================] - 0s 10ms/step - loss: 1.0733 - mae: 1.0733\n",
            "Epoch 131/200\n",
            "2/2 [==============================] - 0s 4ms/step - loss: 1.8052 - mae: 1.8052\n",
            "Epoch 132/200\n",
            "2/2 [==============================] - 0s 4ms/step - loss: 2.5612 - mae: 2.5612\n",
            "Epoch 133/200\n",
            "2/2 [==============================] - 0s 4ms/step - loss: 1.4219 - mae: 1.4219\n",
            "Epoch 134/200\n",
            "2/2 [==============================] - 0s 7ms/step - loss: 1.4680 - mae: 1.4680\n",
            "Epoch 135/200\n",
            "2/2 [==============================] - 0s 5ms/step - loss: 1.8870 - mae: 1.8870\n",
            "Epoch 136/200\n",
            "2/2 [==============================] - 0s 4ms/step - loss: 2.2592 - mae: 2.2592\n",
            "Epoch 137/200\n",
            "2/2 [==============================] - 0s 7ms/step - loss: 1.9956 - mae: 1.9956\n",
            "Epoch 138/200\n",
            "2/2 [==============================] - 0s 5ms/step - loss: 3.0650 - mae: 3.0650\n",
            "Epoch 139/200\n",
            "2/2 [==============================] - 0s 6ms/step - loss: 1.0014 - mae: 1.0014\n",
            "Epoch 140/200\n",
            "2/2 [==============================] - 0s 9ms/step - loss: 3.2610 - mae: 3.2610\n",
            "Epoch 141/200\n",
            "2/2 [==============================] - 0s 6ms/step - loss: 1.6062 - mae: 1.6062\n",
            "Epoch 142/200\n",
            "2/2 [==============================] - 0s 7ms/step - loss: 1.2257 - mae: 1.2257\n",
            "Epoch 143/200\n",
            "2/2 [==============================] - 0s 18ms/step - loss: 0.8448 - mae: 0.8448\n",
            "Epoch 144/200\n",
            "2/2 [==============================] - 0s 8ms/step - loss: 1.0984 - mae: 1.0984\n",
            "Epoch 145/200\n",
            "2/2 [==============================] - 0s 13ms/step - loss: 2.4422 - mae: 2.4422\n",
            "Epoch 146/200\n",
            "2/2 [==============================] - 0s 7ms/step - loss: 2.6819 - mae: 2.6819\n",
            "Epoch 147/200\n",
            "2/2 [==============================] - 0s 5ms/step - loss: 2.7767 - mae: 2.7767\n",
            "Epoch 148/200\n",
            "2/2 [==============================] - 0s 3ms/step - loss: 1.4457 - mae: 1.4457\n",
            "Epoch 149/200\n",
            "2/2 [==============================] - 0s 14ms/step - loss: 2.2885 - mae: 2.2885\n",
            "Epoch 150/200\n",
            "2/2 [==============================] - 0s 6ms/step - loss: 2.1808 - mae: 2.1808\n",
            "Epoch 151/200\n",
            "2/2 [==============================] - 0s 5ms/step - loss: 1.7162 - mae: 1.7162\n",
            "Epoch 152/200\n",
            "2/2 [==============================] - 0s 5ms/step - loss: 2.5100 - mae: 2.5100\n",
            "Epoch 153/200\n",
            "2/2 [==============================] - 0s 11ms/step - loss: 3.0009 - mae: 3.0009\n",
            "Epoch 154/200\n",
            "2/2 [==============================] - 0s 4ms/step - loss: 1.3393 - mae: 1.3393\n",
            "Epoch 155/200\n",
            "2/2 [==============================] - 0s 5ms/step - loss: 1.4204 - mae: 1.4204\n",
            "Epoch 156/200\n",
            "2/2 [==============================] - 0s 9ms/step - loss: 0.8329 - mae: 0.8329\n",
            "Epoch 157/200\n",
            "2/2 [==============================] - 0s 8ms/step - loss: 0.8151 - mae: 0.8151\n",
            "Epoch 158/200\n",
            "2/2 [==============================] - 0s 6ms/step - loss: 0.4740 - mae: 0.4740\n",
            "Epoch 159/200\n",
            "2/2 [==============================] - 0s 6ms/step - loss: 0.5993 - mae: 0.5993\n",
            "Epoch 160/200\n",
            "2/2 [==============================] - 0s 7ms/step - loss: 0.8892 - mae: 0.8892\n",
            "Epoch 161/200\n",
            "2/2 [==============================] - 0s 5ms/step - loss: 1.3737 - mae: 1.3737\n",
            "Epoch 162/200\n",
            "2/2 [==============================] - 0s 6ms/step - loss: 1.3816 - mae: 1.3816\n",
            "Epoch 163/200\n",
            "2/2 [==============================] - 0s 12ms/step - loss: 0.4873 - mae: 0.4873\n",
            "Epoch 164/200\n",
            "2/2 [==============================] - 0s 10ms/step - loss: 2.6898 - mae: 2.6898\n",
            "Epoch 165/200\n",
            "2/2 [==============================] - 0s 9ms/step - loss: 2.1343 - mae: 2.1343\n",
            "Epoch 166/200\n",
            "2/2 [==============================] - 0s 8ms/step - loss: 2.5751 - mae: 2.5751\n",
            "Epoch 167/200\n",
            "2/2 [==============================] - 0s 11ms/step - loss: 3.2341 - mae: 3.2341\n",
            "Epoch 168/200\n",
            "2/2 [==============================] - 0s 4ms/step - loss: 1.3389 - mae: 1.3389\n",
            "Epoch 169/200\n",
            "2/2 [==============================] - 0s 5ms/step - loss: 3.1156 - mae: 3.1156\n",
            "Epoch 170/200\n",
            "2/2 [==============================] - 0s 5ms/step - loss: 3.9627 - mae: 3.9627\n",
            "Epoch 171/200\n",
            "2/2 [==============================] - 0s 7ms/step - loss: 2.9557 - mae: 2.9557\n",
            "Epoch 172/200\n",
            "2/2 [==============================] - 0s 5ms/step - loss: 2.7741 - mae: 2.7741\n",
            "Epoch 173/200\n",
            "2/2 [==============================] - 0s 8ms/step - loss: 1.7854 - mae: 1.7854\n",
            "Epoch 174/200\n",
            "2/2 [==============================] - 0s 5ms/step - loss: 2.7852 - mae: 2.7852\n",
            "Epoch 175/200\n",
            "2/2 [==============================] - 0s 6ms/step - loss: 1.6089 - mae: 1.6089\n",
            "Epoch 176/200\n",
            "2/2 [==============================] - 0s 5ms/step - loss: 1.1539 - mae: 1.1539\n",
            "Epoch 177/200\n",
            "2/2 [==============================] - 0s 9ms/step - loss: 1.7511 - mae: 1.7511\n",
            "Epoch 178/200\n",
            "2/2 [==============================] - 0s 5ms/step - loss: 1.5213 - mae: 1.5213\n",
            "Epoch 179/200\n",
            "2/2 [==============================] - 0s 5ms/step - loss: 0.4070 - mae: 0.4070\n",
            "Epoch 180/200\n",
            "2/2 [==============================] - 0s 9ms/step - loss: 0.7122 - mae: 0.7122\n",
            "Epoch 181/200\n",
            "2/2 [==============================] - 0s 5ms/step - loss: 1.0361 - mae: 1.0361\n",
            "Epoch 182/200\n",
            "2/2 [==============================] - 0s 6ms/step - loss: 1.0402 - mae: 1.0402\n",
            "Epoch 183/200\n",
            "2/2 [==============================] - 0s 9ms/step - loss: 0.8103 - mae: 0.8103\n",
            "Epoch 184/200\n",
            "2/2 [==============================] - 0s 5ms/step - loss: 1.1456 - mae: 1.1456\n",
            "Epoch 185/200\n",
            "2/2 [==============================] - 0s 5ms/step - loss: 2.6328 - mae: 2.6328\n",
            "Epoch 186/200\n",
            "2/2 [==============================] - 0s 8ms/step - loss: 0.6912 - mae: 0.6912\n",
            "Epoch 187/200\n",
            "2/2 [==============================] - 0s 5ms/step - loss: 3.9797 - mae: 3.9797\n",
            "Epoch 188/200\n",
            "2/2 [==============================] - 0s 5ms/step - loss: 3.8691 - mae: 3.8691\n",
            "Epoch 189/200\n",
            "2/2 [==============================] - 0s 8ms/step - loss: 1.5077 - mae: 1.5077\n",
            "Epoch 190/200\n",
            "2/2 [==============================] - 0s 6ms/step - loss: 4.3976 - mae: 4.3976\n",
            "Epoch 191/200\n",
            "2/2 [==============================] - 0s 6ms/step - loss: 3.6373 - mae: 3.6373\n",
            "Epoch 192/200\n",
            "2/2 [==============================] - 0s 5ms/step - loss: 2.1293 - mae: 2.1293\n",
            "Epoch 193/200\n",
            "2/2 [==============================] - 0s 8ms/step - loss: 3.2316 - mae: 3.2316\n",
            "Epoch 194/200\n",
            "2/2 [==============================] - 0s 7ms/step - loss: 1.7595 - mae: 1.7595\n",
            "Epoch 195/200\n",
            "2/2 [==============================] - 0s 5ms/step - loss: 1.8424 - mae: 1.8424\n",
            "Epoch 196/200\n",
            "2/2 [==============================] - 0s 6ms/step - loss: 1.7401 - mae: 1.7401\n",
            "Epoch 197/200\n",
            "2/2 [==============================] - 0s 5ms/step - loss: 1.1691 - mae: 1.1691\n",
            "Epoch 198/200\n",
            "2/2 [==============================] - 0s 7ms/step - loss: 1.0087 - mae: 1.0087\n",
            "Epoch 199/200\n",
            "2/2 [==============================] - 0s 7ms/step - loss: 1.4872 - mae: 1.4872\n",
            "Epoch 200/200\n",
            "2/2 [==============================] - 0s 6ms/step - loss: 0.9445 - mae: 0.9445\n"
          ],
          "name": "stdout"
        },
        {
          "output_type": "execute_result",
          "data": {
            "text/plain": [
              "<tensorflow.python.keras.callbacks.History at 0x7f8c5d8365d0>"
            ]
          },
          "metadata": {
            "tags": []
          },
          "execution_count": 32
        }
      ]
    },
    {
      "cell_type": "code",
      "metadata": {
        "colab": {
          "base_uri": "https://localhost:8080/"
        },
        "id": "GFCrWcQvdSjd",
        "outputId": "1fc49784-2928-470d-f9f2-c12f0f5c1d76"
      },
      "source": [
        "model_1.summary() "
      ],
      "execution_count": 33,
      "outputs": [
        {
          "output_type": "stream",
          "text": [
            "Model: \"sequential_3\"\n",
            "_________________________________________________________________\n",
            "Layer (type)                 Output Shape              Param #   \n",
            "=================================================================\n",
            "dense_9 (Dense)              (None, 100)               200       \n",
            "_________________________________________________________________\n",
            "dense_10 (Dense)             (None, 100)               10100     \n",
            "_________________________________________________________________\n",
            "dense_11 (Dense)             (None, 1)                 101       \n",
            "=================================================================\n",
            "Total params: 10,401\n",
            "Trainable params: 10,401\n",
            "Non-trainable params: 0\n",
            "_________________________________________________________________\n"
          ],
          "name": "stdout"
        }
      ]
    },
    {
      "cell_type": "markdown",
      "metadata": {
        "id": "Ld-xDahZeOnD"
      },
      "source": [
        "## MODEL 2"
      ]
    },
    {
      "cell_type": "code",
      "metadata": {
        "colab": {
          "base_uri": "https://localhost:8080/"
        },
        "id": "u259YMr6eBDv",
        "outputId": "4c7bf727-f444-4b96-9beb-40c16d197bd5"
      },
      "source": [
        "# 1. Creating a model\n",
        "model_2 = tf.keras.Sequential([\n",
        "  tf.keras.layers.Dense(100, activation=\"relu\"),\n",
        "  tf.keras.layers.Dense(50, activation=\"relu\"),\n",
        "  tf.keras.layers.Dense(1)\n",
        "])\n",
        "\n",
        "#2. COmppiling the model\n",
        "model_2.compile(loss=tf.keras.losses.mae,\n",
        "                optimizer=tf.keras.optimizers.Adam(lr=0.01),\n",
        "                metrics=[\"mae\"])\n",
        "\n",
        "#3. Fitting the model\n",
        "model_2.fit(X_train, y_train, epochs=210)"
      ],
      "execution_count": 34,
      "outputs": [
        {
          "output_type": "stream",
          "text": [
            "Epoch 1/210\n"
          ],
          "name": "stdout"
        },
        {
          "output_type": "stream",
          "text": [
            "/usr/local/lib/python3.7/dist-packages/tensorflow/python/keras/optimizer_v2/optimizer_v2.py:375: UserWarning: The `lr` argument is deprecated, use `learning_rate` instead.\n",
            "  \"The `lr` argument is deprecated, use `learning_rate` instead.\")\n"
          ],
          "name": "stderr"
        },
        {
          "output_type": "stream",
          "text": [
            "2/2 [==============================] - 0s 8ms/step - loss: 40.9351 - mae: 40.9351\n",
            "Epoch 2/210\n",
            "2/2 [==============================] - 0s 6ms/step - loss: 19.7538 - mae: 19.7538\n",
            "Epoch 3/210\n",
            "2/2 [==============================] - 0s 5ms/step - loss: 6.8715 - mae: 6.8715\n",
            "Epoch 4/210\n",
            "2/2 [==============================] - 0s 3ms/step - loss: 11.5456 - mae: 11.5456\n",
            "Epoch 5/210\n",
            "2/2 [==============================] - 0s 7ms/step - loss: 7.8229 - mae: 7.8229\n",
            "Epoch 6/210\n",
            "2/2 [==============================] - 0s 7ms/step - loss: 8.5973 - mae: 8.5973\n",
            "Epoch 7/210\n",
            "2/2 [==============================] - 0s 7ms/step - loss: 5.6946 - mae: 5.6946\n",
            "Epoch 8/210\n",
            "2/2 [==============================] - 0s 9ms/step - loss: 5.0799 - mae: 5.0799\n",
            "Epoch 9/210\n",
            "2/2 [==============================] - 0s 4ms/step - loss: 5.5372 - mae: 5.5372\n",
            "Epoch 10/210\n",
            "2/2 [==============================] - 0s 4ms/step - loss: 6.2204 - mae: 6.2204\n",
            "Epoch 11/210\n",
            "2/2 [==============================] - 0s 5ms/step - loss: 4.3710 - mae: 4.3710\n",
            "Epoch 12/210\n",
            "2/2 [==============================] - 0s 4ms/step - loss: 4.5278 - mae: 4.5278\n",
            "Epoch 13/210\n",
            "2/2 [==============================] - 0s 6ms/step - loss: 4.8974 - mae: 4.8974\n",
            "Epoch 14/210\n",
            "2/2 [==============================] - 0s 6ms/step - loss: 5.8988 - mae: 5.8988\n",
            "Epoch 15/210\n",
            "2/2 [==============================] - 0s 5ms/step - loss: 5.0977 - mae: 5.0977\n",
            "Epoch 16/210\n",
            "2/2 [==============================] - 0s 10ms/step - loss: 5.0082 - mae: 5.0082\n",
            "Epoch 17/210\n",
            "2/2 [==============================] - 0s 8ms/step - loss: 5.9184 - mae: 5.9184\n",
            "Epoch 18/210\n",
            "2/2 [==============================] - 0s 9ms/step - loss: 3.7560 - mae: 3.7560\n",
            "Epoch 19/210\n",
            "2/2 [==============================] - 0s 10ms/step - loss: 5.0354 - mae: 5.0354\n",
            "Epoch 20/210\n",
            "2/2 [==============================] - 0s 6ms/step - loss: 5.3906 - mae: 5.3906\n",
            "Epoch 21/210\n",
            "2/2 [==============================] - 0s 5ms/step - loss: 4.3119 - mae: 4.3119\n",
            "Epoch 22/210\n",
            "2/2 [==============================] - 0s 7ms/step - loss: 4.0914 - mae: 4.0914\n",
            "Epoch 23/210\n",
            "2/2 [==============================] - 0s 7ms/step - loss: 3.5067 - mae: 3.5067\n",
            "Epoch 24/210\n",
            "2/2 [==============================] - 0s 7ms/step - loss: 3.7444 - mae: 3.7444\n",
            "Epoch 25/210\n",
            "2/2 [==============================] - 0s 4ms/step - loss: 3.4558 - mae: 3.4558\n",
            "Epoch 26/210\n",
            "2/2 [==============================] - 0s 6ms/step - loss: 3.3452 - mae: 3.3452\n",
            "Epoch 27/210\n",
            "2/2 [==============================] - 0s 5ms/step - loss: 3.3669 - mae: 3.3669\n",
            "Epoch 28/210\n",
            "2/2 [==============================] - 0s 6ms/step - loss: 3.1544 - mae: 3.1544\n",
            "Epoch 29/210\n",
            "2/2 [==============================] - 0s 7ms/step - loss: 3.3645 - mae: 3.3645\n",
            "Epoch 30/210\n",
            "2/2 [==============================] - 0s 4ms/step - loss: 3.0552 - mae: 3.0552\n",
            "Epoch 31/210\n",
            "2/2 [==============================] - 0s 10ms/step - loss: 3.4643 - mae: 3.4643\n",
            "Epoch 32/210\n",
            "2/2 [==============================] - 0s 8ms/step - loss: 3.1348 - mae: 3.1348\n",
            "Epoch 33/210\n",
            "2/2 [==============================] - 0s 5ms/step - loss: 3.0246 - mae: 3.0246\n",
            "Epoch 34/210\n",
            "2/2 [==============================] - 0s 18ms/step - loss: 2.8322 - mae: 2.8322\n",
            "Epoch 35/210\n",
            "2/2 [==============================] - 0s 6ms/step - loss: 3.2354 - mae: 3.2354\n",
            "Epoch 36/210\n",
            "2/2 [==============================] - 0s 10ms/step - loss: 2.7716 - mae: 2.7716\n",
            "Epoch 37/210\n",
            "2/2 [==============================] - 0s 6ms/step - loss: 4.3061 - mae: 4.3061\n",
            "Epoch 38/210\n",
            "2/2 [==============================] - 0s 12ms/step - loss: 2.9324 - mae: 2.9324\n",
            "Epoch 39/210\n",
            "2/2 [==============================] - 0s 8ms/step - loss: 3.2347 - mae: 3.2347\n",
            "Epoch 40/210\n",
            "2/2 [==============================] - 0s 5ms/step - loss: 2.3673 - mae: 2.3673\n",
            "Epoch 41/210\n",
            "2/2 [==============================] - 0s 5ms/step - loss: 2.4462 - mae: 2.4462\n",
            "Epoch 42/210\n",
            "2/2 [==============================] - 0s 9ms/step - loss: 2.9135 - mae: 2.9135\n",
            "Epoch 43/210\n",
            "2/2 [==============================] - 0s 9ms/step - loss: 2.4955 - mae: 2.4955\n",
            "Epoch 44/210\n",
            "2/2 [==============================] - 0s 7ms/step - loss: 2.3365 - mae: 2.3365\n",
            "Epoch 45/210\n",
            "2/2 [==============================] - 0s 5ms/step - loss: 2.8339 - mae: 2.8339\n",
            "Epoch 46/210\n",
            "2/2 [==============================] - 0s 9ms/step - loss: 1.7937 - mae: 1.7937\n",
            "Epoch 47/210\n",
            "2/2 [==============================] - 0s 7ms/step - loss: 3.0757 - mae: 3.0757\n",
            "Epoch 48/210\n",
            "2/2 [==============================] - 0s 6ms/step - loss: 1.7305 - mae: 1.7305\n",
            "Epoch 49/210\n",
            "2/2 [==============================] - 0s 10ms/step - loss: 3.1400 - mae: 3.1400\n",
            "Epoch 50/210\n",
            "2/2 [==============================] - 0s 5ms/step - loss: 2.4909 - mae: 2.4909\n",
            "Epoch 51/210\n",
            "2/2 [==============================] - 0s 9ms/step - loss: 2.0234 - mae: 2.0234\n",
            "Epoch 52/210\n",
            "2/2 [==============================] - 0s 10ms/step - loss: 3.2417 - mae: 3.2417\n",
            "Epoch 53/210\n",
            "2/2 [==============================] - 0s 4ms/step - loss: 2.2664 - mae: 2.2664\n",
            "Epoch 54/210\n",
            "2/2 [==============================] - 0s 10ms/step - loss: 1.7532 - mae: 1.7532\n",
            "Epoch 55/210\n",
            "2/2 [==============================] - 0s 7ms/step - loss: 1.4831 - mae: 1.4831\n",
            "Epoch 56/210\n",
            "2/2 [==============================] - 0s 10ms/step - loss: 1.0309 - mae: 1.0309\n",
            "Epoch 57/210\n",
            "2/2 [==============================] - 0s 8ms/step - loss: 0.7118 - mae: 0.7118\n",
            "Epoch 58/210\n",
            "2/2 [==============================] - 0s 7ms/step - loss: 0.8425 - mae: 0.8425\n",
            "Epoch 59/210\n",
            "2/2 [==============================] - 0s 11ms/step - loss: 1.7186 - mae: 1.7186\n",
            "Epoch 60/210\n",
            "2/2 [==============================] - 0s 7ms/step - loss: 1.1274 - mae: 1.1274\n",
            "Epoch 61/210\n",
            "2/2 [==============================] - 0s 4ms/step - loss: 2.4831 - mae: 2.4831\n",
            "Epoch 62/210\n",
            "2/2 [==============================] - 0s 6ms/step - loss: 2.6176 - mae: 2.6176\n",
            "Epoch 63/210\n",
            "2/2 [==============================] - 0s 7ms/step - loss: 2.8625 - mae: 2.8625\n",
            "Epoch 64/210\n",
            "2/2 [==============================] - 0s 7ms/step - loss: 2.0290 - mae: 2.0290\n",
            "Epoch 65/210\n",
            "2/2 [==============================] - 0s 7ms/step - loss: 2.8852 - mae: 2.8852\n",
            "Epoch 66/210\n",
            "2/2 [==============================] - 0s 5ms/step - loss: 1.4067 - mae: 1.4067\n",
            "Epoch 67/210\n",
            "2/2 [==============================] - 0s 6ms/step - loss: 1.4066 - mae: 1.4066\n",
            "Epoch 68/210\n",
            "2/2 [==============================] - 0s 5ms/step - loss: 1.6937 - mae: 1.6937\n",
            "Epoch 69/210\n",
            "2/2 [==============================] - 0s 5ms/step - loss: 0.9554 - mae: 0.9554\n",
            "Epoch 70/210\n",
            "2/2 [==============================] - 0s 4ms/step - loss: 0.9344 - mae: 0.9344\n",
            "Epoch 71/210\n",
            "2/2 [==============================] - 0s 5ms/step - loss: 2.4489 - mae: 2.4489\n",
            "Epoch 72/210\n",
            "2/2 [==============================] - 0s 6ms/step - loss: 1.7987 - mae: 1.7987\n",
            "Epoch 73/210\n",
            "2/2 [==============================] - 0s 9ms/step - loss: 4.2098 - mae: 4.2098\n",
            "Epoch 74/210\n",
            "2/2 [==============================] - 0s 6ms/step - loss: 2.7456 - mae: 2.7456\n",
            "Epoch 75/210\n",
            "2/2 [==============================] - 0s 6ms/step - loss: 3.7931 - mae: 3.7931\n",
            "Epoch 76/210\n",
            "2/2 [==============================] - 0s 4ms/step - loss: 5.4268 - mae: 5.4268\n",
            "Epoch 77/210\n",
            "2/2 [==============================] - 0s 4ms/step - loss: 3.4310 - mae: 3.4310\n",
            "Epoch 78/210\n",
            "2/2 [==============================] - 0s 4ms/step - loss: 2.4441 - mae: 2.4441\n",
            "Epoch 79/210\n",
            "2/2 [==============================] - 0s 5ms/step - loss: 3.6209 - mae: 3.6209\n",
            "Epoch 80/210\n",
            "2/2 [==============================] - 0s 6ms/step - loss: 0.5217 - mae: 0.5217\n",
            "Epoch 81/210\n",
            "2/2 [==============================] - 0s 7ms/step - loss: 1.9092 - mae: 1.9092\n",
            "Epoch 82/210\n",
            "2/2 [==============================] - 0s 6ms/step - loss: 0.8684 - mae: 0.8684\n",
            "Epoch 83/210\n",
            "2/2 [==============================] - 0s 7ms/step - loss: 0.8802 - mae: 0.8802\n",
            "Epoch 84/210\n",
            "2/2 [==============================] - 0s 5ms/step - loss: 1.7133 - mae: 1.7133\n",
            "Epoch 85/210\n",
            "2/2 [==============================] - 0s 5ms/step - loss: 0.8196 - mae: 0.8196\n",
            "Epoch 86/210\n",
            "2/2 [==============================] - 0s 10ms/step - loss: 1.8599 - mae: 1.8599\n",
            "Epoch 87/210\n",
            "2/2 [==============================] - 0s 4ms/step - loss: 0.9053 - mae: 0.9053\n",
            "Epoch 88/210\n",
            "2/2 [==============================] - 0s 13ms/step - loss: 0.9107 - mae: 0.9107\n",
            "Epoch 89/210\n",
            "2/2 [==============================] - 0s 7ms/step - loss: 1.2858 - mae: 1.2858\n",
            "Epoch 90/210\n",
            "2/2 [==============================] - 0s 7ms/step - loss: 0.5374 - mae: 0.5374\n",
            "Epoch 91/210\n",
            "2/2 [==============================] - 0s 5ms/step - loss: 0.9030 - mae: 0.9030\n",
            "Epoch 92/210\n",
            "2/2 [==============================] - 0s 6ms/step - loss: 1.7772 - mae: 1.7772\n",
            "Epoch 93/210\n",
            "2/2 [==============================] - 0s 6ms/step - loss: 1.8618 - mae: 1.8618\n",
            "Epoch 94/210\n",
            "2/2 [==============================] - 0s 4ms/step - loss: 2.0607 - mae: 2.0607\n",
            "Epoch 95/210\n",
            "2/2 [==============================] - 0s 5ms/step - loss: 2.8777 - mae: 2.8777\n",
            "Epoch 96/210\n",
            "2/2 [==============================] - 0s 4ms/step - loss: 0.7386 - mae: 0.7386\n",
            "Epoch 97/210\n",
            "2/2 [==============================] - 0s 4ms/step - loss: 2.8049 - mae: 2.8049\n",
            "Epoch 98/210\n",
            "2/2 [==============================] - 0s 6ms/step - loss: 1.1087 - mae: 1.1087\n",
            "Epoch 99/210\n",
            "2/2 [==============================] - 0s 6ms/step - loss: 2.6545 - mae: 2.6545\n",
            "Epoch 100/210\n",
            "2/2 [==============================] - 0s 8ms/step - loss: 1.4348 - mae: 1.4348\n",
            "Epoch 101/210\n",
            "2/2 [==============================] - 0s 7ms/step - loss: 2.3339 - mae: 2.3339\n",
            "Epoch 102/210\n",
            "2/2 [==============================] - 0s 11ms/step - loss: 1.9062 - mae: 1.9062\n",
            "Epoch 103/210\n",
            "2/2 [==============================] - 0s 5ms/step - loss: 2.2477 - mae: 2.2477\n",
            "Epoch 104/210\n",
            "2/2 [==============================] - 0s 4ms/step - loss: 1.4148 - mae: 1.4148\n",
            "Epoch 105/210\n",
            "2/2 [==============================] - 0s 6ms/step - loss: 2.0923 - mae: 2.0923\n",
            "Epoch 106/210\n",
            "2/2 [==============================] - 0s 8ms/step - loss: 2.3238 - mae: 2.3238\n",
            "Epoch 107/210\n",
            "2/2 [==============================] - 0s 7ms/step - loss: 1.9052 - mae: 1.9052\n",
            "Epoch 108/210\n",
            "2/2 [==============================] - 0s 9ms/step - loss: 2.7566 - mae: 2.7566\n",
            "Epoch 109/210\n",
            "2/2 [==============================] - 0s 5ms/step - loss: 2.7271 - mae: 2.7271\n",
            "Epoch 110/210\n",
            "2/2 [==============================] - 0s 6ms/step - loss: 1.9361 - mae: 1.9361\n",
            "Epoch 111/210\n",
            "2/2 [==============================] - 0s 6ms/step - loss: 0.5295 - mae: 0.5295\n",
            "Epoch 112/210\n",
            "2/2 [==============================] - 0s 7ms/step - loss: 2.4236 - mae: 2.4236\n",
            "Epoch 113/210\n",
            "2/2 [==============================] - 0s 4ms/step - loss: 2.7980 - mae: 2.7980\n",
            "Epoch 114/210\n",
            "2/2 [==============================] - 0s 6ms/step - loss: 0.7440 - mae: 0.7440\n",
            "Epoch 115/210\n",
            "2/2 [==============================] - 0s 6ms/step - loss: 0.6299 - mae: 0.6299\n",
            "Epoch 116/210\n",
            "2/2 [==============================] - 0s 7ms/step - loss: 0.7008 - mae: 0.7008\n",
            "Epoch 117/210\n",
            "2/2 [==============================] - 0s 6ms/step - loss: 0.7745 - mae: 0.7745\n",
            "Epoch 118/210\n",
            "2/2 [==============================] - 0s 4ms/step - loss: 0.4657 - mae: 0.4657\n",
            "Epoch 119/210\n",
            "2/2 [==============================] - 0s 6ms/step - loss: 0.7751 - mae: 0.7751\n",
            "Epoch 120/210\n",
            "2/2 [==============================] - 0s 10ms/step - loss: 0.6514 - mae: 0.6514\n",
            "Epoch 121/210\n",
            "2/2 [==============================] - 0s 11ms/step - loss: 1.1230 - mae: 1.1230\n",
            "Epoch 122/210\n",
            "2/2 [==============================] - 0s 9ms/step - loss: 0.9754 - mae: 0.9754\n",
            "Epoch 123/210\n",
            "2/2 [==============================] - 0s 9ms/step - loss: 0.9105 - mae: 0.9105\n",
            "Epoch 124/210\n",
            "2/2 [==============================] - 0s 13ms/step - loss: 0.5790 - mae: 0.5790\n",
            "Epoch 125/210\n",
            "2/2 [==============================] - 0s 6ms/step - loss: 1.0840 - mae: 1.0840\n",
            "Epoch 126/210\n",
            "2/2 [==============================] - 0s 7ms/step - loss: 0.8570 - mae: 0.8570\n",
            "Epoch 127/210\n",
            "2/2 [==============================] - 0s 7ms/step - loss: 0.8023 - mae: 0.8023\n",
            "Epoch 128/210\n",
            "2/2 [==============================] - 0s 9ms/step - loss: 0.8632 - mae: 0.8632\n",
            "Epoch 129/210\n",
            "2/2 [==============================] - 0s 8ms/step - loss: 1.0138 - mae: 1.0138\n",
            "Epoch 130/210\n",
            "2/2 [==============================] - 0s 5ms/step - loss: 2.5399 - mae: 2.5399\n",
            "Epoch 131/210\n",
            "2/2 [==============================] - 0s 7ms/step - loss: 1.7454 - mae: 1.7454\n",
            "Epoch 132/210\n",
            "2/2 [==============================] - 0s 8ms/step - loss: 0.8864 - mae: 0.8864\n",
            "Epoch 133/210\n",
            "2/2 [==============================] - 0s 6ms/step - loss: 2.3999 - mae: 2.3999\n",
            "Epoch 134/210\n",
            "2/2 [==============================] - 0s 3ms/step - loss: 1.9659 - mae: 1.9659\n",
            "Epoch 135/210\n",
            "2/2 [==============================] - 0s 6ms/step - loss: 2.0174 - mae: 2.0174\n",
            "Epoch 136/210\n",
            "2/2 [==============================] - 0s 8ms/step - loss: 2.4927 - mae: 2.4927\n",
            "Epoch 137/210\n",
            "2/2 [==============================] - 0s 7ms/step - loss: 0.6498 - mae: 0.6498\n",
            "Epoch 138/210\n",
            "2/2 [==============================] - 0s 6ms/step - loss: 0.7374 - mae: 0.7374\n",
            "Epoch 139/210\n",
            "2/2 [==============================] - 0s 9ms/step - loss: 0.4689 - mae: 0.4689\n",
            "Epoch 140/210\n",
            "2/2 [==============================] - 0s 5ms/step - loss: 0.9127 - mae: 0.9127\n",
            "Epoch 141/210\n",
            "2/2 [==============================] - 0s 5ms/step - loss: 0.8833 - mae: 0.8833\n",
            "Epoch 142/210\n",
            "2/2 [==============================] - 0s 5ms/step - loss: 0.5901 - mae: 0.5901\n",
            "Epoch 143/210\n",
            "2/2 [==============================] - 0s 6ms/step - loss: 1.1828 - mae: 1.1828\n",
            "Epoch 144/210\n",
            "2/2 [==============================] - 0s 5ms/step - loss: 1.2800 - mae: 1.2800\n",
            "Epoch 145/210\n",
            "2/2 [==============================] - 0s 4ms/step - loss: 1.3633 - mae: 1.3633\n",
            "Epoch 146/210\n",
            "2/2 [==============================] - 0s 5ms/step - loss: 2.4257 - mae: 2.4257\n",
            "Epoch 147/210\n",
            "2/2 [==============================] - 0s 9ms/step - loss: 0.8584 - mae: 0.8584\n",
            "Epoch 148/210\n",
            "2/2 [==============================] - 0s 4ms/step - loss: 3.0708 - mae: 3.0708\n",
            "Epoch 149/210\n",
            "2/2 [==============================] - 0s 5ms/step - loss: 2.1043 - mae: 2.1043\n",
            "Epoch 150/210\n",
            "2/2 [==============================] - 0s 4ms/step - loss: 1.5102 - mae: 1.5102\n",
            "Epoch 151/210\n",
            "2/2 [==============================] - 0s 5ms/step - loss: 1.8070 - mae: 1.8070\n",
            "Epoch 152/210\n",
            "2/2 [==============================] - 0s 4ms/step - loss: 1.4216 - mae: 1.4216\n",
            "Epoch 153/210\n",
            "2/2 [==============================] - 0s 5ms/step - loss: 1.9647 - mae: 1.9647\n",
            "Epoch 154/210\n",
            "2/2 [==============================] - 0s 15ms/step - loss: 1.9341 - mae: 1.9341\n",
            "Epoch 155/210\n",
            "2/2 [==============================] - 0s 7ms/step - loss: 1.6531 - mae: 1.6531\n",
            "Epoch 156/210\n",
            "2/2 [==============================] - 0s 7ms/step - loss: 1.8322 - mae: 1.8322\n",
            "Epoch 157/210\n",
            "2/2 [==============================] - 0s 6ms/step - loss: 0.7070 - mae: 0.7070\n",
            "Epoch 158/210\n",
            "2/2 [==============================] - 0s 8ms/step - loss: 1.2598 - mae: 1.2598\n",
            "Epoch 159/210\n",
            "2/2 [==============================] - 0s 6ms/step - loss: 1.1934 - mae: 1.1934\n",
            "Epoch 160/210\n",
            "2/2 [==============================] - 0s 14ms/step - loss: 1.8699 - mae: 1.8699\n",
            "Epoch 161/210\n",
            "2/2 [==============================] - 0s 5ms/step - loss: 2.0104 - mae: 2.0104\n",
            "Epoch 162/210\n",
            "2/2 [==============================] - 0s 8ms/step - loss: 2.2555 - mae: 2.2555\n",
            "Epoch 163/210\n",
            "2/2 [==============================] - 0s 7ms/step - loss: 1.6957 - mae: 1.6957\n",
            "Epoch 164/210\n",
            "2/2 [==============================] - 0s 11ms/step - loss: 2.0672 - mae: 2.0672\n",
            "Epoch 165/210\n",
            "2/2 [==============================] - 0s 17ms/step - loss: 0.8550 - mae: 0.8550\n",
            "Epoch 166/210\n",
            "2/2 [==============================] - 0s 9ms/step - loss: 1.9163 - mae: 1.9163\n",
            "Epoch 167/210\n",
            "2/2 [==============================] - 0s 8ms/step - loss: 0.8698 - mae: 0.8698\n",
            "Epoch 168/210\n",
            "2/2 [==============================] - 0s 4ms/step - loss: 1.9434 - mae: 1.9434\n",
            "Epoch 169/210\n",
            "2/2 [==============================] - 0s 9ms/step - loss: 0.9729 - mae: 0.9729\n",
            "Epoch 170/210\n",
            "2/2 [==============================] - 0s 7ms/step - loss: 0.7842 - mae: 0.7842\n",
            "Epoch 171/210\n",
            "2/2 [==============================] - 0s 6ms/step - loss: 0.8120 - mae: 0.8120\n",
            "Epoch 172/210\n",
            "2/2 [==============================] - 0s 6ms/step - loss: 1.1547 - mae: 1.1547\n",
            "Epoch 173/210\n",
            "2/2 [==============================] - 0s 6ms/step - loss: 0.7852 - mae: 0.7852\n",
            "Epoch 174/210\n",
            "2/2 [==============================] - 0s 6ms/step - loss: 0.9087 - mae: 0.9087\n",
            "Epoch 175/210\n",
            "2/2 [==============================] - 0s 5ms/step - loss: 0.6243 - mae: 0.6243\n",
            "Epoch 176/210\n",
            "2/2 [==============================] - 0s 11ms/step - loss: 0.5617 - mae: 0.5617\n",
            "Epoch 177/210\n",
            "2/2 [==============================] - 0s 6ms/step - loss: 0.8467 - mae: 0.8467\n",
            "Epoch 178/210\n",
            "2/2 [==============================] - 0s 10ms/step - loss: 0.8652 - mae: 0.8652\n",
            "Epoch 179/210\n",
            "2/2 [==============================] - 0s 9ms/step - loss: 0.4983 - mae: 0.4983\n",
            "Epoch 180/210\n",
            "2/2 [==============================] - 0s 6ms/step - loss: 1.2310 - mae: 1.2310\n",
            "Epoch 181/210\n",
            "2/2 [==============================] - 0s 8ms/step - loss: 0.5272 - mae: 0.5272\n",
            "Epoch 182/210\n",
            "2/2 [==============================] - 0s 5ms/step - loss: 0.4467 - mae: 0.4467\n",
            "Epoch 183/210\n",
            "2/2 [==============================] - 0s 4ms/step - loss: 1.8793 - mae: 1.8793\n",
            "Epoch 184/210\n",
            "2/2 [==============================] - 0s 6ms/step - loss: 0.8299 - mae: 0.8299\n",
            "Epoch 185/210\n",
            "2/2 [==============================] - 0s 4ms/step - loss: 1.2196 - mae: 1.2196\n",
            "Epoch 186/210\n",
            "2/2 [==============================] - 0s 5ms/step - loss: 0.5875 - mae: 0.5875\n",
            "Epoch 187/210\n",
            "2/2 [==============================] - 0s 9ms/step - loss: 0.5685 - mae: 0.5685\n",
            "Epoch 188/210\n",
            "2/2 [==============================] - 0s 5ms/step - loss: 0.5309 - mae: 0.5309\n",
            "Epoch 189/210\n",
            "2/2 [==============================] - 0s 11ms/step - loss: 0.3358 - mae: 0.3358\n",
            "Epoch 190/210\n",
            "2/2 [==============================] - 0s 4ms/step - loss: 0.6681 - mae: 0.6681\n",
            "Epoch 191/210\n",
            "2/2 [==============================] - 0s 5ms/step - loss: 1.0028 - mae: 1.0028\n",
            "Epoch 192/210\n",
            "2/2 [==============================] - 0s 4ms/step - loss: 0.7211 - mae: 0.7211\n",
            "Epoch 193/210\n",
            "2/2 [==============================] - 0s 4ms/step - loss: 0.6490 - mae: 0.6490\n",
            "Epoch 194/210\n",
            "2/2 [==============================] - 0s 4ms/step - loss: 1.4121 - mae: 1.4121\n",
            "Epoch 195/210\n",
            "2/2 [==============================] - 0s 5ms/step - loss: 1.5574 - mae: 1.5574\n",
            "Epoch 196/210\n",
            "2/2 [==============================] - 0s 4ms/step - loss: 1.1966 - mae: 1.1966\n",
            "Epoch 197/210\n",
            "2/2 [==============================] - 0s 6ms/step - loss: 1.1823 - mae: 1.1823\n",
            "Epoch 198/210\n",
            "2/2 [==============================] - 0s 5ms/step - loss: 0.7966 - mae: 0.7966\n",
            "Epoch 199/210\n",
            "2/2 [==============================] - 0s 9ms/step - loss: 0.7818 - mae: 0.7818\n",
            "Epoch 200/210\n",
            "2/2 [==============================] - 0s 4ms/step - loss: 1.2106 - mae: 1.2106\n",
            "Epoch 201/210\n",
            "2/2 [==============================] - 0s 10ms/step - loss: 0.9856 - mae: 0.9856\n",
            "Epoch 202/210\n",
            "2/2 [==============================] - 0s 4ms/step - loss: 0.9638 - mae: 0.9638\n",
            "Epoch 203/210\n",
            "2/2 [==============================] - 0s 8ms/step - loss: 0.8076 - mae: 0.8076\n",
            "Epoch 204/210\n",
            "2/2 [==============================] - 0s 5ms/step - loss: 1.4806 - mae: 1.4806\n",
            "Epoch 205/210\n",
            "2/2 [==============================] - 0s 10ms/step - loss: 0.8523 - mae: 0.8523\n",
            "Epoch 206/210\n",
            "2/2 [==============================] - 0s 6ms/step - loss: 2.4696 - mae: 2.4696\n",
            "Epoch 207/210\n",
            "2/2 [==============================] - 0s 5ms/step - loss: 1.8450 - mae: 1.8450\n",
            "Epoch 208/210\n",
            "2/2 [==============================] - 0s 5ms/step - loss: 1.7544 - mae: 1.7544\n",
            "Epoch 209/210\n",
            "2/2 [==============================] - 0s 7ms/step - loss: 2.2677 - mae: 2.2677\n",
            "Epoch 210/210\n",
            "2/2 [==============================] - 0s 7ms/step - loss: 0.6536 - mae: 0.6536\n"
          ],
          "name": "stdout"
        },
        {
          "output_type": "execute_result",
          "data": {
            "text/plain": [
              "<tensorflow.python.keras.callbacks.History at 0x7f8c5d6bac50>"
            ]
          },
          "metadata": {
            "tags": []
          },
          "execution_count": 34
        }
      ]
    },
    {
      "cell_type": "markdown",
      "metadata": {
        "id": "rQZybe1-fosE"
      },
      "source": [
        "## MODEL 3"
      ]
    },
    {
      "cell_type": "code",
      "metadata": {
        "colab": {
          "base_uri": "https://localhost:8080/"
        },
        "id": "T1TnOvNifQty",
        "outputId": "e3a56778-9104-4988-c7b2-70f4f244bdb2"
      },
      "source": [
        "# 1. Creating a model\n",
        "model_3 = tf.keras.Sequential([\n",
        "  tf.keras.layers.Dense(75, activation=\"relu\"),\n",
        "  tf.keras.layers.Dense(75, activation=\"relu\"),\n",
        "  tf.keras.layers.Dense(1)\n",
        "])\n",
        "\n",
        "#2. COmppiling the model\n",
        "model_3.compile(loss=tf.keras.losses.mae,\n",
        "                optimizer=tf.keras.optimizers.Adam(lr=0.01),\n",
        "                metrics=[\"mae\"])\n",
        "\n",
        "#3. Fitting the model\n",
        "model_3.fit(X_train, y_train, epochs=200)"
      ],
      "execution_count": 35,
      "outputs": [
        {
          "output_type": "stream",
          "text": [
            "/usr/local/lib/python3.7/dist-packages/tensorflow/python/keras/optimizer_v2/optimizer_v2.py:375: UserWarning: The `lr` argument is deprecated, use `learning_rate` instead.\n",
            "  \"The `lr` argument is deprecated, use `learning_rate` instead.\")\n"
          ],
          "name": "stderr"
        },
        {
          "output_type": "stream",
          "text": [
            "Epoch 1/200\n",
            "2/2 [==============================] - 0s 6ms/step - loss: 41.1289 - mae: 41.1289\n",
            "Epoch 2/200\n",
            "2/2 [==============================] - 0s 7ms/step - loss: 19.5215 - mae: 19.5215\n",
            "Epoch 3/200\n",
            "2/2 [==============================] - 0s 5ms/step - loss: 7.0380 - mae: 7.0380\n",
            "Epoch 4/200\n",
            "2/2 [==============================] - 0s 6ms/step - loss: 12.3443 - mae: 12.3443\n",
            "Epoch 5/200\n",
            "2/2 [==============================] - 0s 8ms/step - loss: 8.4949 - mae: 8.4949\n",
            "Epoch 6/200\n",
            "2/2 [==============================] - 0s 8ms/step - loss: 6.2283 - mae: 6.2283\n",
            "Epoch 7/200\n",
            "2/2 [==============================] - 0s 8ms/step - loss: 9.3871 - mae: 9.3871\n",
            "Epoch 8/200\n",
            "2/2 [==============================] - 0s 7ms/step - loss: 7.3160 - mae: 7.3160\n",
            "Epoch 9/200\n",
            "2/2 [==============================] - 0s 8ms/step - loss: 4.4906 - mae: 4.4906\n",
            "Epoch 10/200\n",
            "2/2 [==============================] - 0s 7ms/step - loss: 6.2689 - mae: 6.2689\n",
            "Epoch 11/200\n",
            "2/2 [==============================] - 0s 7ms/step - loss: 4.4471 - mae: 4.4471\n",
            "Epoch 12/200\n",
            "2/2 [==============================] - 0s 7ms/step - loss: 5.8056 - mae: 5.8056\n",
            "Epoch 13/200\n",
            "2/2 [==============================] - 0s 9ms/step - loss: 6.7199 - mae: 6.7199\n",
            "Epoch 14/200\n",
            "2/2 [==============================] - 0s 10ms/step - loss: 5.5459 - mae: 5.5459\n",
            "Epoch 15/200\n",
            "2/2 [==============================] - 0s 11ms/step - loss: 4.6035 - mae: 4.6035\n",
            "Epoch 16/200\n",
            "2/2 [==============================] - 0s 6ms/step - loss: 4.3060 - mae: 4.3060\n",
            "Epoch 17/200\n",
            "2/2 [==============================] - 0s 5ms/step - loss: 5.2975 - mae: 5.2975\n",
            "Epoch 18/200\n",
            "2/2 [==============================] - 0s 8ms/step - loss: 6.2361 - mae: 6.2361\n",
            "Epoch 19/200\n",
            "2/2 [==============================] - 0s 10ms/step - loss: 5.4398 - mae: 5.4398\n",
            "Epoch 20/200\n",
            "2/2 [==============================] - 0s 6ms/step - loss: 4.3869 - mae: 4.3869\n",
            "Epoch 21/200\n",
            "2/2 [==============================] - 0s 4ms/step - loss: 3.7468 - mae: 3.7468\n",
            "Epoch 22/200\n",
            "2/2 [==============================] - 0s 6ms/step - loss: 3.8847 - mae: 3.8847\n",
            "Epoch 23/200\n",
            "2/2 [==============================] - 0s 5ms/step - loss: 3.4379 - mae: 3.4379\n",
            "Epoch 24/200\n",
            "2/2 [==============================] - 0s 5ms/step - loss: 3.4881 - mae: 3.4881\n",
            "Epoch 25/200\n",
            "2/2 [==============================] - 0s 5ms/step - loss: 3.4063 - mae: 3.4063\n",
            "Epoch 26/200\n",
            "2/2 [==============================] - 0s 6ms/step - loss: 3.7933 - mae: 3.7933\n",
            "Epoch 27/200\n",
            "2/2 [==============================] - 0s 8ms/step - loss: 3.2673 - mae: 3.2673\n",
            "Epoch 28/200\n",
            "2/2 [==============================] - 0s 6ms/step - loss: 3.1937 - mae: 3.1937\n",
            "Epoch 29/200\n",
            "2/2 [==============================] - 0s 6ms/step - loss: 3.1845 - mae: 3.1845\n",
            "Epoch 30/200\n",
            "2/2 [==============================] - 0s 5ms/step - loss: 3.1045 - mae: 3.1045\n",
            "Epoch 31/200\n",
            "2/2 [==============================] - 0s 6ms/step - loss: 3.1574 - mae: 3.1574\n",
            "Epoch 32/200\n",
            "2/2 [==============================] - 0s 6ms/step - loss: 2.9285 - mae: 2.9285\n",
            "Epoch 33/200\n",
            "2/2 [==============================] - 0s 7ms/step - loss: 2.8956 - mae: 2.8956\n",
            "Epoch 34/200\n",
            "2/2 [==============================] - 0s 6ms/step - loss: 2.8111 - mae: 2.8111\n",
            "Epoch 35/200\n",
            "2/2 [==============================] - 0s 6ms/step - loss: 2.7699 - mae: 2.7699\n",
            "Epoch 36/200\n",
            "2/2 [==============================] - 0s 6ms/step - loss: 2.6578 - mae: 2.6578\n",
            "Epoch 37/200\n",
            "2/2 [==============================] - 0s 6ms/step - loss: 2.7879 - mae: 2.7879\n",
            "Epoch 38/200\n",
            "2/2 [==============================] - 0s 6ms/step - loss: 2.9494 - mae: 2.9494\n",
            "Epoch 39/200\n",
            "2/2 [==============================] - 0s 6ms/step - loss: 2.2748 - mae: 2.2748\n",
            "Epoch 40/200\n",
            "2/2 [==============================] - 0s 7ms/step - loss: 3.7555 - mae: 3.7555\n",
            "Epoch 41/200\n",
            "2/2 [==============================] - 0s 6ms/step - loss: 2.4248 - mae: 2.4248\n",
            "Epoch 42/200\n",
            "2/2 [==============================] - 0s 18ms/step - loss: 3.0332 - mae: 3.0332\n",
            "Epoch 43/200\n",
            "2/2 [==============================] - 0s 7ms/step - loss: 2.0923 - mae: 2.0923\n",
            "Epoch 44/200\n",
            "2/2 [==============================] - 0s 10ms/step - loss: 1.9709 - mae: 1.9709\n",
            "Epoch 45/200\n",
            "2/2 [==============================] - 0s 9ms/step - loss: 1.7119 - mae: 1.7119\n",
            "Epoch 46/200\n",
            "2/2 [==============================] - 0s 9ms/step - loss: 1.4175 - mae: 1.4175\n",
            "Epoch 47/200\n",
            "2/2 [==============================] - 0s 11ms/step - loss: 1.9366 - mae: 1.9366\n",
            "Epoch 48/200\n",
            "2/2 [==============================] - 0s 16ms/step - loss: 1.2003 - mae: 1.2003\n",
            "Epoch 49/200\n",
            "2/2 [==============================] - 0s 8ms/step - loss: 1.5288 - mae: 1.5288\n",
            "Epoch 50/200\n",
            "2/2 [==============================] - 0s 12ms/step - loss: 1.6784 - mae: 1.6784\n",
            "Epoch 51/200\n",
            "2/2 [==============================] - 0s 10ms/step - loss: 2.5784 - mae: 2.5784\n",
            "Epoch 52/200\n",
            "2/2 [==============================] - 0s 7ms/step - loss: 2.8497 - mae: 2.8497\n",
            "Epoch 53/200\n",
            "2/2 [==============================] - 0s 7ms/step - loss: 2.0333 - mae: 2.0333\n",
            "Epoch 54/200\n",
            "2/2 [==============================] - 0s 10ms/step - loss: 2.7066 - mae: 2.7066\n",
            "Epoch 55/200\n",
            "2/2 [==============================] - 0s 9ms/step - loss: 1.4759 - mae: 1.4759\n",
            "Epoch 56/200\n",
            "2/2 [==============================] - 0s 6ms/step - loss: 1.7415 - mae: 1.7415\n",
            "Epoch 57/200\n",
            "2/2 [==============================] - 0s 8ms/step - loss: 1.7518 - mae: 1.7518\n",
            "Epoch 58/200\n",
            "2/2 [==============================] - 0s 6ms/step - loss: 1.2377 - mae: 1.2377\n",
            "Epoch 59/200\n",
            "2/2 [==============================] - 0s 5ms/step - loss: 1.6128 - mae: 1.6128\n",
            "Epoch 60/200\n",
            "2/2 [==============================] - 0s 13ms/step - loss: 2.8634 - mae: 2.8634\n",
            "Epoch 61/200\n",
            "2/2 [==============================] - 0s 7ms/step - loss: 1.5915 - mae: 1.5915\n",
            "Epoch 62/200\n",
            "2/2 [==============================] - 0s 11ms/step - loss: 1.7314 - mae: 1.7314\n",
            "Epoch 63/200\n",
            "2/2 [==============================] - 0s 7ms/step - loss: 1.1843 - mae: 1.1843\n",
            "Epoch 64/200\n",
            "2/2 [==============================] - 0s 12ms/step - loss: 2.2412 - mae: 2.2412\n",
            "Epoch 65/200\n",
            "2/2 [==============================] - 0s 8ms/step - loss: 2.7530 - mae: 2.7530\n",
            "Epoch 66/200\n",
            "2/2 [==============================] - 0s 9ms/step - loss: 2.4460 - mae: 2.4460\n",
            "Epoch 67/200\n",
            "2/2 [==============================] - 0s 6ms/step - loss: 2.4389 - mae: 2.4389\n",
            "Epoch 68/200\n",
            "2/2 [==============================] - 0s 15ms/step - loss: 0.9443 - mae: 0.9443\n",
            "Epoch 69/200\n",
            "2/2 [==============================] - 0s 9ms/step - loss: 2.6949 - mae: 2.6949\n",
            "Epoch 70/200\n",
            "2/2 [==============================] - 0s 7ms/step - loss: 1.4199 - mae: 1.4199\n",
            "Epoch 71/200\n",
            "2/2 [==============================] - 0s 7ms/step - loss: 1.6733 - mae: 1.6733\n",
            "Epoch 72/200\n",
            "2/2 [==============================] - 0s 8ms/step - loss: 1.2866 - mae: 1.2866\n",
            "Epoch 73/200\n",
            "2/2 [==============================] - 0s 9ms/step - loss: 1.2760 - mae: 1.2760\n",
            "Epoch 74/200\n",
            "2/2 [==============================] - 0s 8ms/step - loss: 1.6047 - mae: 1.6047\n",
            "Epoch 75/200\n",
            "2/2 [==============================] - 0s 7ms/step - loss: 0.8391 - mae: 0.8391\n",
            "Epoch 76/200\n",
            "2/2 [==============================] - 0s 11ms/step - loss: 0.8350 - mae: 0.8350\n",
            "Epoch 77/200\n",
            "2/2 [==============================] - 0s 6ms/step - loss: 0.9546 - mae: 0.9546\n",
            "Epoch 78/200\n",
            "2/2 [==============================] - 0s 6ms/step - loss: 1.0579 - mae: 1.0579\n",
            "Epoch 79/200\n",
            "2/2 [==============================] - 0s 9ms/step - loss: 0.4193 - mae: 0.4193\n",
            "Epoch 80/200\n",
            "2/2 [==============================] - 0s 6ms/step - loss: 1.6906 - mae: 1.6906\n",
            "Epoch 81/200\n",
            "2/2 [==============================] - 0s 7ms/step - loss: 1.7759 - mae: 1.7759\n",
            "Epoch 82/200\n",
            "2/2 [==============================] - 0s 6ms/step - loss: 1.7221 - mae: 1.7221\n",
            "Epoch 83/200\n",
            "2/2 [==============================] - 0s 7ms/step - loss: 2.9398 - mae: 2.9398\n",
            "Epoch 84/200\n",
            "2/2 [==============================] - 0s 9ms/step - loss: 2.4558 - mae: 2.4558\n",
            "Epoch 85/200\n",
            "2/2 [==============================] - 0s 12ms/step - loss: 2.0620 - mae: 2.0620\n",
            "Epoch 86/200\n",
            "2/2 [==============================] - 0s 7ms/step - loss: 2.4766 - mae: 2.4766\n",
            "Epoch 87/200\n",
            "2/2 [==============================] - 0s 11ms/step - loss: 0.7302 - mae: 0.7302\n",
            "Epoch 88/200\n",
            "2/2 [==============================] - 0s 6ms/step - loss: 1.3501 - mae: 1.3501\n",
            "Epoch 89/200\n",
            "2/2 [==============================] - 0s 8ms/step - loss: 1.6824 - mae: 1.6824\n",
            "Epoch 90/200\n",
            "2/2 [==============================] - 0s 9ms/step - loss: 0.9305 - mae: 0.9305\n",
            "Epoch 91/200\n",
            "2/2 [==============================] - 0s 6ms/step - loss: 2.1000 - mae: 2.1000\n",
            "Epoch 92/200\n",
            "2/2 [==============================] - 0s 6ms/step - loss: 2.1390 - mae: 2.1390\n",
            "Epoch 93/200\n",
            "2/2 [==============================] - 0s 9ms/step - loss: 2.1296 - mae: 2.1296\n",
            "Epoch 94/200\n",
            "2/2 [==============================] - 0s 9ms/step - loss: 1.0818 - mae: 1.0818\n",
            "Epoch 95/200\n",
            "2/2 [==============================] - 0s 11ms/step - loss: 0.9694 - mae: 0.9694\n",
            "Epoch 96/200\n",
            "2/2 [==============================] - 0s 8ms/step - loss: 2.4078 - mae: 2.4078\n",
            "Epoch 97/200\n",
            "2/2 [==============================] - 0s 7ms/step - loss: 1.9811 - mae: 1.9811\n",
            "Epoch 98/200\n",
            "2/2 [==============================] - 0s 7ms/step - loss: 2.2951 - mae: 2.2951\n",
            "Epoch 99/200\n",
            "2/2 [==============================] - 0s 5ms/step - loss: 2.5898 - mae: 2.5898\n",
            "Epoch 100/200\n",
            "2/2 [==============================] - 0s 9ms/step - loss: 1.0213 - mae: 1.0213\n",
            "Epoch 101/200\n",
            "2/2 [==============================] - 0s 6ms/step - loss: 1.2439 - mae: 1.2439\n",
            "Epoch 102/200\n",
            "2/2 [==============================] - 0s 10ms/step - loss: 1.6630 - mae: 1.6630\n",
            "Epoch 103/200\n",
            "2/2 [==============================] - 0s 14ms/step - loss: 1.5021 - mae: 1.5021\n",
            "Epoch 104/200\n",
            "2/2 [==============================] - 0s 10ms/step - loss: 2.0826 - mae: 2.0826\n",
            "Epoch 105/200\n",
            "2/2 [==============================] - 0s 9ms/step - loss: 1.6183 - mae: 1.6183\n",
            "Epoch 106/200\n",
            "2/2 [==============================] - 0s 7ms/step - loss: 2.1318 - mae: 2.1318\n",
            "Epoch 107/200\n",
            "2/2 [==============================] - 0s 8ms/step - loss: 1.0657 - mae: 1.0657\n",
            "Epoch 108/200\n",
            "2/2 [==============================] - 0s 9ms/step - loss: 1.0688 - mae: 1.0688\n",
            "Epoch 109/200\n",
            "2/2 [==============================] - 0s 15ms/step - loss: 1.2223 - mae: 1.2223\n",
            "Epoch 110/200\n",
            "2/2 [==============================] - 0s 5ms/step - loss: 0.7085 - mae: 0.7085\n",
            "Epoch 111/200\n",
            "2/2 [==============================] - 0s 7ms/step - loss: 0.5997 - mae: 0.5997\n",
            "Epoch 112/200\n",
            "2/2 [==============================] - 0s 5ms/step - loss: 0.3767 - mae: 0.3767\n",
            "Epoch 113/200\n",
            "2/2 [==============================] - 0s 6ms/step - loss: 0.5839 - mae: 0.5839\n",
            "Epoch 114/200\n",
            "2/2 [==============================] - 0s 7ms/step - loss: 0.9787 - mae: 0.9787\n",
            "Epoch 115/200\n",
            "2/2 [==============================] - 0s 10ms/step - loss: 1.3361 - mae: 1.3361\n",
            "Epoch 116/200\n",
            "2/2 [==============================] - 0s 5ms/step - loss: 0.8628 - mae: 0.8628\n",
            "Epoch 117/200\n",
            "2/2 [==============================] - 0s 8ms/step - loss: 3.5464 - mae: 3.5464\n",
            "Epoch 118/200\n",
            "2/2 [==============================] - 0s 6ms/step - loss: 3.5992 - mae: 3.5992\n",
            "Epoch 119/200\n",
            "2/2 [==============================] - 0s 6ms/step - loss: 1.3739 - mae: 1.3739\n",
            "Epoch 120/200\n",
            "2/2 [==============================] - 0s 17ms/step - loss: 1.6595 - mae: 1.6595\n",
            "Epoch 121/200\n",
            "2/2 [==============================] - 0s 8ms/step - loss: 1.0235 - mae: 1.0235\n",
            "Epoch 122/200\n",
            "2/2 [==============================] - 0s 5ms/step - loss: 1.8700 - mae: 1.8700\n",
            "Epoch 123/200\n",
            "2/2 [==============================] - 0s 18ms/step - loss: 2.0862 - mae: 2.0862\n",
            "Epoch 124/200\n",
            "2/2 [==============================] - 0s 8ms/step - loss: 1.1830 - mae: 1.1830\n",
            "Epoch 125/200\n",
            "2/2 [==============================] - 0s 5ms/step - loss: 1.3957 - mae: 1.3957\n",
            "Epoch 126/200\n",
            "2/2 [==============================] - 0s 7ms/step - loss: 2.6202 - mae: 2.6202\n",
            "Epoch 127/200\n",
            "2/2 [==============================] - 0s 5ms/step - loss: 4.2999 - mae: 4.2999\n",
            "Epoch 128/200\n",
            "2/2 [==============================] - 0s 6ms/step - loss: 2.4253 - mae: 2.4253\n",
            "Epoch 129/200\n",
            "2/2 [==============================] - 0s 6ms/step - loss: 1.4112 - mae: 1.4112\n",
            "Epoch 130/200\n",
            "2/2 [==============================] - 0s 5ms/step - loss: 1.7903 - mae: 1.7903\n",
            "Epoch 131/200\n",
            "2/2 [==============================] - 0s 6ms/step - loss: 0.8653 - mae: 0.8653\n",
            "Epoch 132/200\n",
            "2/2 [==============================] - 0s 12ms/step - loss: 2.1391 - mae: 2.1391\n",
            "Epoch 133/200\n",
            "2/2 [==============================] - 0s 5ms/step - loss: 1.3911 - mae: 1.3911\n",
            "Epoch 134/200\n",
            "2/2 [==============================] - 0s 12ms/step - loss: 1.1253 - mae: 1.1253\n",
            "Epoch 135/200\n",
            "2/2 [==============================] - 0s 7ms/step - loss: 1.7845 - mae: 1.7845\n",
            "Epoch 136/200\n",
            "2/2 [==============================] - 0s 12ms/step - loss: 1.5779 - mae: 1.5779\n",
            "Epoch 137/200\n",
            "2/2 [==============================] - 0s 10ms/step - loss: 0.6124 - mae: 0.6124\n",
            "Epoch 138/200\n",
            "2/2 [==============================] - 0s 10ms/step - loss: 2.1694 - mae: 2.1694\n",
            "Epoch 139/200\n",
            "2/2 [==============================] - 0s 14ms/step - loss: 0.8609 - mae: 0.8609\n",
            "Epoch 140/200\n",
            "2/2 [==============================] - 0s 8ms/step - loss: 2.2875 - mae: 2.2875\n",
            "Epoch 141/200\n",
            "2/2 [==============================] - 0s 8ms/step - loss: 2.3581 - mae: 2.3581\n",
            "Epoch 142/200\n",
            "2/2 [==============================] - 0s 5ms/step - loss: 0.5700 - mae: 0.5700\n",
            "Epoch 143/200\n",
            "2/2 [==============================] - 0s 6ms/step - loss: 1.2420 - mae: 1.2420\n",
            "Epoch 144/200\n",
            "2/2 [==============================] - 0s 11ms/step - loss: 0.9949 - mae: 0.9949\n",
            "Epoch 145/200\n",
            "2/2 [==============================] - 0s 6ms/step - loss: 0.7412 - mae: 0.7412\n",
            "Epoch 146/200\n",
            "2/2 [==============================] - 0s 6ms/step - loss: 1.6675 - mae: 1.6675\n",
            "Epoch 147/200\n",
            "2/2 [==============================] - 0s 14ms/step - loss: 1.8967 - mae: 1.8967\n",
            "Epoch 148/200\n",
            "2/2 [==============================] - 0s 5ms/step - loss: 0.6390 - mae: 0.6390\n",
            "Epoch 149/200\n",
            "2/2 [==============================] - 0s 6ms/step - loss: 2.0457 - mae: 2.0457\n",
            "Epoch 150/200\n",
            "2/2 [==============================] - 0s 6ms/step - loss: 1.6658 - mae: 1.6658\n",
            "Epoch 151/200\n",
            "2/2 [==============================] - 0s 6ms/step - loss: 1.2185 - mae: 1.2185\n",
            "Epoch 152/200\n",
            "2/2 [==============================] - 0s 6ms/step - loss: 1.7930 - mae: 1.7930\n",
            "Epoch 153/200\n",
            "2/2 [==============================] - 0s 8ms/step - loss: 1.2255 - mae: 1.2255\n",
            "Epoch 154/200\n",
            "2/2 [==============================] - 0s 10ms/step - loss: 0.9245 - mae: 0.9245\n",
            "Epoch 155/200\n",
            "2/2 [==============================] - 0s 10ms/step - loss: 0.7340 - mae: 0.7340\n",
            "Epoch 156/200\n",
            "2/2 [==============================] - 0s 9ms/step - loss: 0.5897 - mae: 0.5897\n",
            "Epoch 157/200\n",
            "2/2 [==============================] - 0s 6ms/step - loss: 1.6752 - mae: 1.6752\n",
            "Epoch 158/200\n",
            "2/2 [==============================] - 0s 9ms/step - loss: 1.4592 - mae: 1.4592\n",
            "Epoch 159/200\n",
            "2/2 [==============================] - 0s 10ms/step - loss: 1.5713 - mae: 1.5713\n",
            "Epoch 160/200\n",
            "2/2 [==============================] - 0s 6ms/step - loss: 2.8214 - mae: 2.8214\n",
            "Epoch 161/200\n",
            "2/2 [==============================] - 0s 7ms/step - loss: 1.9762 - mae: 1.9762\n",
            "Epoch 162/200\n",
            "2/2 [==============================] - 0s 19ms/step - loss: 3.6855 - mae: 3.6855\n",
            "Epoch 163/200\n",
            "2/2 [==============================] - 0s 13ms/step - loss: 2.4482 - mae: 2.4482\n",
            "Epoch 164/200\n",
            "2/2 [==============================] - 0s 10ms/step - loss: 1.1538 - mae: 1.1538\n",
            "Epoch 165/200\n",
            "2/2 [==============================] - 0s 9ms/step - loss: 1.8930 - mae: 1.8930\n",
            "Epoch 166/200\n",
            "2/2 [==============================] - 0s 7ms/step - loss: 0.7947 - mae: 0.7947\n",
            "Epoch 167/200\n",
            "2/2 [==============================] - 0s 12ms/step - loss: 2.0803 - mae: 2.0803\n",
            "Epoch 168/200\n",
            "2/2 [==============================] - 0s 6ms/step - loss: 1.6438 - mae: 1.6438\n",
            "Epoch 169/200\n",
            "2/2 [==============================] - 0s 15ms/step - loss: 1.5302 - mae: 1.5302\n",
            "Epoch 170/200\n",
            "2/2 [==============================] - 0s 10ms/step - loss: 2.2502 - mae: 2.2502\n",
            "Epoch 171/200\n",
            "2/2 [==============================] - 0s 7ms/step - loss: 1.3565 - mae: 1.3565\n",
            "Epoch 172/200\n",
            "2/2 [==============================] - 0s 5ms/step - loss: 1.7005 - mae: 1.7005\n",
            "Epoch 173/200\n",
            "2/2 [==============================] - 0s 13ms/step - loss: 0.5689 - mae: 0.5689\n",
            "Epoch 174/200\n",
            "2/2 [==============================] - 0s 6ms/step - loss: 1.4057 - mae: 1.4057\n",
            "Epoch 175/200\n",
            "2/2 [==============================] - 0s 13ms/step - loss: 0.9480 - mae: 0.9480\n",
            "Epoch 176/200\n",
            "2/2 [==============================] - 0s 5ms/step - loss: 1.3511 - mae: 1.3511\n",
            "Epoch 177/200\n",
            "2/2 [==============================] - 0s 5ms/step - loss: 0.7883 - mae: 0.7883\n",
            "Epoch 178/200\n",
            "2/2 [==============================] - 0s 6ms/step - loss: 1.0327 - mae: 1.0327\n",
            "Epoch 179/200\n",
            "2/2 [==============================] - 0s 9ms/step - loss: 0.4363 - mae: 0.4363\n",
            "Epoch 180/200\n",
            "2/2 [==============================] - 0s 7ms/step - loss: 0.5013 - mae: 0.5013\n",
            "Epoch 181/200\n",
            "2/2 [==============================] - 0s 7ms/step - loss: 0.8895 - mae: 0.8895\n",
            "Epoch 182/200\n",
            "2/2 [==============================] - 0s 13ms/step - loss: 1.3899 - mae: 1.3899\n",
            "Epoch 183/200\n",
            "2/2 [==============================] - 0s 12ms/step - loss: 1.7968 - mae: 1.7968\n",
            "Epoch 184/200\n",
            "2/2 [==============================] - 0s 11ms/step - loss: 1.6880 - mae: 1.6880\n",
            "Epoch 185/200\n",
            "2/2 [==============================] - 0s 9ms/step - loss: 1.6186 - mae: 1.6186\n",
            "Epoch 186/200\n",
            "2/2 [==============================] - 0s 5ms/step - loss: 1.2189 - mae: 1.2189\n",
            "Epoch 187/200\n",
            "2/2 [==============================] - 0s 5ms/step - loss: 1.5934 - mae: 1.5934\n",
            "Epoch 188/200\n",
            "2/2 [==============================] - 0s 4ms/step - loss: 0.9925 - mae: 0.9925\n",
            "Epoch 189/200\n",
            "2/2 [==============================] - 0s 6ms/step - loss: 1.4474 - mae: 1.4474\n",
            "Epoch 190/200\n",
            "2/2 [==============================] - 0s 9ms/step - loss: 0.6325 - mae: 0.6325\n",
            "Epoch 191/200\n",
            "2/2 [==============================] - 0s 13ms/step - loss: 0.6227 - mae: 0.6227\n",
            "Epoch 192/200\n",
            "2/2 [==============================] - 0s 17ms/step - loss: 0.4163 - mae: 0.4163\n",
            "Epoch 193/200\n",
            "2/2 [==============================] - 0s 17ms/step - loss: 0.5070 - mae: 0.5070\n",
            "Epoch 194/200\n",
            "2/2 [==============================] - 0s 8ms/step - loss: 0.3083 - mae: 0.3083\n",
            "Epoch 195/200\n",
            "2/2 [==============================] - 0s 6ms/step - loss: 0.3470 - mae: 0.3470\n",
            "Epoch 196/200\n",
            "2/2 [==============================] - 0s 11ms/step - loss: 0.5570 - mae: 0.5570\n",
            "Epoch 197/200\n",
            "2/2 [==============================] - 0s 7ms/step - loss: 0.4510 - mae: 0.4510\n",
            "Epoch 198/200\n",
            "2/2 [==============================] - 0s 6ms/step - loss: 0.6438 - mae: 0.6438\n",
            "Epoch 199/200\n",
            "2/2 [==============================] - 0s 5ms/step - loss: 0.4387 - mae: 0.4387\n",
            "Epoch 200/200\n",
            "2/2 [==============================] - 0s 5ms/step - loss: 1.3176 - mae: 1.3176\n"
          ],
          "name": "stdout"
        },
        {
          "output_type": "execute_result",
          "data": {
            "text/plain": [
              "<tensorflow.python.keras.callbacks.History at 0x7f8c63355210>"
            ]
          },
          "metadata": {
            "tags": []
          },
          "execution_count": 35
        }
      ]
    },
    {
      "cell_type": "code",
      "metadata": {
        "colab": {
          "base_uri": "https://localhost:8080/"
        },
        "id": "rvLwmJNhfxyT",
        "outputId": "2fe75fa0-8a4e-4125-afb6-7cd0e111008c"
      },
      "source": [
        "model_1.summary()"
      ],
      "execution_count": 36,
      "outputs": [
        {
          "output_type": "stream",
          "text": [
            "Model: \"sequential_3\"\n",
            "_________________________________________________________________\n",
            "Layer (type)                 Output Shape              Param #   \n",
            "=================================================================\n",
            "dense_9 (Dense)              (None, 100)               200       \n",
            "_________________________________________________________________\n",
            "dense_10 (Dense)             (None, 100)               10100     \n",
            "_________________________________________________________________\n",
            "dense_11 (Dense)             (None, 1)                 101       \n",
            "=================================================================\n",
            "Total params: 10,401\n",
            "Trainable params: 10,401\n",
            "Non-trainable params: 0\n",
            "_________________________________________________________________\n"
          ],
          "name": "stdout"
        }
      ]
    },
    {
      "cell_type": "code",
      "metadata": {
        "colab": {
          "base_uri": "https://localhost:8080/"
        },
        "id": "AFexJ-oIgEg5",
        "outputId": "24aae020-6d66-43dd-912e-8512fdced4c9"
      },
      "source": [
        "model_2.summary()"
      ],
      "execution_count": 37,
      "outputs": [
        {
          "output_type": "stream",
          "text": [
            "Model: \"sequential_4\"\n",
            "_________________________________________________________________\n",
            "Layer (type)                 Output Shape              Param #   \n",
            "=================================================================\n",
            "dense_12 (Dense)             (None, 100)               200       \n",
            "_________________________________________________________________\n",
            "dense_13 (Dense)             (None, 50)                5050      \n",
            "_________________________________________________________________\n",
            "dense_14 (Dense)             (None, 1)                 51        \n",
            "=================================================================\n",
            "Total params: 5,301\n",
            "Trainable params: 5,301\n",
            "Non-trainable params: 0\n",
            "_________________________________________________________________\n"
          ],
          "name": "stdout"
        }
      ]
    },
    {
      "cell_type": "code",
      "metadata": {
        "colab": {
          "base_uri": "https://localhost:8080/"
        },
        "id": "8Bt4MrpDgG5P",
        "outputId": "07b7635f-6eb2-454e-eda0-80ed4157c19f"
      },
      "source": [
        "model_3.summary()"
      ],
      "execution_count": 38,
      "outputs": [
        {
          "output_type": "stream",
          "text": [
            "Model: \"sequential_5\"\n",
            "_________________________________________________________________\n",
            "Layer (type)                 Output Shape              Param #   \n",
            "=================================================================\n",
            "dense_15 (Dense)             (None, 75)                150       \n",
            "_________________________________________________________________\n",
            "dense_16 (Dense)             (None, 75)                5700      \n",
            "_________________________________________________________________\n",
            "dense_17 (Dense)             (None, 1)                 76        \n",
            "=================================================================\n",
            "Total params: 5,926\n",
            "Trainable params: 5,926\n",
            "Non-trainable params: 0\n",
            "_________________________________________________________________\n"
          ],
          "name": "stdout"
        }
      ]
    },
    {
      "cell_type": "code",
      "metadata": {
        "colab": {
          "base_uri": "https://localhost:8080/"
        },
        "id": "r9uO9WyhhpwH",
        "outputId": "18123487-25e4-4e0e-ea24-e8c6cb920ecb"
      },
      "source": [
        "X_test2 = tf.range(100, 200, 4)\n",
        "X_test2"
      ],
      "execution_count": 39,
      "outputs": [
        {
          "output_type": "execute_result",
          "data": {
            "text/plain": [
              "<tf.Tensor: shape=(25,), dtype=int32, numpy=\n",
              "array([100, 104, 108, 112, 116, 120, 124, 128, 132, 136, 140, 144, 148,\n",
              "       152, 156, 160, 164, 168, 172, 176, 180, 184, 188, 192, 196],\n",
              "      dtype=int32)>"
            ]
          },
          "metadata": {
            "tags": []
          },
          "execution_count": 39
        }
      ]
    },
    {
      "cell_type": "code",
      "metadata": {
        "colab": {
          "base_uri": "https://localhost:8080/"
        },
        "id": "DRw4D2JkjAIK",
        "outputId": "26ae94ad-d5c2-4626-c07f-50bb86ea4267"
      },
      "source": [
        "y_test2 = X_test2 + 10\n",
        "y_test2"
      ],
      "execution_count": 40,
      "outputs": [
        {
          "output_type": "execute_result",
          "data": {
            "text/plain": [
              "<tf.Tensor: shape=(25,), dtype=int32, numpy=\n",
              "array([110, 114, 118, 122, 126, 130, 134, 138, 142, 146, 150, 154, 158,\n",
              "       162, 166, 170, 174, 178, 182, 186, 190, 194, 198, 202, 206],\n",
              "      dtype=int32)>"
            ]
          },
          "metadata": {
            "tags": []
          },
          "execution_count": 40
        }
      ]
    },
    {
      "cell_type": "code",
      "metadata": {
        "colab": {
          "base_uri": "https://localhost:8080/",
          "height": 265
        },
        "id": "qqC3bx2ajMHA",
        "outputId": "a1d6ee9a-1432-49e3-d81d-ab435e6e2185"
      },
      "source": [
        "plt.scatter(X_test2, y_test2);"
      ],
      "execution_count": 41,
      "outputs": [
        {
          "output_type": "display_data",
          "data": {
            "image/png": "[encoded data removed]",
            "text/plain": [
              "<Figure size 432x288 with 1 Axes>"
            ]
          },
          "metadata": {
            "tags": [],
            "needs_background": "light"
          }
        }
      ]
    },
    {
      "cell_type": "code",
      "metadata": {
        "id": "I3kUMLScVfl-"
      },
      "source": [
        "y_preds_1 = tf.squeeze(model_1.predict(X_test))"
      ],
      "execution_count": 42,
      "outputs": []
    },
    {
      "cell_type": "code",
      "metadata": {
        "colab": {
          "base_uri": "https://localhost:8080/",
          "height": 445
        },
        "id": "dvvekkxlkw5e",
        "outputId": "a11e0a0a-9280-43f3-b747-dd7d8bb17c66"
      },
      "source": [
        "plt.figure(figsize=(10,7))\n",
        "# Training data \n",
        "plt.scatter(X_train, y_train, c=\"b\", label=\"Training data\")\n",
        "# Testing data \n",
        "plt.scatter(X_test, y_test, c=\"g\", label=\"Testing data\")\n",
        "# Show a legend \n",
        "plt.legend()"
      ],
      "execution_count": 43,
      "outputs": [
        {
          "output_type": "execute_result",
          "data": {
            "text/plain": [
              "<matplotlib.legend.Legend at 0x7f8c5b503c50>"
            ]
          },
          "metadata": {
            "tags": []
          },
          "execution_count": 43
        },
        {
          "output_type": "display_data",
          "data": {
            "image/png": "[encoded data removed]",
            "text/plain": [
              "<Figure size 720x504 with 1 Axes>"
            ]
          },
          "metadata": {
            "tags": [],
            "needs_background": "light"
          }
        }
      ]
    },
    {
      "cell_type": "code",
      "metadata": {
        "id": "-sXbhQASl7L0"
      },
      "source": [
        "def plot_predictions(train_data=X_train, \n",
        "                     train_labels=y_train, \n",
        "                     test_data=X_test, \n",
        "                     test_labels=y_test, \n",
        "                     predictions=y_preds_1,\n",
        "                     name=\"Model\"):\n",
        "  \"\"\"\n",
        "  Plots training data, test data and compares predictions.\n",
        "  \"\"\"\n",
        "  plt.figure(figsize=(10, 7),)\n",
        "  plt.title(name)\n",
        "  # Plot training data in blue\n",
        "  plt.scatter(train_data, train_labels, c=\"b\", label=\"Training data\")\n",
        "  # Plot test data in green\n",
        "  plt.scatter(test_data, test_labels, c=\"g\", label=\"Testing data\")\n",
        "  # Plot the predictions in red (predictions were made on the test data)\n",
        "  plt.scatter(test_data, predictions, c=\"r\", label=\"Predictions\")\n",
        "  # Show the legend\n",
        "  plt.legend();"
      ],
      "execution_count": 44,
      "outputs": []
    },
    {
      "cell_type": "code",
      "metadata": {
        "colab": {
          "base_uri": "https://localhost:8080/"
        },
        "id": "DccSqjZNoNOn",
        "outputId": "e5c52648-341a-4de2-bbbf-a1dc35e4da64"
      },
      "source": [
        "y_preds_1 = tf.squeeze(model_1.predict(X_test))\n",
        "y_preds_2 = tf.squeeze(model_2.predict(X_test))\n",
        "y_preds_3 = tf.squeeze(model_3.predict(X_test))"
      ],
      "execution_count": 45,
      "outputs": [
        {
          "output_type": "stream",
          "text": [
            "WARNING:tensorflow:5 out of the last 7 calls to <function Model.make_predict_function.<locals>.predict_function at 0x7f8c5dfe10e0> triggered tf.function retracing. Tracing is expensive and the excessive number of tracings could be due to (1) creating @tf.function repeatedly in a loop, (2) passing tensors with different shapes, (3) passing Python objects instead of tensors. For (1), please define your @tf.function outside of the loop. For (2), @tf.function has experimental_relax_shapes=True option that relaxes argument shapes that can avoid unnecessary retracing. For (3), please refer to https://www.tensorflow.org/guide/function#controlling_retracing and https://www.tensorflow.org/api_docs/python/tf/function for  more details.\n",
            "WARNING:tensorflow:6 out of the last 8 calls to <function Model.make_predict_function.<locals>.predict_function at 0x7f8c5b489cb0> triggered tf.function retracing. Tracing is expensive and the excessive number of tracings could be due to (1) creating @tf.function repeatedly in a loop, (2) passing tensors with different shapes, (3) passing Python objects instead of tensors. For (1), please define your @tf.function outside of the loop. For (2), @tf.function has experimental_relax_shapes=True option that relaxes argument shapes that can avoid unnecessary retracing. For (3), please refer to https://www.tensorflow.org/guide/function#controlling_retracing and https://www.tensorflow.org/api_docs/python/tf/function for  more details.\n"
          ],
          "name": "stdout"
        }
      ]
    },
    {
      "cell_type": "code",
      "metadata": {
        "colab": {
          "base_uri": "https://localhost:8080/",
          "height": 444
        },
        "id": "7zQ2J9A6nRJU",
        "outputId": "65055c68-4b4a-4218-f9f5-6eab463e813a"
      },
      "source": [
        "# Model 1\n",
        "plot_predictions(predictions=y_preds_1, name=\"model_1\") "
      ],
      "execution_count": 46,
      "outputs": [
        {
          "output_type": "display_data",
          "data": {
            "image/png": "[encoded data removed]",
            "text/plain": [
              "<Figure size 720x504 with 1 Axes>"
            ]
          },
          "metadata": {
            "tags": [],
            "needs_background": "light"
          }
        }
      ]
    },
    {
      "cell_type": "code",
      "metadata": {
        "colab": {
          "base_uri": "https://localhost:8080/",
          "height": 444
        },
        "id": "xOnstcbJm4C1",
        "outputId": "c0ed0a27-02e6-4709-a97e-46df607ccfec"
      },
      "source": [
        "# Model 2\n",
        "plot_predictions(predictions=y_preds_2, name=\"model_2\")"
      ],
      "execution_count": 47,
      "outputs": [
        {
          "output_type": "display_data",
          "data": {
            "image/png": "[encoded data removed]",
            "text/plain": [
              "<Figure size 720x504 with 1 Axes>"
            ]
          },
          "metadata": {
            "tags": [],
            "needs_background": "light"
          }
        }
      ]
    },
    {
      "cell_type": "code",
      "metadata": {
        "colab": {
          "base_uri": "https://localhost:8080/",
          "height": 444
        },
        "id": "QBKebzpSm65w",
        "outputId": "33aeb311-e90d-499e-881c-8ac37c71d811"
      },
      "source": [
        "# Model 3\n",
        "plot_predictions(predictions=y_preds_3, name=\"model_3\")"
      ],
      "execution_count": 48,
      "outputs": [
        {
          "output_type": "display_data",
          "data": {
            "image/png": "[encoded data removed]",
            "text/plain": [
              "<Figure size 720x504 with 1 Axes>"
            ]
          },
          "metadata": {
            "tags": [],
            "needs_background": "light"
          }
        }
      ]
    }
  ]
}