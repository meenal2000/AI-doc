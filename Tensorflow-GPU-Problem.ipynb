{
 "cells": [
  {
   "cell_type": "markdown",
   "id": "placed-library",
   "metadata": {},
   "source": [
    "# Tensorflow GPU Problem:\n",
    "\n",
    "Some of the devices that have succesfull running of TensorFlow version 2.0, still show GPU not visible.\n",
    "This Juputer Notebook works on the same problem, more importantly how to solve the problem.\n",
    "\n",
    "### Problem: \n",
    "\n",
    "> Jupyter Notebook not detecting GPU.\n",
    "\n",
    "### Background:\n",
    "\n",
    "The GPU exists, but is not detected by the Jupyter Notebook\n",
    "\n",
    "### Predictions:\n",
    "\n",
    "`tf.test.is_gpu_available()\n",
    " tf.test.is_built_with_cuda()`\n",
    " \n",
    "☝ Run this code in your cell if it results in `False` you can continue to go ahead, but if it results in `True` you need to  look into your problem more closely.\n",
    " \n",
    "### Recongnizing the devices:\n",
    "\n",
    "`from tensorflow.python.client import device_lib\n",
    " print(device_lib.list_local_devices())`\n",
    " \n",
    "☝ This code will give only stats about CPU if you are into the same problem as that of this Jupyter Notebook.\n",
    "\n",
    "### Solution:\n",
    "\n",
    "The TensorFlow which you have installed might be built only on CPU so you need to install the GPU based TensorFlow.\n",
    "\n",
    "**Installation:** \n",
    "\n",
    "#### Try any one of the two:\n",
    "\n",
    "**1. Run this code into your terminal (Anaconda Prompt) (Active environment) (Recommended):**  \n",
    ">`conda install -c anaconda tensorflow-gpu`\n",
    "\n",
    "**2. Using Pip install TensorFlow 2.0:**\n",
    ">`pip install tensorflow-gpu==2.0`\n",
    "\n",
    "Let the installation get finished. (This may take time as per your CPU and internet speed).\n",
    "\n",
    "### After Installation:\n",
    "\n",
    "Once the installation is finished try running these codes, and they should probably give the same output as shown but may be with different stats."
   ]
  },
  {
   "cell_type": "code",
   "execution_count": 1,
   "id": "polished-foster",
   "metadata": {},
   "outputs": [
    {
     "data": {
      "text/plain": [
       "'2.0.0'"
      ]
     },
     "execution_count": 1,
     "metadata": {},
     "output_type": "execute_result"
    }
   ],
   "source": [
    "import tensorflow as tf\n",
    "\n",
    "# To check the current version of TensorFlow\n",
    "tf.__version__"
   ]
  },
  {
   "cell_type": "code",
   "execution_count": 2,
   "id": "residential-malaysia",
   "metadata": {},
   "outputs": [
    {
     "data": {
      "text/plain": [
       "True"
      ]
     },
     "execution_count": 2,
     "metadata": {},
     "output_type": "execute_result"
    }
   ],
   "source": [
    "# To check if GPU is available and its detected \n",
    "tf.test.is_gpu_available()\n",
    "tf.test.is_built_with_cuda()"
   ]
  },
  {
   "cell_type": "markdown",
   "id": "unavailable-narrative",
   "metadata": {},
   "source": [
    "☝ This resulted in `True` hence, now our GPU is detected by the Jupyter Notebook.\n",
    "Let's check the stats of our available devices on this local machine.\n",
    "\n",
    "Run these codes for the same:"
   ]
  },
  {
   "cell_type": "code",
   "execution_count": 3,
   "id": "charitable-hierarchy",
   "metadata": {},
   "outputs": [
    {
     "name": "stdout",
     "output_type": "stream",
     "text": [
      "[name: \"/device:CPU:0\"\n",
      "device_type: \"CPU\"\n",
      "memory_limit: 268435456\n",
      "locality {\n",
      "}\n",
      "incarnation: 7661865232900734680\n",
      ", name: \"/device:GPU:0\"\n",
      "device_type: \"GPU\"\n",
      "memory_limit: 1422723891\n",
      "locality {\n",
      "  bus_id: 1\n",
      "  links {\n",
      "  }\n",
      "}\n",
      "incarnation: 17343463754814321842\n",
      "physical_device_desc: \"device: 0, name: GeForce MX250, pci bus id: 0000:01:00.0, compute capability: 6.1\"\n",
      "]\n"
     ]
    }
   ],
   "source": [
    "# Check for CPU and GPU stats\n",
    "from tensorflow.python.client import device_lib\n",
    "print(device_lib.list_local_devices())"
   ]
  },
  {
   "cell_type": "markdown",
   "id": "handy-planning",
   "metadata": {},
   "source": [
    "#### If you look closely and carefully our GPU stats our visible which were not visible earlier hence, our problem is completely solved.✔"
   ]
  },
  {
   "cell_type": "markdown",
   "id": "intimate-blood",
   "metadata": {},
   "source": [
    "### To check how fast is your GPU over CPU:\n",
    "\n",
    "This code is from the google colab documentation: <br>\n",
    "https://colab.research.google.com/notebooks/gpu.ipynb#scrollTo=Y04m-jvKRDsJ\n",
    "\n",
    "Try running this code block in your Jupyter cell.\n"
   ]
  },
  {
   "cell_type": "code",
   "execution_count": 4,
   "id": "authentic-qatar",
   "metadata": {},
   "outputs": [
    {
     "name": "stdout",
     "output_type": "stream",
     "text": [
      "Time (s) to convolve 32x7x7x3 filter over random 100x100x100x3 images (batch x height x width x channel). Sum of ten runs.\n",
      "CPU (s):\n",
      "1.372167300000001\n",
      "GPU (s):\n",
      "0.3259647000000001\n",
      "GPU speedup over CPU: 4x\n"
     ]
    }
   ],
   "source": [
    "import tensorflow as tf\n",
    "import timeit\n",
    "\n",
    "TF_CUDNN_USE_AUTOTUNE=0\n",
    "device_name = tf.test.gpu_device_name()\n",
    "if device_name != '/device:GPU:0':\n",
    "  print(\n",
    "      '\\n\\nThis error most likely means that this notebook is not '\n",
    "      'configured to use a GPU.  Change this in Notebook Settings via the '\n",
    "      'command palette (cmd/ctrl-shift-P) or the Edit menu.\\n\\n')\n",
    "  raise SystemError('GPU device not found')\n",
    "\n",
    "def cpu():\n",
    "  with tf.device('/cpu:0'):\n",
    "    random_image_cpu = tf.random.normal((100, 100, 100, 3))\n",
    "    net_cpu = tf.keras.layers.Conv2D(32, 7)(random_image_cpu)\n",
    "    return tf.math.reduce_sum(net_cpu)\n",
    "\n",
    "def gpu():\n",
    "  with tf.device('/device:GPU:0'):\n",
    "    random_image_gpu = tf.random.normal((100, 100, 100, 3))\n",
    "    net_gpu = tf.keras.layers.Conv2D(32, 7)(random_image_gpu)\n",
    "    return tf.math.reduce_sum(net_gpu)\n",
    "  \n",
    "# We run each op once to warm up; see: https://stackoverflow.com/a/45067900\n",
    "cpu()\n",
    "gpu()\n",
    "\n",
    "# Run the op several times.\n",
    "print('Time (s) to convolve 32x7x7x3 filter over random 100x100x100x3 images '\n",
    "      '(batch x height x width x channel). Sum of ten runs.')\n",
    "print('CPU (s):')\n",
    "cpu_time = timeit.timeit('cpu()', number=10, setup=\"from __main__ import cpu\")\n",
    "print(cpu_time)\n",
    "print('GPU (s):')\n",
    "gpu_time = timeit.timeit('gpu()', number=10, setup=\"from __main__ import gpu\")\n",
    "print(gpu_time)\n",
    "print('GPU speedup over CPU: {}x'.format(int(cpu_time/gpu_time)))"
   ]
  }
 ],
 "metadata": {
  "kernelspec": {
   "display_name": "Python 3",
   "language": "python",
   "name": "python3"
  },
  "language_info": {
   "codemirror_mode": {
    "name": "ipython",
    "version": 3
   },
   "file_extension": ".py",
   "mimetype": "text/x-python",
   "name": "python",
   "nbconvert_exporter": "python",
   "pygments_lexer": "ipython3",
   "version": "3.7.10"
  }
 },
 "nbformat": 4,
 "nbformat_minor": 5
}
