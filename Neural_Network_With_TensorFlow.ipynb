{
  "nbformat": 4,
  "nbformat_minor": 0,
  "metadata": {
    "colab": {
      "name": "Neural-Network-With-TensorFlow.ipynb",
      "provenance": [],
      "collapsed_sections": []
    },
    "kernelspec": {
      "name": "python3",
      "display_name": "Python 3"
    },
    "language_info": {
      "name": "python"
    },
    "accelerator": "GPU"
  },
  "cells": [
    {
      "cell_type": "markdown",
      "metadata": {
        "id": "c4rpWRFLuaq1"
      },
      "source": [
        "# Neural-Network-With-Tensorflow\n",
        "\n",
        "Tensorflow is a deeplearning framework used to train deeplearning models easily which is opensource and maintained by google. \n",
        "\n",
        "This notebook deals with training an end to end neural network. We can train a neural network just by using the `numpy` library but that's a long and tedious process so for to make this easier we will use tensorflow with the latest version.\n",
        "\n",
        "For this notebook we will build a simple hand sign classifier with the help of a 3 layered neural network.\n",
        "\n",
        "![Image](data:image/png;base64,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)"
      ]
    },
    {
      "cell_type": "code",
      "metadata": {
        "colab": {
          "base_uri": "https://localhost:8080/",
          "height": 35
        },
        "id": "4PQhIjwDuV99",
        "outputId": "26d41cfb-738f-4214-db8f-233f22469e9e"
      },
      "source": [
        "# Check for tensorflow version\n",
        "import tensorflow as tf\n",
        "tf.__version__"
      ],
      "execution_count": 1,
      "outputs": [
        {
          "output_type": "execute_result",
          "data": {
            "application/vnd.google.colaboratory.intrinsic+json": {
              "type": "string"
            },
            "text/plain": [
              "'2.5.0'"
            ]
          },
          "metadata": {
            "tags": []
          },
          "execution_count": 1
        }
      ]
    },
    {
      "cell_type": "code",
      "metadata": {
        "id": "dVUVBAJW3L8h"
      },
      "source": [
        "# importing libraries we will need\n",
        "import h5py\n",
        "import numpy as np\n",
        "import time\n",
        "import matplotlib.pyplot as plt\n"
      ],
      "execution_count": 21,
      "outputs": []
    },
    {
      "cell_type": "markdown",
      "metadata": {
        "id": "pjU7KzKH2ckJ"
      },
      "source": [
        "## Getting our data ready \n",
        "\n",
        "For this notebook our dataset is present in a `h5py` file, let's get it ready so that we can use it."
      ]
    },
    {
      "cell_type": "code",
      "metadata": {
        "id": "rnMSFdzW2NxM"
      },
      "source": [
        "train_dataset = h5py.File('/content/drive/MyDrive/dataset/train_signs.h5', \"r\")\n",
        "test_dataset = h5py.File('/content/drive/MyDrive/dataset/test_signs.h5', \"r\")"
      ],
      "execution_count": 3,
      "outputs": []
    },
    {
      "cell_type": "markdown",
      "metadata": {
        "id": "BpfbQqIL32Ri"
      },
      "source": [
        "Here we will call the TensorFlow dataset created on a HDF5 file, which we can use in place of a Numpy array to store our datasets."
      ]
    },
    {
      "cell_type": "code",
      "metadata": {
        "id": "UTxXE2S93Ffl"
      },
      "source": [
        "x_train = tf.data.Dataset.from_tensor_slices(train_dataset['train_set_x'])\n",
        "y_train = tf.data.Dataset.from_tensor_slices(train_dataset['train_set_y'])\n",
        "\n",
        "x_test = tf.data.Dataset.from_tensor_slices(test_dataset['test_set_x'])\n",
        "y_test = tf.data.Dataset.from_tensor_slices(test_dataset['test_set_y'])"
      ],
      "execution_count": 4,
      "outputs": []
    },
    {
      "cell_type": "code",
      "metadata": {
        "colab": {
          "base_uri": "https://localhost:8080/"
        },
        "id": "bGQBUa0B3rao",
        "outputId": "03be0358-2a1e-48b0-b16d-284b16ea4b15"
      },
      "source": [
        "# Check for the type\n",
        "type(x_train)"
      ],
      "execution_count": 5,
      "outputs": [
        {
          "output_type": "execute_result",
          "data": {
            "text/plain": [
              "tensorflow.python.data.ops.dataset_ops.TensorSliceDataset"
            ]
          },
          "metadata": {
            "tags": []
          },
          "execution_count": 5
        }
      ]
    },
    {
      "cell_type": "markdown",
      "metadata": {
        "id": "eJURrIRr4VZL"
      },
      "source": [
        "TensorFlow Datasets are generators, we can't access directly the contents unless we iterate over them in a for loop. Let's do this by using a `iter` and `next` in python."
      ]
    },
    {
      "cell_type": "code",
      "metadata": {
        "colab": {
          "base_uri": "https://localhost:8080/"
        },
        "id": "sOe1cKFY4STU",
        "outputId": "a7b49b61-8945-4b31-8379-4fe560a08011"
      },
      "source": [
        "print(next(iter(x_train)))"
      ],
      "execution_count": 6,
      "outputs": [
        {
          "output_type": "stream",
          "text": [
            "tf.Tensor(\n",
            "[[[227 220 214]\n",
            "  [227 221 215]\n",
            "  [227 222 215]\n",
            "  ...\n",
            "  [232 230 224]\n",
            "  [231 229 222]\n",
            "  [230 229 221]]\n",
            "\n",
            " [[227 221 214]\n",
            "  [227 221 215]\n",
            "  [228 221 215]\n",
            "  ...\n",
            "  [232 230 224]\n",
            "  [231 229 222]\n",
            "  [231 229 221]]\n",
            "\n",
            " [[227 221 214]\n",
            "  [227 221 214]\n",
            "  [227 221 215]\n",
            "  ...\n",
            "  [232 230 224]\n",
            "  [231 229 223]\n",
            "  [230 229 221]]\n",
            "\n",
            " ...\n",
            "\n",
            " [[119  81  51]\n",
            "  [124  85  55]\n",
            "  [127  87  58]\n",
            "  ...\n",
            "  [210 211 211]\n",
            "  [211 212 210]\n",
            "  [210 211 210]]\n",
            "\n",
            " [[119  79  51]\n",
            "  [124  84  55]\n",
            "  [126  85  56]\n",
            "  ...\n",
            "  [210 211 210]\n",
            "  [210 211 210]\n",
            "  [209 210 209]]\n",
            "\n",
            " [[119  81  51]\n",
            "  [123  83  55]\n",
            "  [122  82  54]\n",
            "  ...\n",
            "  [209 210 210]\n",
            "  [209 210 209]\n",
            "  [208 209 209]]], shape=(64, 64, 3), dtype=uint8)\n"
          ],
          "name": "stdout"
        }
      ]
    },
    {
      "cell_type": "code",
      "metadata": {
        "colab": {
          "base_uri": "https://localhost:8080/"
        },
        "id": "WF0zVpFP4w3H",
        "outputId": "83523de2-e8d7-40b6-f96e-77989b2d03c8"
      },
      "source": [
        "# check for details in y_train\n",
        "print(y_train.element_spec)"
      ],
      "execution_count": 7,
      "outputs": [
        {
          "output_type": "stream",
          "text": [
            "TensorSpec(shape=(), dtype=tf.int64, name=None)\n"
          ],
          "name": "stdout"
        }
      ]
    },
    {
      "cell_type": "markdown",
      "metadata": {
        "id": "ggBSsjzP5dCM"
      },
      "source": [
        "## Normalizing function\n",
        "\n",
        "Now, let's create a function which normalizes our images like converts them into tensors and in the dimension (64 x 64 x 3, 1).\n",
        "\n",
        "To apply this function to each element we will use `map()` function."
      ]
    },
    {
      "cell_type": "code",
      "metadata": {
        "id": "j0hREiZU5KXQ"
      },
      "source": [
        "def normalize(image):\n",
        "\n",
        "    image = tf.cast(image, tf.float32) / 256.0\n",
        "    image = tf.reshape(image, [-1,1])\n",
        "    return image"
      ],
      "execution_count": 8,
      "outputs": []
    },
    {
      "cell_type": "code",
      "metadata": {
        "id": "7kSEUfF36c4M"
      },
      "source": [
        "# applying the function to each image \n",
        "new_train = x_train.map(normalize)\n",
        "new_test = x_test.map(normalize)"
      ],
      "execution_count": 9,
      "outputs": []
    },
    {
      "cell_type": "code",
      "metadata": {
        "colab": {
          "base_uri": "https://localhost:8080/"
        },
        "id": "2RgbcTtM6lza",
        "outputId": "a9ba7760-8036-4692-b3d0-68b3549ac8f9"
      },
      "source": [
        "new_train.element_spec"
      ],
      "execution_count": 10,
      "outputs": [
        {
          "output_type": "execute_result",
          "data": {
            "text/plain": [
              "TensorSpec(shape=(12288, 1), dtype=tf.float32, name=None)"
            ]
          },
          "metadata": {
            "tags": []
          },
          "execution_count": 10
        }
      ]
    },
    {
      "cell_type": "code",
      "metadata": {
        "colab": {
          "base_uri": "https://localhost:8080/"
        },
        "id": "pxVE9TKr6o-r",
        "outputId": "5a062f4e-a19d-422a-84b6-a3be3dabca14"
      },
      "source": [
        "x_train.element_spec"
      ],
      "execution_count": 11,
      "outputs": [
        {
          "output_type": "execute_result",
          "data": {
            "text/plain": [
              "TensorSpec(shape=(64, 64, 3), dtype=tf.uint8, name=None)"
            ]
          },
          "metadata": {
            "tags": []
          },
          "execution_count": 11
        }
      ]
    },
    {
      "cell_type": "code",
      "metadata": {
        "colab": {
          "base_uri": "https://localhost:8080/"
        },
        "id": "PSSzdJrf6rk3",
        "outputId": "3a0dc68c-e13d-446f-84d2-86d9591092ee"
      },
      "source": [
        "print(next(iter(new_train)))"
      ],
      "execution_count": 12,
      "outputs": [
        {
          "output_type": "stream",
          "text": [
            "tf.Tensor(\n",
            "[[0.88671875]\n",
            " [0.859375  ]\n",
            " [0.8359375 ]\n",
            " ...\n",
            " [0.8125    ]\n",
            " [0.81640625]\n",
            " [0.81640625]], shape=(12288, 1), dtype=float32)\n"
          ],
          "name": "stdout"
        }
      ]
    },
    {
      "cell_type": "markdown",
      "metadata": {
        "id": "SKmscxKqCzQk"
      },
      "source": [
        "## One Hot Encodings\n",
        "\n",
        "In deeplearning sometimes we come accross some of the problems where the y mappings are not just classified between two(0, 1) but different. And hence to convert this into (0, 1) we use one_hot_encoding.\n",
        "\n",
        "![image](https://i.ibb.co/kQ9bYdK/onehot.png)\n",
        "\n",
        "This is called \"one hot\" encoding, because in the converted representation, exactly one element of each column is \"hot\" (meaning set to 1)\n"
      ]
    },
    {
      "cell_type": "code",
      "metadata": {
        "id": "cxQJO55XESoQ"
      },
      "source": [
        "def one_hot_matrix(label, depth=6):\n",
        "    one_hot = tf.reshape(tf.one_hot(label, depth, axis=0), (depth,1))\n",
        "    \n",
        "    return one_hot"
      ],
      "execution_count": 13,
      "outputs": []
    },
    {
      "cell_type": "code",
      "metadata": {
        "id": "0oCbUHFbEc5U"
      },
      "source": [
        "new_y_test = y_test.map(one_hot_matrix)\n",
        "new_y_train = y_train.map(one_hot_matrix)"
      ],
      "execution_count": 14,
      "outputs": []
    },
    {
      "cell_type": "code",
      "metadata": {
        "colab": {
          "base_uri": "https://localhost:8080/"
        },
        "id": "N85_m_ziEgxh",
        "outputId": "4fde18f1-640e-4083-b7cf-265e474f16f5"
      },
      "source": [
        "print(next(iter(new_y_test)))"
      ],
      "execution_count": 15,
      "outputs": [
        {
          "output_type": "stream",
          "text": [
            "tf.Tensor(\n",
            "[[1.]\n",
            " [0.]\n",
            " [0.]\n",
            " [0.]\n",
            " [0.]\n",
            " [0.]], shape=(6, 1), dtype=float32)\n"
          ],
          "name": "stdout"
        }
      ]
    },
    {
      "cell_type": "markdown",
      "metadata": {
        "id": "LYvz82GO9fUw"
      },
      "source": [
        "## Initializing the parameters\n",
        "\n",
        "Now we'll initialize a vector of numbers between zero and one.\n",
        "\n",
        "The function we are using is - `tf.keras.initializers.GlorotNormal(seed=1)` - we are using a `seed` here so that the initializer always comes up with the same random values.\n",
        "\n",
        "This function draws samples from a truncated normal distribution centered on 0, with `stddev = sqrt(2 / (fan_in + fan_out))`, where `fan_in` is the number of input units and `fan_out` is the number of output units, both in the weight tensor.\n",
        "\n",
        "Initializing parameters to build a neural network with TensorFlow. The shapes are: <br>\n",
        "                        W1 : [25, 12288]<br>\n",
        "                        b1 : [25, 1]<br>\n",
        "                        W2 : [12, 25]<br>\n",
        "                        b2 : [12, 1]<br>\n",
        "                        W3 : [6, 12]<br>\n",
        "                        b3 : [6, 1]"
      ]
    },
    {
      "cell_type": "code",
      "metadata": {
        "id": "LpTD3yPs61Sy"
      },
      "source": [
        "def initialize_parameters():\n",
        "                                \n",
        "    initializer = tf.keras.initializers.GlorotNormal(seed=1)   \n",
        "\n",
        "    W1 = tf.Variable(initializer(shape=(25, 12288)))\n",
        "    b1 = tf.Variable(initializer(shape=(25, 1)))\n",
        "    W2 = tf.Variable(initializer(shape=(12, 25)))\n",
        "    b2 = tf.Variable(initializer(shape=(12, 1)))\n",
        "    W3 = tf.Variable(initializer(shape=(6, 12)))\n",
        "    b3 = tf.Variable(initializer(shape=(6, 1)))\n",
        "\n",
        "    parameters = {\"W1\": W1,\n",
        "                  \"b1\": b1,\n",
        "                  \"W2\": W2,\n",
        "                  \"b2\": b2,\n",
        "                  \"W3\": W3,\n",
        "                  \"b3\": b3}\n",
        "    \n",
        "    return parameters"
      ],
      "execution_count": 16,
      "outputs": []
    },
    {
      "cell_type": "markdown",
      "metadata": {
        "id": "YId7fXFv-7hW"
      },
      "source": [
        "## Two most important steps :\n",
        "\n",
        ">1. Implement forward propagation <br>\n",
        ">2. Retrieve the gradients and train the model\n",
        "\n",
        "We are training our model with tensorflow and while using it we have this benefit of not using the backpropagation as tensorflow takes care of it for us. This is also the reason why tensorflow is a great deeplearning framework.\n",
        "\n",
        "We need to only work on forward propagation.\n",
        "\n",
        "Here, we'll use a TensorFlow decorator, `@tf.function`, which builds a computational graph to execute the function. `@tf.function` is polymorphic, which comes in very handy, as it can support arguments with different data types or shapes, and be used with other languages, such as Python. This means that you can use data dependent control flow statements.\n",
        "\n",
        "When you use `@tf.function` to implement forward propagation, the computational graph is activated, which keeps track of the operations. This is so you can calculate your gradients with backpropagation.\n",
        "\n",
        "Implementing the forward propagation for the model: LINEAR -> RELU -> LINEAR -> RELU -> LINEAR\n"
      ]
    },
    {
      "cell_type": "code",
      "metadata": {
        "id": "YEZemuTF-xn9"
      },
      "source": [
        "@tf.function\n",
        "def forward_propagation(X, parameters):\n",
        "    \n",
        "    # Retrieve the parameters from the dictionary \"parameters\" \n",
        "    W1 = parameters['W1']\n",
        "    b1 = parameters['b1']\n",
        "    W2 = parameters['W2']\n",
        "    b2 = parameters['b2']\n",
        "    W3 = parameters['W3']\n",
        "    b3 = parameters['b3']\n",
        "\n",
        "    Z1 = tf.math.add(tf.linalg.matmul(W1, X), b1)\n",
        "    A1 = tf.keras.activations.relu(Z1)\n",
        "    Z2 = tf.math.add(tf.linalg.matmul(W2, A1), b2)\n",
        "    A2 = tf.keras.activations.relu(Z2)\n",
        "    Z3 = tf.math.add(tf.linalg.matmul(W3, A2), b3)\n",
        "    \n",
        "    return Z3"
      ],
      "execution_count": 17,
      "outputs": []
    },
    {
      "cell_type": "markdown",
      "metadata": {
        "id": "_MjfQJjfAecG"
      },
      "source": [
        "## Computing the cost\n",
        "\n",
        "Here again, `@tf.function` decorator steps in and saves us time. All we need to do is specify how to compute the cost, and we can do so in one simple step by using:\n",
        "\n",
        "`tf.reduce_mean(tf.keras.losses.binary_crossentropy(y_true = ..., y_pred = ..., from_logits=True))`"
      ]
    },
    {
      "cell_type": "code",
      "metadata": {
        "id": "BFMJXkg3AbkP"
      },
      "source": [
        "@tf.function\n",
        "def compute_cost(logits, labels):\n",
        "\n",
        "    cost = tf.reduce_mean(tf.keras.losses.binary_crossentropy(y_true = labels, y_pred = logits, from_logits=True))\n",
        "    \n",
        "    return cost"
      ],
      "execution_count": 18,
      "outputs": []
    },
    {
      "cell_type": "markdown",
      "metadata": {
        "id": "ltz6hF-aBRxT"
      },
      "source": [
        "## Training the model\n",
        "\n",
        "Almost all of our functions are ready to use in the model except the deciding the optimizer which we will decide in the `model()` function. \n",
        "For this case we are using `SGD` - stochastic gradient descent.\n",
        "\n",
        "The `tape.gradient` function: this allows us to retrieve the operations recorded for automatic differentiation inside the GradientTape block. Then, calling the optimizer method `apply_gradients`, will apply the optimizer's update rules to each trainable parameter.\n",
        "\n",
        "`tf.Data.dataset = dataset.prefetch(8)` - What this does is prevent a memory bottleneck that can occur when reading from disk. `prefetch()` sets aside some data and keeps it ready for when it's needed. It does this by creating a source dataset from your input data, applying a transformation to preprocess the data, then iterating over the dataset the specified number of elements at a time. This works because the iteration is streaming, so the data doesn't need to fit into the memory."
      ]
    },
    {
      "cell_type": "code",
      "metadata": {
        "id": "NyQPou77A36a"
      },
      "source": [
        "def model(X_train, Y_train, X_test, Y_test, learning_rate = 0.0001,\n",
        "          num_epochs = 1500, minibatch_size = 32, print_cost = True):\n",
        "    \n",
        "    costs = []                                        # To keep track of the cost\n",
        "    \n",
        "    # Initializing our parameters\n",
        "    parameters = initialize_parameters()\n",
        "\n",
        "    W1 = parameters['W1']\n",
        "    b1 = parameters['b1']\n",
        "    W2 = parameters['W2']\n",
        "    b2 = parameters['b2']\n",
        "    W3 = parameters['W3']\n",
        "    b3 = parameters['b3']\n",
        "    \n",
        "    # Optimizer selection\n",
        "    optimizer = tf.keras.optimizers.SGD(learning_rate)\n",
        "\n",
        "    X_train = X_train.batch(minibatch_size, drop_remainder=True).prefetch(8)# <<< extra step    \n",
        "    Y_train = Y_train.batch(minibatch_size, drop_remainder=True).prefetch(8) # loads memory faster \n",
        "\n",
        "    # Do the training loop\n",
        "    for epoch in range(num_epochs):\n",
        "\n",
        "        epoch_cost = 0.\n",
        "        \n",
        "        for (minibatch_X, minibatch_Y) in zip(X_train, Y_train):\n",
        "            # Select a minibatch\n",
        "            with tf.GradientTape() as tape:\n",
        "                # 1. predict\n",
        "                Z3 = forward_propagation(minibatch_X, parameters)\n",
        "                # 2. loss\n",
        "                minibatch_cost = compute_cost(Z3, minibatch_Y)\n",
        "                \n",
        "            trainable_variables = [W1, b1, W2, b2, W3, b3]\n",
        "            grads = tape.gradient(minibatch_cost, trainable_variables)\n",
        "            optimizer.apply_gradients(zip(grads, trainable_variables))\n",
        "            epoch_cost += minibatch_cost / minibatch_size\n",
        "\n",
        "        # Print the cost every epoch\n",
        "        if print_cost == True and epoch % 10 == 0:\n",
        "            print (\"Cost after epoch %i: %f\" % (epoch, epoch_cost))\n",
        "        if print_cost == True and epoch % 5 == 0:\n",
        "            costs.append(epoch_cost)\n",
        "\n",
        "    # Plot the cost\n",
        "    plt.plot(np.squeeze(costs))\n",
        "    plt.ylabel('cost')\n",
        "    plt.xlabel('iterations (per fives)')\n",
        "    plt.title(\"Learning rate =\" + str(learning_rate))\n",
        "    plt.show()\n",
        "\n",
        "    # Save the parameters in a variable\n",
        "    print (\"Parameters have been trained!\")\n",
        "\n",
        "    return parameters"
      ],
      "execution_count": 19,
      "outputs": []
    },
    {
      "cell_type": "code",
      "metadata": {
        "colab": {
          "base_uri": "https://localhost:8080/",
          "height": 1000
        },
        "id": "yiainx_mCaQd",
        "outputId": "2f3e73b9-80a7-4e3a-870a-a8708ac080a0"
      },
      "source": [
        "# training the model on the data set \n",
        "model(new_train, new_y_train, new_test, new_y_test, num_epochs=200)"
      ],
      "execution_count": 22,
      "outputs": [
        {
          "output_type": "stream",
          "text": [
            "Cost after epoch 0: 0.742591\n",
            "Cost after epoch 10: 0.614557\n",
            "Cost after epoch 20: 0.598900\n",
            "Cost after epoch 30: 0.588907\n",
            "Cost after epoch 40: 0.579898\n",
            "Cost after epoch 50: 0.570628\n",
            "Cost after epoch 60: 0.560898\n",
            "Cost after epoch 70: 0.550808\n",
            "Cost after epoch 80: 0.540497\n",
            "Cost after epoch 90: 0.488141\n",
            "Cost after epoch 100: 0.478272\n",
            "Cost after epoch 110: 0.472865\n",
            "Cost after epoch 120: 0.468991\n",
            "Cost after epoch 130: 0.466015\n",
            "Cost after epoch 140: 0.463661\n",
            "Cost after epoch 150: 0.461677\n",
            "Cost after epoch 160: 0.459951\n",
            "Cost after epoch 170: 0.458392\n",
            "Cost after epoch 180: 0.456970\n",
            "Cost after epoch 190: 0.455647\n"
          ],
          "name": "stdout"
        },
        {
          "output_type": "display_data",
          "data": {
            "image/png": "[encoded data removed]",
            "text/plain": [
              "<Figure size 432x288 with 1 Axes>"
            ]
          },
          "metadata": {
            "tags": [],
            "needs_background": "light"
          }
        },
        {
          "output_type": "stream",
          "text": [
            "Parameters have been trained!\n"
          ],
          "name": "stdout"
        },
        {
          "output_type": "execute_result",
          "data": {
            "text/plain": [
              "{'W1': <tf.Variable 'Variable:0' shape=(25, 12288) dtype=float32, numpy=\n",
              " array([[ 0.00159522, -0.00737918,  0.00893291, ..., -0.01227797,\n",
              "          0.01642201,  0.00506484],\n",
              "        [ 0.02264025,  0.0067227 ,  0.00795862, ...,  0.00284724,\n",
              "          0.01910819,  0.00122853],\n",
              "        [-0.00173583, -0.00872451, -0.01410439, ..., -0.00733834,\n",
              "          0.02050859, -0.0268302 ],\n",
              "        ...,\n",
              "        [-0.00126929,  0.01729332,  0.02082342, ...,  0.01709594,\n",
              "          0.00429358, -0.00733263],\n",
              "        [ 0.00268257,  0.00410495,  0.00936706, ...,  0.01222281,\n",
              "         -0.02717606,  0.01498352],\n",
              "        [-0.00145541,  0.02459595,  0.00339064, ..., -0.02478788,\n",
              "          0.02716016, -0.00306428]], dtype=float32)>,\n",
              " 'W2': <tf.Variable 'Variable:0' shape=(12, 25) dtype=float32, numpy=\n",
              " array([[ 0.03270398, -0.13031   ,  0.16566683, -0.20850259, -0.2404858 ,\n",
              "         -0.10598166, -0.01016674,  0.12317106, -0.00411659, -0.3709333 ,\n",
              "          0.45312327, -0.3642326 ,  0.09766971,  0.18042909, -0.05753208,\n",
              "         -0.13796303, -0.04518652, -0.15597364, -0.00236228, -0.05681378,\n",
              "          0.07734591,  0.01733258, -0.04763132,  0.31054643,  0.18095495],\n",
              "        [ 0.27500606,  0.0652916 ,  0.19277133,  0.00808901, -0.3506106 ,\n",
              "         -0.04379589,  0.00529772,  0.14074522, -0.22700673, -0.08254708,\n",
              "         -0.10437232, -0.27877635, -0.22737738, -0.15467171, -0.30434558,\n",
              "          0.4284142 ,  0.04013086,  0.14082551,  0.4080341 ,  0.19127996,\n",
              "         -0.08289494,  0.19833343, -0.18854786,  0.11045365, -0.10293514],\n",
              "        [ 0.07370562,  0.12879197, -0.38048762, -0.1428371 , -0.16866724,\n",
              "         -0.12560502,  0.08047906, -0.1422233 , -0.32914424,  0.11487048,\n",
              "          0.21897405,  0.1428981 ,  0.4108542 , -0.02966296, -0.11487778,\n",
              "          0.28352287,  0.25715733, -0.12365948,  0.14695017, -0.39992067,\n",
              "         -0.11544652, -0.11918075, -0.5031594 , -0.16646984, -0.04636551],\n",
              "        [-0.11886354,  0.19529893, -0.13205235, -0.46206364,  0.07806109,\n",
              "         -0.36992034, -0.06379854,  0.3715831 ,  0.07556012,  0.51988   ,\n",
              "         -0.01714148,  0.35476214,  0.09361272,  0.17954445,  0.00514462,\n",
              "          0.04280851,  0.10517999,  0.03767022, -0.23309664, -0.23678231,\n",
              "         -0.07444265, -0.30713868, -0.11694648,  0.32925925, -0.09511968],\n",
              "        [ 0.15940417,  0.0393942 ,  0.47869277,  0.22657531,  0.03725046,\n",
              "         -0.51921755, -0.0173153 , -0.31578007, -0.21672027,  0.04122906,\n",
              "          0.04947521, -0.29094276, -0.03152777,  0.47902155,  0.31676555,\n",
              "          0.04739   ,  0.0777043 ,  0.31394583, -0.02500663,  0.10048122,\n",
              "         -0.05332499, -0.34107792, -0.13928486,  0.124021  , -0.41300818],\n",
              "        [-0.14994687,  0.03965308, -0.47870165, -0.07975383,  0.0975506 ,\n",
              "         -0.00232861, -0.26367775, -0.23967458,  0.2494654 ,  0.22969168,\n",
              "         -0.3077367 ,  0.1017215 ,  0.03053022,  0.26468748, -0.51858556,\n",
              "         -0.08669728,  0.03128891,  0.28504834,  0.20724736, -0.14461055,\n",
              "         -0.09631127,  0.2553377 ,  0.0313108 ,  0.28684515,  0.02228327],\n",
              "        [-0.20329641, -0.2922766 , -0.03024991,  0.00603078,  0.34428513,\n",
              "          0.14932795, -0.42723438,  0.07875892,  0.06157893, -0.19437577,\n",
              "          0.03054013, -0.20949648,  0.2890019 ,  0.03168807,  0.18291236,\n",
              "         -0.1762907 , -0.2162296 ,  0.02522451, -0.17976454,  0.20999095,\n",
              "          0.13074146,  0.12900151, -0.29620144,  0.39828372,  0.35581756],\n",
              "        [-0.08132942,  0.0508789 ,  0.03970909, -0.06884057, -0.07758211,\n",
              "          0.2122033 ,  0.16169944, -0.05766107, -0.04837854, -0.23052695,\n",
              "          0.2551639 , -0.2933403 , -0.16104451, -0.11232601, -0.1305835 ,\n",
              "          0.05021809,  0.18621859, -0.07786819,  0.10281897, -0.06372993,\n",
              "          0.41251048, -0.01803587,  0.04746069,  0.27628535, -0.21901166],\n",
              "        [ 0.28539088,  0.2062927 , -0.38372174,  0.26297212,  0.23504944,\n",
              "          0.18105377,  0.25501856, -0.19114958,  0.3558071 ,  0.00106932,\n",
              "         -0.33252394, -0.09722907, -0.00984806,  0.22310142, -0.22939922,\n",
              "         -0.02731948,  0.18572627, -0.00867934,  0.47467563,  0.00131025,\n",
              "          0.3148377 , -0.22662118,  0.12927507,  0.04265387, -0.45121887],\n",
              "        [-0.23054188, -0.22334962, -0.18913192,  0.15417176, -0.07368276,\n",
              "         -0.0554374 ,  0.12214173,  0.3880139 , -0.01242276,  0.11768965,\n",
              "          0.26777858, -0.06251994, -0.12100054, -0.12495217, -0.03189994,\n",
              "         -0.50085783, -0.09560107, -0.2402923 ,  0.07087833,  0.03642716,\n",
              "         -0.00494978, -0.36984688,  0.00878784,  0.24595839, -0.13239339],\n",
              "        [ 0.3191285 ,  0.02266271, -0.06669851, -0.33996752,  0.36436075,\n",
              "         -0.29865557, -0.0511701 , -0.3724362 ,  0.27359566,  0.20692119,\n",
              "          0.02171062,  0.10230298, -0.3980014 ,  0.02363082,  0.13089393,\n",
              "          0.33540612,  0.08214815,  0.20031555, -0.08127788, -0.28784147,\n",
              "          0.17327178, -0.13266881,  0.28894275, -0.19869862, -0.03405774],\n",
              "        [ 0.18820514, -0.20398362, -0.03503592, -0.36792815, -0.22963937,\n",
              "          0.23911734, -0.04237935, -0.0165515 , -0.05906205,  0.16423815,\n",
              "         -0.3201712 ,  0.15379828,  0.14842784, -0.24647985, -0.08833575,\n",
              "          0.13306315,  0.41101152,  0.3626319 ,  0.335514  ,  0.05405051,\n",
              "          0.21186371,  0.0197499 ,  0.45979315,  0.04402938,  0.36662805]],\n",
              "       dtype=float32)>,\n",
              " 'W3': <tf.Variable 'Variable:0' shape=(6, 12) dtype=float32, numpy=\n",
              " array([[ 0.04761663, -0.18691424,  0.23871914, -0.29910994, -0.3481434 ,\n",
              "         -0.14891662, -0.01468904,  0.17718892, -0.00528843, -0.53165394,\n",
              "          0.651227  , -0.52562135],\n",
              "        [ 0.14137168,  0.25856522, -0.08242729, -0.24897729, -0.086944  ,\n",
              "         -0.23124097, -0.00362752, -0.08165746,  0.108671  ,  0.02485008,\n",
              "         -0.10594466,  0.4071277 ],\n",
              "        [ 0.2588232 ,  0.39531502,  0.09260609,  0.19811381, -0.02675303,\n",
              "         -0.5141329 , -0.06277467,  0.0073774 ,  0.2010778 , -0.3234572 ,\n",
              "         -0.1716854 , -0.21085015],\n",
              "        [-0.39999744, -0.3245937 , -0.22211905, -0.4464757 ,  0.6061089 ,\n",
              "          0.06233858,  0.20539553,  0.5849541 ,  0.27438077, -0.1188482 ,\n",
              "          0.2764906 , -0.2822454 ],\n",
              "        [ 0.15867612, -0.14753208,  0.10718007,  0.20221178, -0.5397338 ,\n",
              "         -0.19613965, -0.24190295, -0.17912963,  0.1174304 , -0.20150405,\n",
              "         -0.45716155,  0.17953748],\n",
              "        [ 0.31372803,  0.20475909,  0.5910115 , -0.070414  , -0.17219493,\n",
              "          0.39685246,  0.37256533, -0.17371103,  0.20850411, -0.5733746 ,\n",
              "         -0.1864096 , -0.19104952]], dtype=float32)>,\n",
              " 'b1': <tf.Variable 'Variable:0' shape=(25, 1) dtype=float32, numpy=\n",
              " array([[ 0.03964256],\n",
              "        [-0.15545043],\n",
              "        [ 0.19885883],\n",
              "        [-0.24874453],\n",
              "        [-0.2867674 ],\n",
              "        [-0.12604605],\n",
              "        [-0.01213097],\n",
              "        [ 0.14784044],\n",
              "        [-0.0041317 ],\n",
              "        [-0.44089788],\n",
              "        [ 0.5405422 ],\n",
              "        [-0.43450323],\n",
              "        [ 0.1176388 ],\n",
              "        [ 0.21523888],\n",
              "        [-0.06772597],\n",
              "        [-0.16429298],\n",
              "        [-0.0525962 ],\n",
              "        [-0.18479516],\n",
              "        [-0.00280251],\n",
              "        [-0.06777475],\n",
              "        [ 0.09226809],\n",
              "        [ 0.02067652],\n",
              "        [-0.05682073],\n",
              "        [ 0.37065938],\n",
              "        [ 0.21586621]], dtype=float32)>,\n",
              " 'b2': <tf.Variable 'Variable:0' shape=(12, 1) dtype=float32, numpy=\n",
              " array([[ 0.05586328],\n",
              "        [-0.22080198],\n",
              "        [ 0.28016466],\n",
              "        [-0.35078028],\n",
              "        [-0.407107  ],\n",
              "        [-0.17678551],\n",
              "        [-0.01738933],\n",
              "        [ 0.20840582],\n",
              "        [-0.00978938],\n",
              "        [-0.6255955 ],\n",
              "        [ 0.7664691 ],\n",
              "        [-0.6127304 ]], dtype=float32)>,\n",
              " 'b3': <tf.Variable 'Variable:0' shape=(6, 1) dtype=float32, numpy=\n",
              " array([[ 0.07464747],\n",
              "        [-0.31648076],\n",
              "        [ 0.357774  ],\n",
              "        [-0.48544684],\n",
              "        [-0.5509958 ],\n",
              "        [-0.24964482]], dtype=float32)>}"
            ]
          },
          "metadata": {
            "tags": []
          },
          "execution_count": 22
        }
      ]
    },
    {
      "cell_type": "markdown",
      "metadata": {
        "id": "lkj_OkKpGVOK"
      },
      "source": [
        "So, we are done with our building a 3 layered neural network with tensorflow."
      ]
    }
  ]
}