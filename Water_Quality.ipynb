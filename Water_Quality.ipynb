{
  "nbformat": 4,
  "nbformat_minor": 0,
  "metadata": {
    "colab": {
      "name": "Water_Quality.ipynb",
      "provenance": [],
      "collapsed_sections": []
    },
    "kernelspec": {
      "name": "python3",
      "display_name": "Python 3"
    },
    "language_info": {
      "name": "python"
    }
  },
  "cells": [
    {
      "cell_type": "markdown",
      "metadata": {
        "id": "wbilYXz4ZQvL"
      },
      "source": [
        "# Water Quality\n",
        "\n",
        "**Context :**\n",
        "Access to safe drinking-water is essential to health, a basic human right and a component of effective policy for health protection. This is important as a health and development issue at a national, regional and local level. In some regions, it has been shown that investments in water supply and sanitation can yield a net economic benefit, since the reductions in adverse health effects and health care costs outweigh the costs of undertaking the interventions.\n",
        "\n",
        "**Potabiliy :** Indicates if water is safe for human consumption where *1 means Potable and 0 means Not potable.*\n",
        "\n"
      ]
    },
    {
      "cell_type": "markdown",
      "metadata": {
        "id": "w2vTH5FtRLxv"
      },
      "source": [
        "## Importing Dependancies"
      ]
    },
    {
      "cell_type": "code",
      "metadata": {
        "id": "rwqFTkROZQhG"
      },
      "source": [
        "# Importing dependancies\n",
        "import numpy as np\n",
        "import pandas as pd\n",
        "import tensorflow as tf\n",
        "import matplotlib.pyplot as plt\n",
        "from sklearn.model_selection import train_test_split\n",
        "\n",
        "from sklearn.neighbors import KNeighborsClassifier\n",
        "from sklearn.ensemble import RandomForestClassifier\n",
        "from sklearn.linear_model import LogisticRegression\n",
        "\n",
        "from sklearn.metrics import plot_roc_curve\n",
        "from sklearn.metrics import precision_score, recall_score, f1_score \n",
        "from sklearn.metrics import confusion_matrix, classification_report\n",
        "from sklearn.model_selection import RandomizedSearchCV, GridSearchCV\n",
        "from sklearn.model_selection import train_test_split, cross_val_score"
      ],
      "execution_count": null,
      "outputs": []
    },
    {
      "cell_type": "markdown",
      "metadata": {
        "id": "RX75mNGLRPy8"
      },
      "source": [
        "## Getting our data ready"
      ]
    },
    {
      "cell_type": "markdown",
      "metadata": {
        "id": "TQFzk-p9OygD"
      },
      "source": [
        "Reading into our `csv` data ."
      ]
    },
    {
      "cell_type": "code",
      "metadata": {
        "colab": {
          "base_uri": "https://localhost:8080/",
          "height": 204
        },
        "id": "9JLAt7VTZFv9",
        "outputId": "db95a78a-141c-4294-de17-ea4ad7b65084"
      },
      "source": [
        "df = pd.read_csv(\"/content/water_potability.csv\")\n",
        "df.head()"
      ],
      "execution_count": null,
      "outputs": [
        {
          "output_type": "execute_result",
          "data": {
            "text/html": [
              "<div>\n",
              "<style scoped>\n",
              "    .dataframe tbody tr th:only-of-type {\n",
              "        vertical-align: middle;\n",
              "    }\n",
              "\n",
              "    .dataframe tbody tr th {\n",
              "        vertical-align: top;\n",
              "    }\n",
              "\n",
              "    .dataframe thead th {\n",
              "        text-align: right;\n",
              "    }\n",
              "</style>\n",
              "<table border=\"1\" class=\"dataframe\">\n",
              "  <thead>\n",
              "    <tr style=\"text-align: right;\">\n",
              "      <th></th>\n",
              "      <th>ph</th>\n",
              "      <th>Hardness</th>\n",
              "      <th>Solids</th>\n",
              "      <th>Chloramines</th>\n",
              "      <th>Sulfate</th>\n",
              "      <th>Conductivity</th>\n",
              "      <th>Organic_carbon</th>\n",
              "      <th>Trihalomethanes</th>\n",
              "      <th>Turbidity</th>\n",
              "      <th>Potability</th>\n",
              "    </tr>\n",
              "  </thead>\n",
              "  <tbody>\n",
              "    <tr>\n",
              "      <th>0</th>\n",
              "      <td>NaN</td>\n",
              "      <td>204.890455</td>\n",
              "      <td>20791.318981</td>\n",
              "      <td>7.300212</td>\n",
              "      <td>368.516441</td>\n",
              "      <td>564.308654</td>\n",
              "      <td>10.379783</td>\n",
              "      <td>86.990970</td>\n",
              "      <td>2.963135</td>\n",
              "      <td>0</td>\n",
              "    </tr>\n",
              "    <tr>\n",
              "      <th>1</th>\n",
              "      <td>3.716080</td>\n",
              "      <td>129.422921</td>\n",
              "      <td>18630.057858</td>\n",
              "      <td>6.635246</td>\n",
              "      <td>NaN</td>\n",
              "      <td>592.885359</td>\n",
              "      <td>15.180013</td>\n",
              "      <td>56.329076</td>\n",
              "      <td>4.500656</td>\n",
              "      <td>0</td>\n",
              "    </tr>\n",
              "    <tr>\n",
              "      <th>2</th>\n",
              "      <td>8.099124</td>\n",
              "      <td>224.236259</td>\n",
              "      <td>19909.541732</td>\n",
              "      <td>9.275884</td>\n",
              "      <td>NaN</td>\n",
              "      <td>418.606213</td>\n",
              "      <td>16.868637</td>\n",
              "      <td>66.420093</td>\n",
              "      <td>3.055934</td>\n",
              "      <td>0</td>\n",
              "    </tr>\n",
              "    <tr>\n",
              "      <th>3</th>\n",
              "      <td>8.316766</td>\n",
              "      <td>214.373394</td>\n",
              "      <td>22018.417441</td>\n",
              "      <td>8.059332</td>\n",
              "      <td>356.886136</td>\n",
              "      <td>363.266516</td>\n",
              "      <td>18.436524</td>\n",
              "      <td>100.341674</td>\n",
              "      <td>4.628771</td>\n",
              "      <td>0</td>\n",
              "    </tr>\n",
              "    <tr>\n",
              "      <th>4</th>\n",
              "      <td>9.092223</td>\n",
              "      <td>181.101509</td>\n",
              "      <td>17978.986339</td>\n",
              "      <td>6.546600</td>\n",
              "      <td>310.135738</td>\n",
              "      <td>398.410813</td>\n",
              "      <td>11.558279</td>\n",
              "      <td>31.997993</td>\n",
              "      <td>4.075075</td>\n",
              "      <td>0</td>\n",
              "    </tr>\n",
              "  </tbody>\n",
              "</table>\n",
              "</div>"
            ],
            "text/plain": [
              "         ph    Hardness        Solids  ...  Trihalomethanes  Turbidity  Potability\n",
              "0       NaN  204.890455  20791.318981  ...        86.990970   2.963135           0\n",
              "1  3.716080  129.422921  18630.057858  ...        56.329076   4.500656           0\n",
              "2  8.099124  224.236259  19909.541732  ...        66.420093   3.055934           0\n",
              "3  8.316766  214.373394  22018.417441  ...       100.341674   4.628771           0\n",
              "4  9.092223  181.101509  17978.986339  ...        31.997993   4.075075           0\n",
              "\n",
              "[5 rows x 10 columns]"
            ]
          },
          "metadata": {
            "tags": []
          },
          "execution_count": 2
        }
      ]
    },
    {
      "cell_type": "code",
      "metadata": {
        "colab": {
          "base_uri": "https://localhost:8080/",
          "height": 204
        },
        "id": "Q0iAPgY0a2XK",
        "outputId": "b986c0f1-96ab-4f0e-e9c2-f19c7cd1ae45"
      },
      "source": [
        "df.tail()"
      ],
      "execution_count": null,
      "outputs": [
        {
          "output_type": "execute_result",
          "data": {
            "text/html": [
              "<div>\n",
              "<style scoped>\n",
              "    .dataframe tbody tr th:only-of-type {\n",
              "        vertical-align: middle;\n",
              "    }\n",
              "\n",
              "    .dataframe tbody tr th {\n",
              "        vertical-align: top;\n",
              "    }\n",
              "\n",
              "    .dataframe thead th {\n",
              "        text-align: right;\n",
              "    }\n",
              "</style>\n",
              "<table border=\"1\" class=\"dataframe\">\n",
              "  <thead>\n",
              "    <tr style=\"text-align: right;\">\n",
              "      <th></th>\n",
              "      <th>ph</th>\n",
              "      <th>Hardness</th>\n",
              "      <th>Solids</th>\n",
              "      <th>Chloramines</th>\n",
              "      <th>Sulfate</th>\n",
              "      <th>Conductivity</th>\n",
              "      <th>Organic_carbon</th>\n",
              "      <th>Trihalomethanes</th>\n",
              "      <th>Turbidity</th>\n",
              "      <th>Potability</th>\n",
              "    </tr>\n",
              "  </thead>\n",
              "  <tbody>\n",
              "    <tr>\n",
              "      <th>3271</th>\n",
              "      <td>4.668102</td>\n",
              "      <td>193.681735</td>\n",
              "      <td>47580.991603</td>\n",
              "      <td>7.166639</td>\n",
              "      <td>359.948574</td>\n",
              "      <td>526.424171</td>\n",
              "      <td>13.894419</td>\n",
              "      <td>66.687695</td>\n",
              "      <td>4.435821</td>\n",
              "      <td>1</td>\n",
              "    </tr>\n",
              "    <tr>\n",
              "      <th>3272</th>\n",
              "      <td>7.808856</td>\n",
              "      <td>193.553212</td>\n",
              "      <td>17329.802160</td>\n",
              "      <td>8.061362</td>\n",
              "      <td>NaN</td>\n",
              "      <td>392.449580</td>\n",
              "      <td>19.903225</td>\n",
              "      <td>NaN</td>\n",
              "      <td>2.798243</td>\n",
              "      <td>1</td>\n",
              "    </tr>\n",
              "    <tr>\n",
              "      <th>3273</th>\n",
              "      <td>9.419510</td>\n",
              "      <td>175.762646</td>\n",
              "      <td>33155.578218</td>\n",
              "      <td>7.350233</td>\n",
              "      <td>NaN</td>\n",
              "      <td>432.044783</td>\n",
              "      <td>11.039070</td>\n",
              "      <td>69.845400</td>\n",
              "      <td>3.298875</td>\n",
              "      <td>1</td>\n",
              "    </tr>\n",
              "    <tr>\n",
              "      <th>3274</th>\n",
              "      <td>5.126763</td>\n",
              "      <td>230.603758</td>\n",
              "      <td>11983.869376</td>\n",
              "      <td>6.303357</td>\n",
              "      <td>NaN</td>\n",
              "      <td>402.883113</td>\n",
              "      <td>11.168946</td>\n",
              "      <td>77.488213</td>\n",
              "      <td>4.708658</td>\n",
              "      <td>1</td>\n",
              "    </tr>\n",
              "    <tr>\n",
              "      <th>3275</th>\n",
              "      <td>7.874671</td>\n",
              "      <td>195.102299</td>\n",
              "      <td>17404.177061</td>\n",
              "      <td>7.509306</td>\n",
              "      <td>NaN</td>\n",
              "      <td>327.459760</td>\n",
              "      <td>16.140368</td>\n",
              "      <td>78.698446</td>\n",
              "      <td>2.309149</td>\n",
              "      <td>1</td>\n",
              "    </tr>\n",
              "  </tbody>\n",
              "</table>\n",
              "</div>"
            ],
            "text/plain": [
              "            ph    Hardness  ...  Turbidity  Potability\n",
              "3271  4.668102  193.681735  ...   4.435821           1\n",
              "3272  7.808856  193.553212  ...   2.798243           1\n",
              "3273  9.419510  175.762646  ...   3.298875           1\n",
              "3274  5.126763  230.603758  ...   4.708658           1\n",
              "3275  7.874671  195.102299  ...   2.309149           1\n",
              "\n",
              "[5 rows x 10 columns]"
            ]
          },
          "metadata": {
            "tags": []
          },
          "execution_count": 3
        }
      ]
    },
    {
      "cell_type": "markdown",
      "metadata": {
        "id": "X-9ECfywO-K2"
      },
      "source": [
        "Checking the length of raw dataset we have availbale with us."
      ]
    },
    {
      "cell_type": "code",
      "metadata": {
        "colab": {
          "base_uri": "https://localhost:8080/"
        },
        "id": "GisH762PbZrf",
        "outputId": "6060aac7-714f-4c81-9735-94679077f853"
      },
      "source": [
        "len(df)"
      ],
      "execution_count": null,
      "outputs": [
        {
          "output_type": "execute_result",
          "data": {
            "text/plain": [
              "3276"
            ]
          },
          "metadata": {
            "tags": []
          },
          "execution_count": 4
        }
      ]
    },
    {
      "cell_type": "markdown",
      "metadata": {
        "id": "6M3B3bbqPI7k"
      },
      "source": [
        "Let's check the number of null values in the `DataFrame`."
      ]
    },
    {
      "cell_type": "code",
      "metadata": {
        "colab": {
          "base_uri": "https://localhost:8080/"
        },
        "id": "cnVCl9Z2cIXk",
        "outputId": "b13a2fc8-b287-4595-9ca0-bf078a7c7112"
      },
      "source": [
        "df[\"ph\"].isnull().sum()"
      ],
      "execution_count": null,
      "outputs": [
        {
          "output_type": "execute_result",
          "data": {
            "text/plain": [
              "491"
            ]
          },
          "metadata": {
            "tags": []
          },
          "execution_count": 6
        }
      ]
    },
    {
      "cell_type": "code",
      "metadata": {
        "colab": {
          "base_uri": "https://localhost:8080/",
          "height": 262
        },
        "id": "KVxRyQ0WhqeS",
        "outputId": "bbf4fdee-dcdf-4be9-e89c-326fee87bbfe"
      },
      "source": [
        "df[\"Potability\"].value_counts().plot(kind=\"bar\", color=[\"salmon\", \"lightblue\"]);"
      ],
      "execution_count": null,
      "outputs": [
        {
          "output_type": "display_data",
          "data": {
            "image/png": "[encoded data removed]",
            "text/plain": [
              "<Figure size 432x288 with 1 Axes>"
            ]
          },
          "metadata": {
            "tags": [],
            "needs_background": "light"
          }
        }
      ]
    },
    {
      "cell_type": "markdown",
      "metadata": {
        "id": "Wiu4nMGJRU1U"
      },
      "source": [
        "### Check for `null` values"
      ]
    },
    {
      "cell_type": "code",
      "metadata": {
        "colab": {
          "base_uri": "https://localhost:8080/"
        },
        "id": "eHN7rAUvdPSN",
        "outputId": "854e6f1f-a5c2-4022-a809-9272f2c0ceb6"
      },
      "source": [
        "# finding columns with null values\n",
        "for elem in df.columns:\n",
        "  null = df[elem].isnull().sum()\n",
        "  if null:\n",
        "    print(f\"Number of Null values for {elem} is {null}\")"
      ],
      "execution_count": null,
      "outputs": [
        {
          "output_type": "stream",
          "text": [
            "Number of Null values for ph is 491\n",
            "Number of Null values for Sulfate is 781\n",
            "Number of Null values for Trihalomethanes is 162\n"
          ],
          "name": "stdout"
        }
      ]
    },
    {
      "cell_type": "code",
      "metadata": {
        "colab": {
          "base_uri": "https://localhost:8080/",
          "height": 265
        },
        "id": "ZKWHpJN5CbLZ",
        "outputId": "3f1a9362-e8b6-4c14-ee88-3a6745bc289c"
      },
      "source": [
        "plt.hist(df[\"Potability\"], color=\"#B993D6\");"
      ],
      "execution_count": null,
      "outputs": [
        {
          "output_type": "display_data",
          "data": {
            "image/png": "[encoded data removed]",
            "text/plain": [
              "<Figure size 432x288 with 1 Axes>"
            ]
          },
          "metadata": {
            "tags": [],
            "needs_background": "light"
          }
        }
      ]
    },
    {
      "cell_type": "markdown",
      "metadata": {
        "id": "5pi65m6JRaTc"
      },
      "source": [
        "### Insights of the data"
      ]
    },
    {
      "cell_type": "code",
      "metadata": {
        "colab": {
          "base_uri": "https://localhost:8080/",
          "height": 297
        },
        "id": "4k6IbrXih0V4",
        "outputId": "46aca109-227a-4f06-f063-e4c9eee57fe2"
      },
      "source": [
        "df.describe()"
      ],
      "execution_count": null,
      "outputs": [
        {
          "output_type": "execute_result",
          "data": {
            "text/html": [
              "<div>\n",
              "<style scoped>\n",
              "    .dataframe tbody tr th:only-of-type {\n",
              "        vertical-align: middle;\n",
              "    }\n",
              "\n",
              "    .dataframe tbody tr th {\n",
              "        vertical-align: top;\n",
              "    }\n",
              "\n",
              "    .dataframe thead th {\n",
              "        text-align: right;\n",
              "    }\n",
              "</style>\n",
              "<table border=\"1\" class=\"dataframe\">\n",
              "  <thead>\n",
              "    <tr style=\"text-align: right;\">\n",
              "      <th></th>\n",
              "      <th>ph</th>\n",
              "      <th>Hardness</th>\n",
              "      <th>Solids</th>\n",
              "      <th>Chloramines</th>\n",
              "      <th>Sulfate</th>\n",
              "      <th>Conductivity</th>\n",
              "      <th>Organic_carbon</th>\n",
              "      <th>Trihalomethanes</th>\n",
              "      <th>Turbidity</th>\n",
              "      <th>Potability</th>\n",
              "    </tr>\n",
              "  </thead>\n",
              "  <tbody>\n",
              "    <tr>\n",
              "      <th>count</th>\n",
              "      <td>3276.000000</td>\n",
              "      <td>3276.000000</td>\n",
              "      <td>3276.000000</td>\n",
              "      <td>3276.000000</td>\n",
              "      <td>3276.000000</td>\n",
              "      <td>3276.000000</td>\n",
              "      <td>3276.000000</td>\n",
              "      <td>3276.000000</td>\n",
              "      <td>3276.000000</td>\n",
              "      <td>3276.000000</td>\n",
              "    </tr>\n",
              "    <tr>\n",
              "      <th>mean</th>\n",
              "      <td>7.080795</td>\n",
              "      <td>196.369496</td>\n",
              "      <td>22014.092526</td>\n",
              "      <td>7.122277</td>\n",
              "      <td>333.775777</td>\n",
              "      <td>426.205111</td>\n",
              "      <td>14.284970</td>\n",
              "      <td>66.396293</td>\n",
              "      <td>3.966786</td>\n",
              "      <td>0.390110</td>\n",
              "    </tr>\n",
              "    <tr>\n",
              "      <th>std</th>\n",
              "      <td>1.469956</td>\n",
              "      <td>32.879761</td>\n",
              "      <td>8768.570828</td>\n",
              "      <td>1.583085</td>\n",
              "      <td>36.142612</td>\n",
              "      <td>80.824064</td>\n",
              "      <td>3.308162</td>\n",
              "      <td>15.769881</td>\n",
              "      <td>0.780382</td>\n",
              "      <td>0.487849</td>\n",
              "    </tr>\n",
              "    <tr>\n",
              "      <th>min</th>\n",
              "      <td>0.000000</td>\n",
              "      <td>47.432000</td>\n",
              "      <td>320.942611</td>\n",
              "      <td>0.352000</td>\n",
              "      <td>129.000000</td>\n",
              "      <td>181.483754</td>\n",
              "      <td>2.200000</td>\n",
              "      <td>0.738000</td>\n",
              "      <td>1.450000</td>\n",
              "      <td>0.000000</td>\n",
              "    </tr>\n",
              "    <tr>\n",
              "      <th>25%</th>\n",
              "      <td>6.277673</td>\n",
              "      <td>176.850538</td>\n",
              "      <td>15666.690297</td>\n",
              "      <td>6.127421</td>\n",
              "      <td>317.094638</td>\n",
              "      <td>365.734414</td>\n",
              "      <td>12.065801</td>\n",
              "      <td>56.647656</td>\n",
              "      <td>3.439711</td>\n",
              "      <td>0.000000</td>\n",
              "    </tr>\n",
              "    <tr>\n",
              "      <th>50%</th>\n",
              "      <td>7.080795</td>\n",
              "      <td>196.967627</td>\n",
              "      <td>20927.833607</td>\n",
              "      <td>7.130299</td>\n",
              "      <td>333.775777</td>\n",
              "      <td>421.884968</td>\n",
              "      <td>14.218338</td>\n",
              "      <td>66.396293</td>\n",
              "      <td>3.955028</td>\n",
              "      <td>0.000000</td>\n",
              "    </tr>\n",
              "    <tr>\n",
              "      <th>75%</th>\n",
              "      <td>7.870050</td>\n",
              "      <td>216.667456</td>\n",
              "      <td>27332.762127</td>\n",
              "      <td>8.114887</td>\n",
              "      <td>350.385756</td>\n",
              "      <td>481.792304</td>\n",
              "      <td>16.557652</td>\n",
              "      <td>76.666609</td>\n",
              "      <td>4.500320</td>\n",
              "      <td>1.000000</td>\n",
              "    </tr>\n",
              "    <tr>\n",
              "      <th>max</th>\n",
              "      <td>14.000000</td>\n",
              "      <td>323.124000</td>\n",
              "      <td>61227.196008</td>\n",
              "      <td>13.127000</td>\n",
              "      <td>481.030642</td>\n",
              "      <td>753.342620</td>\n",
              "      <td>28.300000</td>\n",
              "      <td>124.000000</td>\n",
              "      <td>6.739000</td>\n",
              "      <td>1.000000</td>\n",
              "    </tr>\n",
              "  </tbody>\n",
              "</table>\n",
              "</div>"
            ],
            "text/plain": [
              "                ph     Hardness  ...    Turbidity   Potability\n",
              "count  3276.000000  3276.000000  ...  3276.000000  3276.000000\n",
              "mean      7.080795   196.369496  ...     3.966786     0.390110\n",
              "std       1.469956    32.879761  ...     0.780382     0.487849\n",
              "min       0.000000    47.432000  ...     1.450000     0.000000\n",
              "25%       6.277673   176.850538  ...     3.439711     0.000000\n",
              "50%       7.080795   196.967627  ...     3.955028     0.000000\n",
              "75%       7.870050   216.667456  ...     4.500320     1.000000\n",
              "max      14.000000   323.124000  ...     6.739000     1.000000\n",
              "\n",
              "[8 rows x 10 columns]"
            ]
          },
          "metadata": {
            "tags": []
          },
          "execution_count": 164
        }
      ]
    },
    {
      "cell_type": "markdown",
      "metadata": {
        "id": "HFFwjkTbRfxw"
      },
      "source": [
        "### Visualizing the data\n",
        "\n",
        "There are 9 features for this data set. Let's plot them on a graph and try to understand how each feature is helpful for target prediction."
      ]
    },
    {
      "cell_type": "code",
      "metadata": {
        "colab": {
          "base_uri": "https://localhost:8080/",
          "height": 743
        },
        "id": "xOrGUBKXCbIX",
        "outputId": "ad4a4f97-3e2f-4bd9-a365-31886a476c4d"
      },
      "source": [
        "fig, axs = plt.subplots(3, 3)\n",
        "k=0\n",
        "fig.set_size_inches(18.5, 12.5)\n",
        "plt.colormaps()\n",
        "for i in range(0, 3):\n",
        "  for j in range(0, 3):\n",
        "    axs[i, j].plot(df[df.columns[k]], color=\"#B993D6\")\n",
        "    axs[i, j].set_title(df.columns[k])\n",
        "    k +=1"
      ],
      "execution_count": null,
      "outputs": [
        {
          "output_type": "display_data",
          "data": {
            "image/png": "[encoded data removed]",
            "text/plain": [
              "<Figure size 1332x900 with 9 Axes>"
            ]
          },
          "metadata": {
            "tags": [],
            "needs_background": "light"
          }
        }
      ]
    },
    {
      "cell_type": "code",
      "metadata": {
        "colab": {
          "base_uri": "https://localhost:8080/",
          "height": 743
        },
        "id": "j71MRuLvMyP-",
        "outputId": "6170dc09-b6b1-4461-c899-224e633d995a"
      },
      "source": [
        "fig, axs = plt.subplots(3, 3)\n",
        "k=0\n",
        "fig.set_size_inches(18.5, 12.5)\n",
        "for i in range(0, 3):\n",
        "  for j in range(0, 3):\n",
        "    axs[i, j].hist(df[df.columns[k]], color=\"#B993D6\")\n",
        "    axs[i, j].set_title(df.columns[k])\n",
        "    k +=1"
      ],
      "execution_count": null,
      "outputs": [
        {
          "output_type": "display_data",
          "data": {
            "image/png": "[encoded data removed]",
            "text/plain": [
              "<Figure size 1332x900 with 9 Axes>"
            ]
          },
          "metadata": {
            "tags": [],
            "needs_background": "light"
          }
        }
      ]
    },
    {
      "cell_type": "markdown",
      "metadata": {
        "id": "d-FKl9DISF9m"
      },
      "source": [
        "## Filling the missing values\n",
        "\n",
        "As we already discussed the dataset has some missing values. For this notebook we will be filling the missing the values with the mean of the available values."
      ]
    },
    {
      "cell_type": "code",
      "metadata": {
        "id": "HHR44eueOcgG"
      },
      "source": [
        "df[\"ph\"].fillna((df['ph'].mean()), inplace=True)\n",
        "df[\"Sulfate\"].fillna((df['Sulfate'].mean()), inplace=True)\n",
        "df[\"Trihalomethanes\"].fillna((df['Trihalomethanes'].mean()), inplace=True)"
      ],
      "execution_count": null,
      "outputs": []
    },
    {
      "cell_type": "code",
      "metadata": {
        "colab": {
          "base_uri": "https://localhost:8080/",
          "height": 204
        },
        "id": "JU1o5z8hOcdN",
        "outputId": "4ec68fb3-a3fa-472a-e024-e6a2dd1f172d"
      },
      "source": [
        "df.head()"
      ],
      "execution_count": null,
      "outputs": [
        {
          "output_type": "execute_result",
          "data": {
            "text/html": [
              "<div>\n",
              "<style scoped>\n",
              "    .dataframe tbody tr th:only-of-type {\n",
              "        vertical-align: middle;\n",
              "    }\n",
              "\n",
              "    .dataframe tbody tr th {\n",
              "        vertical-align: top;\n",
              "    }\n",
              "\n",
              "    .dataframe thead th {\n",
              "        text-align: right;\n",
              "    }\n",
              "</style>\n",
              "<table border=\"1\" class=\"dataframe\">\n",
              "  <thead>\n",
              "    <tr style=\"text-align: right;\">\n",
              "      <th></th>\n",
              "      <th>ph</th>\n",
              "      <th>Hardness</th>\n",
              "      <th>Solids</th>\n",
              "      <th>Chloramines</th>\n",
              "      <th>Sulfate</th>\n",
              "      <th>Conductivity</th>\n",
              "      <th>Organic_carbon</th>\n",
              "      <th>Trihalomethanes</th>\n",
              "      <th>Turbidity</th>\n",
              "      <th>Potability</th>\n",
              "    </tr>\n",
              "  </thead>\n",
              "  <tbody>\n",
              "    <tr>\n",
              "      <th>0</th>\n",
              "      <td>7.080795</td>\n",
              "      <td>204.890455</td>\n",
              "      <td>20791.318981</td>\n",
              "      <td>7.300212</td>\n",
              "      <td>368.516441</td>\n",
              "      <td>564.308654</td>\n",
              "      <td>10.379783</td>\n",
              "      <td>86.990970</td>\n",
              "      <td>2.963135</td>\n",
              "      <td>0</td>\n",
              "    </tr>\n",
              "    <tr>\n",
              "      <th>1</th>\n",
              "      <td>3.716080</td>\n",
              "      <td>129.422921</td>\n",
              "      <td>18630.057858</td>\n",
              "      <td>6.635246</td>\n",
              "      <td>333.775777</td>\n",
              "      <td>592.885359</td>\n",
              "      <td>15.180013</td>\n",
              "      <td>56.329076</td>\n",
              "      <td>4.500656</td>\n",
              "      <td>0</td>\n",
              "    </tr>\n",
              "    <tr>\n",
              "      <th>2</th>\n",
              "      <td>8.099124</td>\n",
              "      <td>224.236259</td>\n",
              "      <td>19909.541732</td>\n",
              "      <td>9.275884</td>\n",
              "      <td>333.775777</td>\n",
              "      <td>418.606213</td>\n",
              "      <td>16.868637</td>\n",
              "      <td>66.420093</td>\n",
              "      <td>3.055934</td>\n",
              "      <td>0</td>\n",
              "    </tr>\n",
              "    <tr>\n",
              "      <th>3</th>\n",
              "      <td>8.316766</td>\n",
              "      <td>214.373394</td>\n",
              "      <td>22018.417441</td>\n",
              "      <td>8.059332</td>\n",
              "      <td>356.886136</td>\n",
              "      <td>363.266516</td>\n",
              "      <td>18.436524</td>\n",
              "      <td>100.341674</td>\n",
              "      <td>4.628771</td>\n",
              "      <td>0</td>\n",
              "    </tr>\n",
              "    <tr>\n",
              "      <th>4</th>\n",
              "      <td>9.092223</td>\n",
              "      <td>181.101509</td>\n",
              "      <td>17978.986339</td>\n",
              "      <td>6.546600</td>\n",
              "      <td>310.135738</td>\n",
              "      <td>398.410813</td>\n",
              "      <td>11.558279</td>\n",
              "      <td>31.997993</td>\n",
              "      <td>4.075075</td>\n",
              "      <td>0</td>\n",
              "    </tr>\n",
              "  </tbody>\n",
              "</table>\n",
              "</div>"
            ],
            "text/plain": [
              "         ph    Hardness        Solids  ...  Trihalomethanes  Turbidity  Potability\n",
              "0  7.080795  204.890455  20791.318981  ...        86.990970   2.963135           0\n",
              "1  3.716080  129.422921  18630.057858  ...        56.329076   4.500656           0\n",
              "2  8.099124  224.236259  19909.541732  ...        66.420093   3.055934           0\n",
              "3  8.316766  214.373394  22018.417441  ...       100.341674   4.628771           0\n",
              "4  9.092223  181.101509  17978.986339  ...        31.997993   4.075075           0\n",
              "\n",
              "[5 rows x 10 columns]"
            ]
          },
          "metadata": {
            "tags": []
          },
          "execution_count": 123
        }
      ]
    },
    {
      "cell_type": "code",
      "metadata": {
        "id": "hEyzoS7zLPJl"
      },
      "source": [
        "# finding columns with null values\n",
        "for elem in df.columns:\n",
        "  null = df[elem].isnull().sum()\n",
        "  if null:\n",
        "    print(f\"Number of Null values for {elem} is {null}\")"
      ],
      "execution_count": null,
      "outputs": []
    },
    {
      "cell_type": "markdown",
      "metadata": {
        "id": "obfnCaTfdJIu"
      },
      "source": [
        "## Balancing the data\n",
        "\n",
        "The data we have been given is unfortunately not balanced and using this kind of uneven data would lead to improper decision making for our model. To solve this issue we will limit the excess target values meaning droping them and continuing only with equal number of target columns which in our case is `Potability`."
      ]
    },
    {
      "cell_type": "code",
      "metadata": {
        "id": "_VCCtvWbdG4_"
      },
      "source": [
        "# Balancing the data\n",
        "df_drop = df.groupby(\"Potability\").apply(lambda x: x.sample(n=1278)).reset_index(drop = True)"
      ],
      "execution_count": null,
      "outputs": []
    },
    {
      "cell_type": "markdown",
      "metadata": {
        "id": "eamEuU96TJoi"
      },
      "source": [
        "See, now the number of values in our data is equal."
      ]
    },
    {
      "cell_type": "code",
      "metadata": {
        "colab": {
          "base_uri": "https://localhost:8080/"
        },
        "id": "AuuIZrrGd-hb",
        "outputId": "fae13cdb-f466-45b2-b67f-77d0b3095e30"
      },
      "source": [
        "df_drop[\"Potability\"].value_counts()"
      ],
      "execution_count": null,
      "outputs": [
        {
          "output_type": "execute_result",
          "data": {
            "text/plain": [
              "1    1278\n",
              "0    1278\n",
              "Name: Potability, dtype: int64"
            ]
          },
          "metadata": {
            "tags": []
          },
          "execution_count": 130
        }
      ]
    },
    {
      "cell_type": "markdown",
      "metadata": {
        "id": "3JKdN6XETWx1"
      },
      "source": [
        "## Splitting the data"
      ]
    },
    {
      "cell_type": "code",
      "metadata": {
        "id": "3aSf79ZPQTwh"
      },
      "source": [
        "X = df_drop.drop(columns=\"Potability\")\n",
        "y = df_drop[\"Potability\"]"
      ],
      "execution_count": null,
      "outputs": []
    },
    {
      "cell_type": "markdown",
      "metadata": {
        "id": "5zgV0iKzTbGl"
      },
      "source": [
        "To check the visualizations after balancing and dropping some of the data."
      ]
    },
    {
      "cell_type": "code",
      "metadata": {
        "colab": {
          "base_uri": "https://localhost:8080/",
          "height": 743
        },
        "id": "lmKJ7k8lgJ5p",
        "outputId": "244afcba-93bc-492b-ed0f-d071a0ca5678"
      },
      "source": [
        "fig, axs = plt.subplots(3, 3)\n",
        "k=0\n",
        "fig.set_size_inches(18.5, 12.5)\n",
        "for i in range(0, 3):\n",
        "  for j in range(0, 3):\n",
        "    axs[i, j].hist(df_drop[df_drop.columns[k]], color=\"#B993D6\")\n",
        "    axs[i, j].set_title(df_drop.columns[k])\n",
        "    k +=1"
      ],
      "execution_count": null,
      "outputs": [
        {
          "output_type": "display_data",
          "data": {
            "image/png": "[encoded data removed]",
            "text/plain": [
              "<Figure size 1332x900 with 9 Axes>"
            ]
          },
          "metadata": {
            "tags": [],
            "needs_background": "light"
          }
        }
      ]
    },
    {
      "cell_type": "code",
      "metadata": {
        "colab": {
          "base_uri": "https://localhost:8080/",
          "height": 204
        },
        "id": "O8OAC44qeQ0o",
        "outputId": "ffbab074-d4ae-431a-e80f-f4d20ffd6f54"
      },
      "source": [
        "X.head()"
      ],
      "execution_count": null,
      "outputs": [
        {
          "output_type": "execute_result",
          "data": {
            "text/html": [
              "<div>\n",
              "<style scoped>\n",
              "    .dataframe tbody tr th:only-of-type {\n",
              "        vertical-align: middle;\n",
              "    }\n",
              "\n",
              "    .dataframe tbody tr th {\n",
              "        vertical-align: top;\n",
              "    }\n",
              "\n",
              "    .dataframe thead th {\n",
              "        text-align: right;\n",
              "    }\n",
              "</style>\n",
              "<table border=\"1\" class=\"dataframe\">\n",
              "  <thead>\n",
              "    <tr style=\"text-align: right;\">\n",
              "      <th></th>\n",
              "      <th>ph</th>\n",
              "      <th>Hardness</th>\n",
              "      <th>Solids</th>\n",
              "      <th>Chloramines</th>\n",
              "      <th>Sulfate</th>\n",
              "      <th>Conductivity</th>\n",
              "      <th>Organic_carbon</th>\n",
              "      <th>Trihalomethanes</th>\n",
              "      <th>Turbidity</th>\n",
              "    </tr>\n",
              "  </thead>\n",
              "  <tbody>\n",
              "    <tr>\n",
              "      <th>0</th>\n",
              "      <td>6.283679</td>\n",
              "      <td>205.376624</td>\n",
              "      <td>19905.436548</td>\n",
              "      <td>7.078345</td>\n",
              "      <td>284.206021</td>\n",
              "      <td>471.904032</td>\n",
              "      <td>18.027160</td>\n",
              "      <td>64.362608</td>\n",
              "      <td>4.480771</td>\n",
              "    </tr>\n",
              "    <tr>\n",
              "      <th>1</th>\n",
              "      <td>2.803563</td>\n",
              "      <td>186.123924</td>\n",
              "      <td>11920.907422</td>\n",
              "      <td>8.642034</td>\n",
              "      <td>332.744519</td>\n",
              "      <td>447.594219</td>\n",
              "      <td>18.482185</td>\n",
              "      <td>87.697443</td>\n",
              "      <td>3.489939</td>\n",
              "    </tr>\n",
              "    <tr>\n",
              "      <th>2</th>\n",
              "      <td>7.080795</td>\n",
              "      <td>185.121996</td>\n",
              "      <td>16110.183643</td>\n",
              "      <td>6.444435</td>\n",
              "      <td>355.567366</td>\n",
              "      <td>386.508599</td>\n",
              "      <td>11.215654</td>\n",
              "      <td>38.041516</td>\n",
              "      <td>2.840893</td>\n",
              "    </tr>\n",
              "    <tr>\n",
              "      <th>3</th>\n",
              "      <td>6.320375</td>\n",
              "      <td>165.821545</td>\n",
              "      <td>20481.642071</td>\n",
              "      <td>7.605958</td>\n",
              "      <td>354.289035</td>\n",
              "      <td>422.341048</td>\n",
              "      <td>14.793960</td>\n",
              "      <td>46.043065</td>\n",
              "      <td>2.728617</td>\n",
              "    </tr>\n",
              "    <tr>\n",
              "      <th>4</th>\n",
              "      <td>6.988206</td>\n",
              "      <td>144.209535</td>\n",
              "      <td>33357.515863</td>\n",
              "      <td>6.771945</td>\n",
              "      <td>333.775777</td>\n",
              "      <td>409.006788</td>\n",
              "      <td>17.880332</td>\n",
              "      <td>54.111785</td>\n",
              "      <td>1.899683</td>\n",
              "    </tr>\n",
              "  </tbody>\n",
              "</table>\n",
              "</div>"
            ],
            "text/plain": [
              "         ph    Hardness  ...  Trihalomethanes  Turbidity\n",
              "0  6.283679  205.376624  ...        64.362608   4.480771\n",
              "1  2.803563  186.123924  ...        87.697443   3.489939\n",
              "2  7.080795  185.121996  ...        38.041516   2.840893\n",
              "3  6.320375  165.821545  ...        46.043065   2.728617\n",
              "4  6.988206  144.209535  ...        54.111785   1.899683\n",
              "\n",
              "[5 rows x 9 columns]"
            ]
          },
          "metadata": {
            "tags": []
          },
          "execution_count": 132
        }
      ]
    },
    {
      "cell_type": "code",
      "metadata": {
        "colab": {
          "base_uri": "https://localhost:8080/"
        },
        "id": "4TQEydSFQVkG",
        "outputId": "2b35e9f4-2646-4ec1-fab2-bbf3119520e2"
      },
      "source": [
        "y.head()"
      ],
      "execution_count": null,
      "outputs": [
        {
          "output_type": "execute_result",
          "data": {
            "text/plain": [
              "0    0\n",
              "1    0\n",
              "2    0\n",
              "3    0\n",
              "4    0\n",
              "Name: Potability, dtype: int64"
            ]
          },
          "metadata": {
            "tags": []
          },
          "execution_count": 133
        }
      ]
    },
    {
      "cell_type": "code",
      "metadata": {
        "colab": {
          "base_uri": "https://localhost:8080/"
        },
        "id": "zFYnHRVdRWIf",
        "outputId": "6be37a77-fd30-4839-8258-9184bdd0618a"
      },
      "source": [
        "len(X), len(y)"
      ],
      "execution_count": null,
      "outputs": [
        {
          "output_type": "execute_result",
          "data": {
            "text/plain": [
              "(2556, 2556)"
            ]
          },
          "metadata": {
            "tags": []
          },
          "execution_count": 134
        }
      ]
    },
    {
      "cell_type": "markdown",
      "metadata": {
        "id": "wdjkiWc2TpjO"
      },
      "source": [
        "### Train Test split"
      ]
    },
    {
      "cell_type": "code",
      "metadata": {
        "id": "kSlld2FXRaqM"
      },
      "source": [
        "# train, test split\n",
        "X_train, X_test, y_train, y_test = train_test_split(X, y, \n",
        "                                                    test_size=0.15, \n",
        "                                                    random_state=42)"
      ],
      "execution_count": null,
      "outputs": []
    },
    {
      "cell_type": "code",
      "metadata": {
        "colab": {
          "base_uri": "https://localhost:8080/"
        },
        "id": "yYFcmcLjRnu-",
        "outputId": "6132e53d-479c-468f-c353-150ae19387b6"
      },
      "source": [
        "len(X_train), len(y_train), len(X_test), len(y_test)"
      ],
      "execution_count": null,
      "outputs": [
        {
          "output_type": "execute_result",
          "data": {
            "text/plain": [
              "(2172, 2172, 384, 384)"
            ]
          },
          "metadata": {
            "tags": []
          },
          "execution_count": 136
        }
      ]
    },
    {
      "cell_type": "code",
      "metadata": {
        "colab": {
          "base_uri": "https://localhost:8080/",
          "height": 204
        },
        "id": "wf32yhKxRtak",
        "outputId": "03610b9f-5a20-4d67-87ae-d52e45d81dc6"
      },
      "source": [
        "X_train.head()"
      ],
      "execution_count": null,
      "outputs": [
        {
          "output_type": "execute_result",
          "data": {
            "text/html": [
              "<div>\n",
              "<style scoped>\n",
              "    .dataframe tbody tr th:only-of-type {\n",
              "        vertical-align: middle;\n",
              "    }\n",
              "\n",
              "    .dataframe tbody tr th {\n",
              "        vertical-align: top;\n",
              "    }\n",
              "\n",
              "    .dataframe thead th {\n",
              "        text-align: right;\n",
              "    }\n",
              "</style>\n",
              "<table border=\"1\" class=\"dataframe\">\n",
              "  <thead>\n",
              "    <tr style=\"text-align: right;\">\n",
              "      <th></th>\n",
              "      <th>ph</th>\n",
              "      <th>Hardness</th>\n",
              "      <th>Solids</th>\n",
              "      <th>Chloramines</th>\n",
              "      <th>Sulfate</th>\n",
              "      <th>Conductivity</th>\n",
              "      <th>Organic_carbon</th>\n",
              "      <th>Trihalomethanes</th>\n",
              "      <th>Turbidity</th>\n",
              "    </tr>\n",
              "  </thead>\n",
              "  <tbody>\n",
              "    <tr>\n",
              "      <th>443</th>\n",
              "      <td>7.858663</td>\n",
              "      <td>210.954754</td>\n",
              "      <td>26703.853473</td>\n",
              "      <td>6.509065</td>\n",
              "      <td>341.341899</td>\n",
              "      <td>374.072845</td>\n",
              "      <td>8.811986</td>\n",
              "      <td>72.799798</td>\n",
              "      <td>3.422471</td>\n",
              "    </tr>\n",
              "    <tr>\n",
              "      <th>208</th>\n",
              "      <td>5.574117</td>\n",
              "      <td>193.158076</td>\n",
              "      <td>17546.403256</td>\n",
              "      <td>9.219973</td>\n",
              "      <td>366.197418</td>\n",
              "      <td>538.532518</td>\n",
              "      <td>13.951332</td>\n",
              "      <td>67.142033</td>\n",
              "      <td>5.152528</td>\n",
              "    </tr>\n",
              "    <tr>\n",
              "      <th>2316</th>\n",
              "      <td>5.636924</td>\n",
              "      <td>159.139410</td>\n",
              "      <td>27283.780655</td>\n",
              "      <td>6.918727</td>\n",
              "      <td>328.907287</td>\n",
              "      <td>317.830981</td>\n",
              "      <td>13.611408</td>\n",
              "      <td>36.335199</td>\n",
              "      <td>3.007138</td>\n",
              "    </tr>\n",
              "    <tr>\n",
              "      <th>445</th>\n",
              "      <td>6.922042</td>\n",
              "      <td>201.410123</td>\n",
              "      <td>16515.872166</td>\n",
              "      <td>8.463004</td>\n",
              "      <td>357.935222</td>\n",
              "      <td>336.046451</td>\n",
              "      <td>20.929103</td>\n",
              "      <td>60.520904</td>\n",
              "      <td>4.242947</td>\n",
              "    </tr>\n",
              "    <tr>\n",
              "      <th>679</th>\n",
              "      <td>7.400239</td>\n",
              "      <td>218.824813</td>\n",
              "      <td>8136.071591</td>\n",
              "      <td>6.286358</td>\n",
              "      <td>310.761160</td>\n",
              "      <td>518.732778</td>\n",
              "      <td>15.186342</td>\n",
              "      <td>50.837013</td>\n",
              "      <td>4.880120</td>\n",
              "    </tr>\n",
              "  </tbody>\n",
              "</table>\n",
              "</div>"
            ],
            "text/plain": [
              "            ph    Hardness  ...  Trihalomethanes  Turbidity\n",
              "443   7.858663  210.954754  ...        72.799798   3.422471\n",
              "208   5.574117  193.158076  ...        67.142033   5.152528\n",
              "2316  5.636924  159.139410  ...        36.335199   3.007138\n",
              "445   6.922042  201.410123  ...        60.520904   4.242947\n",
              "679   7.400239  218.824813  ...        50.837013   4.880120\n",
              "\n",
              "[5 rows x 9 columns]"
            ]
          },
          "metadata": {
            "tags": []
          },
          "execution_count": 137
        }
      ]
    },
    {
      "cell_type": "code",
      "metadata": {
        "colab": {
          "base_uri": "https://localhost:8080/"
        },
        "id": "ZBqF5Rg5R1iQ",
        "outputId": "94b2c0c8-776f-49f5-f98f-31718aff4e35"
      },
      "source": [
        "y_train.head()"
      ],
      "execution_count": null,
      "outputs": [
        {
          "output_type": "execute_result",
          "data": {
            "text/plain": [
              "443     0\n",
              "208     0\n",
              "2316    1\n",
              "445     0\n",
              "679     0\n",
              "Name: Potability, dtype: int64"
            ]
          },
          "metadata": {
            "tags": []
          },
          "execution_count": 138
        }
      ]
    },
    {
      "cell_type": "code",
      "metadata": {
        "colab": {
          "base_uri": "https://localhost:8080/"
        },
        "id": "iGJSm73IR4mv",
        "outputId": "1daa789c-b0d5-4a5b-fb72-215a07f3f0b4"
      },
      "source": [
        "y_train.value_counts()"
      ],
      "execution_count": null,
      "outputs": [
        {
          "output_type": "execute_result",
          "data": {
            "text/plain": [
              "1    1087\n",
              "0    1085\n",
              "Name: Potability, dtype: int64"
            ]
          },
          "metadata": {
            "tags": []
          },
          "execution_count": 139
        }
      ]
    },
    {
      "cell_type": "code",
      "metadata": {
        "colab": {
          "base_uri": "https://localhost:8080/"
        },
        "id": "frT_VBKgR_Nj",
        "outputId": "7d485dee-d488-4dc1-c047-d014323a68f4"
      },
      "source": [
        "y_test.value_counts()"
      ],
      "execution_count": null,
      "outputs": [
        {
          "output_type": "execute_result",
          "data": {
            "text/plain": [
              "0    193\n",
              "1    191\n",
              "Name: Potability, dtype: int64"
            ]
          },
          "metadata": {
            "tags": []
          },
          "execution_count": 140
        }
      ]
    },
    {
      "cell_type": "markdown",
      "metadata": {
        "id": "DgdI79U0SnAl"
      },
      "source": [
        "## Models\n",
        "\n",
        "For this regression model I have limited myself to not to use tensorflow and focus more on Scikit-learn an awesome Machine Learning library and my favourite for regression models."
      ]
    },
    {
      "cell_type": "markdown",
      "metadata": {
        "id": "kzTG66pSSo2t"
      },
      "source": [
        "### Model 1 (Using Tensorflow)\n",
        "This is the first model using tensorflow just to see what our own custom created models can reach."
      ]
    },
    {
      "cell_type": "code",
      "metadata": {
        "colab": {
          "base_uri": "https://localhost:8080/"
        },
        "id": "N7HTtkt5SLN_",
        "outputId": "e1ec71c0-ed24-4988-942d-eea3a87826ce"
      },
      "source": [
        "# Creating a model\n",
        "model_1 = tf.keras.Sequential([\n",
        "  # tf.keras.layers.Dense(100, activation=\"relu\"),\n",
        "  # tf.keras.layers.Dense(25, activation=\"relu\"),\n",
        "  tf.keras.layers.Dense(25, activation=\"relu\"),\n",
        "  tf.keras.layers.Dense(1, activation=\"sigmoid\")\n",
        "])\n",
        "\n",
        "# Compiling the model\n",
        "model_1.compile(loss=tf.keras.losses.mae,\n",
        "                optimizer=tf.keras.optimizers.SGD(),\n",
        "                metrics=[\"mae\"])\n",
        "\n",
        "# Fitting the model\n",
        "model_1.fit(X_train, y_train,\n",
        "            epochs=50)"
      ],
      "execution_count": null,
      "outputs": [
        {
          "output_type": "stream",
          "text": [
            "Epoch 1/50\n",
            "68/68 [==============================] - 0s 1ms/step - loss: 0.5005 - mae: 0.5005\n",
            "Epoch 2/50\n",
            "68/68 [==============================] - 0s 1ms/step - loss: 0.5005 - mae: 0.5005\n",
            "Epoch 3/50\n",
            "68/68 [==============================] - 0s 1ms/step - loss: 0.5005 - mae: 0.5005\n",
            "Epoch 4/50\n",
            "68/68 [==============================] - 0s 1ms/step - loss: 0.5005 - mae: 0.5005\n",
            "Epoch 5/50\n",
            "68/68 [==============================] - 0s 1ms/step - loss: 0.5005 - mae: 0.5005\n",
            "Epoch 6/50\n",
            "68/68 [==============================] - 0s 1ms/step - loss: 0.5005 - mae: 0.5005\n",
            "Epoch 7/50\n",
            "68/68 [==============================] - 0s 1ms/step - loss: 0.5005 - mae: 0.5005\n",
            "Epoch 8/50\n",
            "68/68 [==============================] - 0s 1ms/step - loss: 0.5005 - mae: 0.5005\n",
            "Epoch 9/50\n",
            "68/68 [==============================] - 0s 1ms/step - loss: 0.5005 - mae: 0.5005\n",
            "Epoch 10/50\n",
            "68/68 [==============================] - 0s 1ms/step - loss: 0.5005 - mae: 0.5005\n",
            "Epoch 11/50\n",
            "68/68 [==============================] - 0s 1ms/step - loss: 0.5005 - mae: 0.5005\n",
            "Epoch 12/50\n",
            "68/68 [==============================] - 0s 1ms/step - loss: 0.5005 - mae: 0.5005\n",
            "Epoch 13/50\n",
            "68/68 [==============================] - 0s 1ms/step - loss: 0.5005 - mae: 0.5005\n",
            "Epoch 14/50\n",
            "68/68 [==============================] - 0s 1ms/step - loss: 0.5005 - mae: 0.5005\n",
            "Epoch 15/50\n",
            "68/68 [==============================] - 0s 1ms/step - loss: 0.5005 - mae: 0.5005\n",
            "Epoch 16/50\n",
            "68/68 [==============================] - 0s 1ms/step - loss: 0.5005 - mae: 0.5005\n",
            "Epoch 17/50\n",
            "68/68 [==============================] - 0s 1ms/step - loss: 0.5005 - mae: 0.5005\n",
            "Epoch 18/50\n",
            "68/68 [==============================] - 0s 1ms/step - loss: 0.5005 - mae: 0.5005\n",
            "Epoch 19/50\n",
            "68/68 [==============================] - 0s 1ms/step - loss: 0.5005 - mae: 0.5005\n",
            "Epoch 20/50\n",
            "68/68 [==============================] - 0s 1ms/step - loss: 0.5005 - mae: 0.5005\n",
            "Epoch 21/50\n",
            "68/68 [==============================] - 0s 1ms/step - loss: 0.5005 - mae: 0.5005\n",
            "Epoch 22/50\n",
            "68/68 [==============================] - 0s 1ms/step - loss: 0.5005 - mae: 0.5005\n",
            "Epoch 23/50\n",
            "68/68 [==============================] - 0s 1ms/step - loss: 0.5005 - mae: 0.5005\n",
            "Epoch 24/50\n",
            "68/68 [==============================] - 0s 1ms/step - loss: 0.5005 - mae: 0.5005\n",
            "Epoch 25/50\n",
            "68/68 [==============================] - 0s 1ms/step - loss: 0.5005 - mae: 0.5005\n",
            "Epoch 26/50\n",
            "68/68 [==============================] - 0s 1ms/step - loss: 0.5005 - mae: 0.5005\n",
            "Epoch 27/50\n",
            "68/68 [==============================] - 0s 1ms/step - loss: 0.5005 - mae: 0.5005\n",
            "Epoch 28/50\n",
            "68/68 [==============================] - 0s 1ms/step - loss: 0.5005 - mae: 0.5005\n",
            "Epoch 29/50\n",
            "68/68 [==============================] - 0s 1ms/step - loss: 0.5005 - mae: 0.5005\n",
            "Epoch 30/50\n",
            "68/68 [==============================] - 0s 2ms/step - loss: 0.5005 - mae: 0.5005\n",
            "Epoch 31/50\n",
            "68/68 [==============================] - 0s 2ms/step - loss: 0.5005 - mae: 0.5005\n",
            "Epoch 32/50\n",
            "68/68 [==============================] - 0s 1ms/step - loss: 0.5005 - mae: 0.5005\n",
            "Epoch 33/50\n",
            "68/68 [==============================] - 0s 1ms/step - loss: 0.5005 - mae: 0.5005\n",
            "Epoch 34/50\n",
            "68/68 [==============================] - 0s 1ms/step - loss: 0.5005 - mae: 0.5005\n",
            "Epoch 35/50\n",
            "68/68 [==============================] - 0s 1ms/step - loss: 0.5005 - mae: 0.5005\n",
            "Epoch 36/50\n",
            "68/68 [==============================] - 0s 1ms/step - loss: 0.5005 - mae: 0.5005\n",
            "Epoch 37/50\n",
            "68/68 [==============================] - 0s 1ms/step - loss: 0.5005 - mae: 0.5005\n",
            "Epoch 38/50\n",
            "68/68 [==============================] - 0s 1ms/step - loss: 0.5005 - mae: 0.5005\n",
            "Epoch 39/50\n",
            "68/68 [==============================] - 0s 1ms/step - loss: 0.5005 - mae: 0.5005\n",
            "Epoch 40/50\n",
            "68/68 [==============================] - 0s 1ms/step - loss: 0.5005 - mae: 0.5005\n",
            "Epoch 41/50\n",
            "68/68 [==============================] - 0s 1ms/step - loss: 0.5005 - mae: 0.5005\n",
            "Epoch 42/50\n",
            "68/68 [==============================] - 0s 1ms/step - loss: 0.5005 - mae: 0.5005\n",
            "Epoch 43/50\n",
            "68/68 [==============================] - 0s 1ms/step - loss: 0.5005 - mae: 0.5005\n",
            "Epoch 44/50\n",
            "68/68 [==============================] - 0s 1ms/step - loss: 0.5005 - mae: 0.5005\n",
            "Epoch 45/50\n",
            "68/68 [==============================] - 0s 1ms/step - loss: 0.5005 - mae: 0.5005\n",
            "Epoch 46/50\n",
            "68/68 [==============================] - 0s 1ms/step - loss: 0.5005 - mae: 0.5005\n",
            "Epoch 47/50\n",
            "68/68 [==============================] - 0s 1ms/step - loss: 0.5005 - mae: 0.5005\n",
            "Epoch 48/50\n",
            "68/68 [==============================] - 0s 1ms/step - loss: 0.5005 - mae: 0.5005\n",
            "Epoch 49/50\n",
            "68/68 [==============================] - 0s 1ms/step - loss: 0.5005 - mae: 0.5005\n",
            "Epoch 50/50\n",
            "68/68 [==============================] - 0s 1ms/step - loss: 0.5005 - mae: 0.5005\n"
          ],
          "name": "stdout"
        },
        {
          "output_type": "execute_result",
          "data": {
            "text/plain": [
              "<tensorflow.python.keras.callbacks.History at 0x7feb618b1f50>"
            ]
          },
          "metadata": {
            "tags": []
          },
          "execution_count": 141
        }
      ]
    },
    {
      "cell_type": "markdown",
      "metadata": {
        "id": "9ssj2Bq4UUPM"
      },
      "source": [
        "Looks like the model is just guessing and that to not perfectly."
      ]
    },
    {
      "cell_type": "code",
      "metadata": {
        "colab": {
          "base_uri": "https://localhost:8080/"
        },
        "id": "RX66wN6YTgP3",
        "outputId": "29dbd915-7332-4d62-86ee-acce08d97eec"
      },
      "source": [
        "model_1.evaluate(X_test, y_test)"
      ],
      "execution_count": null,
      "outputs": [
        {
          "output_type": "stream",
          "text": [
            "12/12 [==============================] - 0s 1ms/step - loss: 0.4974 - mae: 0.4974\n"
          ],
          "name": "stdout"
        },
        {
          "output_type": "execute_result",
          "data": {
            "text/plain": [
              "[0.4973958432674408, 0.4973958432674408]"
            ]
          },
          "metadata": {
            "tags": []
          },
          "execution_count": 142
        }
      ]
    },
    {
      "cell_type": "markdown",
      "metadata": {
        "id": "fznEO77IUlGE"
      },
      "source": [
        "### Model 2 (Logistic Regression)\n",
        "\n",
        "From here we will be using Scikit-learn's model. Beginning with [Logistic Regression](https://scikit-learn.org/stable/modules/generated/sklearn.linear_model.LogisticRegression.html)"
      ]
    },
    {
      "cell_type": "code",
      "metadata": {
        "id": "p1BihkE0UWwi"
      },
      "source": [
        "from sklearn.linear_model import LogisticRegression\n",
        "clf = LogisticRegression(random_state=42).fit(X_train, y_train)"
      ],
      "execution_count": null,
      "outputs": []
    },
    {
      "cell_type": "markdown",
      "metadata": {
        "id": "711WNM8vWEzb"
      },
      "source": [
        "So the model here is just being a bit good than guessing."
      ]
    },
    {
      "cell_type": "code",
      "metadata": {
        "colab": {
          "base_uri": "https://localhost:8080/"
        },
        "id": "ECFuaeg6UUHf",
        "outputId": "694cd0ea-be40-4f88-959f-2bbdb66a86ec"
      },
      "source": [
        "clf.score(X_train, y_train)"
      ],
      "execution_count": null,
      "outputs": [
        {
          "output_type": "execute_result",
          "data": {
            "text/plain": [
              "0.5248618784530387"
            ]
          },
          "metadata": {
            "tags": []
          },
          "execution_count": 144
        }
      ]
    },
    {
      "cell_type": "code",
      "metadata": {
        "colab": {
          "base_uri": "https://localhost:8080/"
        },
        "id": "rP1aCUCkXw6k",
        "outputId": "df035508-2011-49e7-c289-ce74977b9026"
      },
      "source": [
        "clf.score(X_test, y_test)"
      ],
      "execution_count": null,
      "outputs": [
        {
          "output_type": "execute_result",
          "data": {
            "text/plain": [
              "0.5"
            ]
          },
          "metadata": {
            "tags": []
          },
          "execution_count": 145
        }
      ]
    },
    {
      "cell_type": "code",
      "metadata": {
        "id": "WlB_qucTX0O9"
      },
      "source": [
        "arr = clf.predict(X_test)"
      ],
      "execution_count": null,
      "outputs": []
    },
    {
      "cell_type": "code",
      "metadata": {
        "id": "uaGr1IMTX7iL"
      },
      "source": [
        "for i in range(0, len(arr)):\n",
        "  if arr[i] == 1:\n",
        "    print(f\"Index - {i}\") "
      ],
      "execution_count": null,
      "outputs": []
    },
    {
      "cell_type": "code",
      "metadata": {
        "colab": {
          "base_uri": "https://localhost:8080/"
        },
        "id": "NorjeRhEX8Hh",
        "outputId": "760b5cf4-1674-4d7c-caf1-7674c9f3a52f"
      },
      "source": [
        "arr"
      ],
      "execution_count": null,
      "outputs": [
        {
          "output_type": "execute_result",
          "data": {
            "text/plain": [
              "array([0, 0, 0, 0, 0, 0, 0, 1, 1, 1, 1, 0, 1, 0, 1, 1, 0, 0, 0, 1, 0, 1,\n",
              "       0, 1, 0, 1, 1, 1, 1, 1, 1, 0, 1, 1, 1, 0, 1, 0, 0, 0, 0, 1, 1, 0,\n",
              "       1, 1, 1, 0, 1, 1, 1, 1, 1, 0, 1, 0, 1, 0, 0, 0, 1, 0, 1, 1, 0, 1,\n",
              "       0, 1, 0, 1, 0, 0, 1, 0, 1, 1, 1, 1, 0, 0, 0, 0, 1, 0, 0, 1, 1, 0,\n",
              "       1, 0, 0, 0, 1, 0, 0, 0, 1, 1, 1, 0, 1, 1, 0, 0, 1, 1, 0, 1, 0, 1,\n",
              "       1, 0, 0, 0, 0, 0, 0, 1, 0, 0, 0, 0, 1, 0, 1, 1, 1, 1, 0, 0, 0, 1,\n",
              "       1, 0, 0, 0, 1, 0, 1, 1, 1, 1, 0, 0, 0, 1, 1, 1, 1, 0, 0, 0, 0, 1,\n",
              "       1, 1, 1, 0, 0, 0, 0, 0, 1, 0, 0, 1, 0, 1, 0, 1, 0, 0, 1, 0, 0, 0,\n",
              "       1, 1, 0, 0, 0, 1, 1, 1, 1, 0, 0, 1, 1, 0, 1, 0, 0, 1, 1, 0, 0, 1,\n",
              "       1, 1, 1, 0, 1, 1, 1, 1, 1, 1, 0, 1, 0, 0, 1, 1, 0, 0, 0, 1, 0, 1,\n",
              "       1, 0, 0, 0, 1, 0, 0, 1, 0, 0, 0, 0, 0, 1, 1, 1, 0, 0, 0, 0, 1, 1,\n",
              "       1, 0, 0, 0, 1, 1, 0, 1, 0, 1, 0, 1, 0, 0, 1, 0, 0, 0, 1, 0, 1, 0,\n",
              "       0, 0, 1, 0, 0, 0, 0, 0, 0, 0, 1, 0, 1, 0, 1, 0, 1, 1, 1, 1, 1, 0,\n",
              "       0, 1, 1, 0, 1, 1, 0, 1, 0, 1, 0, 1, 1, 1, 0, 0, 0, 0, 0, 0, 0, 1,\n",
              "       0, 0, 1, 1, 1, 0, 0, 0, 1, 0, 1, 1, 1, 1, 0, 0, 1, 0, 0, 0, 0, 0,\n",
              "       0, 1, 1, 0, 0, 1, 1, 0, 1, 1, 1, 0, 1, 0, 1, 1, 0, 1, 1, 1, 0, 1,\n",
              "       0, 0, 1, 1, 0, 1, 1, 0, 0, 0, 1, 1, 0, 1, 0, 1, 1, 0, 1, 1, 1, 1,\n",
              "       1, 1, 0, 1, 1, 1, 0, 0, 1, 1])"
            ]
          },
          "metadata": {
            "tags": []
          },
          "execution_count": 150
        }
      ]
    },
    {
      "cell_type": "code",
      "metadata": {
        "colab": {
          "base_uri": "https://localhost:8080/"
        },
        "id": "HuiPxdpzfHHq",
        "outputId": "4cd4d2d1-e4b9-46da-dc56-84a29f82f724"
      },
      "source": [
        "np.array(y_test)"
      ],
      "execution_count": null,
      "outputs": [
        {
          "output_type": "execute_result",
          "data": {
            "text/plain": [
              "array([0, 1, 1, 0, 1, 0, 1, 1, 0, 0, 1, 0, 1, 1, 0, 1, 1, 1, 0, 0, 0, 0,\n",
              "       1, 0, 0, 1, 1, 0, 0, 0, 1, 1, 0, 1, 1, 1, 0, 1, 0, 0, 0, 0, 1, 0,\n",
              "       0, 1, 1, 1, 0, 0, 0, 1, 1, 0, 0, 0, 0, 0, 0, 0, 1, 0, 1, 0, 1, 1,\n",
              "       1, 0, 0, 1, 1, 0, 0, 1, 0, 0, 1, 1, 0, 1, 0, 1, 1, 1, 1, 1, 0, 1,\n",
              "       0, 0, 1, 0, 0, 1, 1, 0, 0, 1, 0, 1, 1, 1, 0, 1, 0, 0, 1, 1, 1, 0,\n",
              "       0, 0, 0, 1, 0, 1, 1, 0, 0, 0, 0, 1, 1, 1, 0, 0, 0, 0, 1, 1, 1, 1,\n",
              "       0, 1, 1, 0, 1, 0, 0, 1, 0, 1, 0, 0, 1, 1, 0, 1, 0, 1, 1, 0, 1, 0,\n",
              "       0, 0, 1, 0, 1, 0, 1, 1, 1, 1, 1, 0, 1, 0, 1, 0, 1, 0, 0, 0, 1, 1,\n",
              "       1, 0, 1, 1, 0, 0, 1, 1, 1, 1, 1, 0, 0, 0, 1, 0, 1, 1, 0, 1, 1, 1,\n",
              "       0, 0, 1, 0, 1, 1, 1, 1, 1, 1, 1, 1, 1, 1, 1, 1, 0, 0, 0, 1, 1, 0,\n",
              "       1, 0, 0, 1, 1, 1, 1, 0, 1, 1, 0, 0, 1, 0, 0, 0, 0, 1, 0, 1, 0, 1,\n",
              "       0, 1, 0, 0, 1, 0, 0, 1, 0, 0, 1, 0, 0, 1, 0, 0, 1, 0, 1, 1, 1, 1,\n",
              "       1, 0, 1, 0, 0, 0, 1, 1, 1, 0, 1, 0, 1, 1, 0, 0, 0, 0, 1, 1, 1, 1,\n",
              "       1, 1, 1, 1, 1, 1, 0, 0, 0, 1, 1, 1, 0, 1, 0, 0, 1, 0, 0, 0, 0, 0,\n",
              "       0, 0, 0, 1, 1, 0, 0, 1, 1, 0, 1, 0, 1, 1, 0, 1, 0, 0, 1, 0, 1, 0,\n",
              "       0, 1, 0, 0, 1, 1, 0, 0, 0, 0, 1, 0, 0, 0, 1, 1, 0, 1, 0, 1, 1, 0,\n",
              "       0, 1, 0, 1, 0, 1, 0, 1, 0, 0, 0, 1, 1, 0, 0, 1, 0, 1, 0, 0, 1, 0,\n",
              "       1, 0, 0, 0, 0, 1, 0, 0, 1, 0])"
            ]
          },
          "metadata": {
            "tags": []
          },
          "execution_count": 157
        }
      ]
    },
    {
      "cell_type": "code",
      "metadata": {
        "colab": {
          "base_uri": "https://localhost:8080/"
        },
        "id": "SLWijD3WfKq5",
        "outputId": "bcc04281-fd18-4261-c620-2beab7ca8eed"
      },
      "source": [
        "from sklearn.metrics import accuracy_score\n",
        "accuracy_score(arr, y_test)"
      ],
      "execution_count": null,
      "outputs": [
        {
          "output_type": "execute_result",
          "data": {
            "text/plain": [
              "0.5"
            ]
          },
          "metadata": {
            "tags": []
          },
          "execution_count": 158
        }
      ]
    },
    {
      "cell_type": "markdown",
      "metadata": {
        "id": "UfwcOz36WdlV"
      },
      "source": [
        "### Model 3 (Stochastic Gradient descent Classifier)\n",
        "\n",
        "For this model we will be using [Stochastic Gradient descent Classifier](https://scikit-learn.org/stable/modules/generated/sklearn.linear_model.SGDClassifier.html#sklearn.linear_model.SGDClassifier)."
      ]
    },
    {
      "cell_type": "code",
      "metadata": {
        "colab": {
          "base_uri": "https://localhost:8080/"
        },
        "id": "D6kYKxsXfmNZ",
        "outputId": "45b08cf1-8dd2-4e8f-80b9-d38d79a0ad0f"
      },
      "source": [
        "from sklearn.linear_model import SGDClassifier\n",
        "clf = SGDClassifier(loss=\"hinge\", penalty=\"l2\", max_iter=5)\n",
        "clf.fit(X_train, y_train)"
      ],
      "execution_count": null,
      "outputs": [
        {
          "output_type": "stream",
          "text": [
            "/usr/local/lib/python3.7/dist-packages/sklearn/linear_model/_stochastic_gradient.py:557: ConvergenceWarning: Maximum number of iteration reached before convergence. Consider increasing max_iter to improve the fit.\n",
            "  ConvergenceWarning)\n"
          ],
          "name": "stderr"
        },
        {
          "output_type": "execute_result",
          "data": {
            "text/plain": [
              "SGDClassifier(alpha=0.0001, average=False, class_weight=None,\n",
              "              early_stopping=False, epsilon=0.1, eta0=0.0, fit_intercept=True,\n",
              "              l1_ratio=0.15, learning_rate='optimal', loss='hinge', max_iter=5,\n",
              "              n_iter_no_change=5, n_jobs=None, penalty='l2', power_t=0.5,\n",
              "              random_state=None, shuffle=True, tol=0.001,\n",
              "              validation_fraction=0.1, verbose=0, warm_start=False)"
            ]
          },
          "metadata": {
            "tags": []
          },
          "execution_count": 159
        }
      ]
    },
    {
      "cell_type": "markdown",
      "metadata": {
        "id": "mpHgZGwTXHFT"
      },
      "source": [
        "Again just a bit more than guessing."
      ]
    },
    {
      "cell_type": "code",
      "metadata": {
        "colab": {
          "base_uri": "https://localhost:8080/"
        },
        "id": "pFC4A7rlf6ov",
        "outputId": "afa632db-1fe4-4ca4-871d-609894c21e2c"
      },
      "source": [
        "clf.score(X_test, y_test)"
      ],
      "execution_count": null,
      "outputs": [
        {
          "output_type": "execute_result",
          "data": {
            "text/plain": [
              "0.5026041666666666"
            ]
          },
          "metadata": {
            "tags": []
          },
          "execution_count": 160
        }
      ]
    },
    {
      "cell_type": "markdown",
      "metadata": {
        "id": "Mxj7-dntXReY"
      },
      "source": [
        "### Model 4 (KNN & Random Forest)"
      ]
    },
    {
      "cell_type": "code",
      "metadata": {
        "id": "HNlcNc2Xf-6-"
      },
      "source": [
        "# Put models in a dictionary\n",
        "models = {\"Logistic Regression\": LogisticRegression(solver='liblinear'), \n",
        "          \"KNN\": KNeighborsClassifier(),\n",
        "          \"Random Forest\": RandomForestClassifier()}\n",
        "\n",
        "# Create a function to fit and score models\n",
        "def fit_and_score(models, X_train, X_test, Y_train, Y_test):\n",
        "    \"\"\"\n",
        "    Fits and evaluates given machine learning models.\n",
        "    models : a dict of differetn Scikit-Learn machine learning models\n",
        "    X_train : training data (no labels)\n",
        "    X_test : testing data (no labels)\n",
        "    Y_train : training labels\n",
        "    Y_test : test labels\n",
        "    \"\"\"\n",
        "    # Set random seed\n",
        "    np.random.seed(42)\n",
        "    # Make a dictionary to keep model scores\n",
        "    model_scores = {}\n",
        "    # Loop through models\n",
        "    for name, model in models.items():\n",
        "        # Fit the model to the data\n",
        "        model.fit(X_train, Y_train)\n",
        "        # Evaluate the model and append its score to model_scores\n",
        "        model_scores[name] = model.score(X_test, Y_test)\n",
        "    return model_scores"
      ],
      "execution_count": null,
      "outputs": []
    },
    {
      "cell_type": "code",
      "metadata": {
        "colab": {
          "base_uri": "https://localhost:8080/"
        },
        "id": "tyaUlzghim4P",
        "outputId": "fad00904-7e13-4f72-f1d6-c09d59c0495d"
      },
      "source": [
        "model_scores = fit_and_score(models=models,\n",
        "                             X_train=X_train,\n",
        "                             X_test=X_test,\n",
        "                             Y_train=y_train,\n",
        "                             Y_test=y_test)\n",
        "\n",
        "model_scores"
      ],
      "execution_count": null,
      "outputs": [
        {
          "output_type": "execute_result",
          "data": {
            "text/plain": [
              "{'KNN': 0.4947916666666667,\n",
              " 'Logistic Regression': 0.4635416666666667,\n",
              " 'Random Forest': 0.6041666666666666}"
            ]
          },
          "metadata": {
            "tags": []
          },
          "execution_count": 168
        }
      ]
    },
    {
      "cell_type": "code",
      "metadata": {
        "colab": {
          "base_uri": "https://localhost:8080/",
          "height": 351
        },
        "id": "RNmV1LfVim1r",
        "outputId": "f30260d8-76ad-46f0-a75b-d2bd019070f2"
      },
      "source": [
        "model_compare = pd.DataFrame(model_scores, index=[\"accuracy\"])\n",
        "model_compare.T.plot.bar(color=\"#B993D6\");"
      ],
      "execution_count": null,
      "outputs": [
        {
          "output_type": "display_data",
          "data": {
            "image/png": "[encoded data removed]",
            "text/plain": [
              "<Figure size 432x288 with 1 Axes>"
            ]
          },
          "metadata": {
            "tags": [],
            "needs_background": "light"
          }
        }
      ]
    },
    {
      "cell_type": "markdown",
      "metadata": {
        "id": "La9IQs3eZCtx"
      },
      "source": [
        "#### Tuning KNN"
      ]
    },
    {
      "cell_type": "code",
      "metadata": {
        "id": "AmqTCt4qimzj"
      },
      "source": [
        "# Tuning KNN\n",
        "\n",
        "train_scores = []\n",
        "test_scores = []\n",
        "\n",
        "# Create a list of differnt values for n_neighbours\n",
        "neighbors = range(1,21)\n",
        "\n",
        "# Setup KNN instance \n",
        "knn = KNeighborsClassifier()\n",
        "\n",
        "# Loop through differnt n_neighbors\n",
        "for i in neighbors:\n",
        "    knn.set_params(n_neighbors=i)\n",
        "    \n",
        "    # Fitting the algorithm\n",
        "    knn.fit(X_train, y_train)\n",
        "    \n",
        "    # Update the training scores list \n",
        "    train_scores.append(knn.score(X_train, y_train))\n",
        "    \n",
        "    # Update the test scores list\n",
        "    test_scores.append(knn.score(X_test, y_test))"
      ],
      "execution_count": null,
      "outputs": []
    },
    {
      "cell_type": "code",
      "metadata": {
        "colab": {
          "base_uri": "https://localhost:8080/"
        },
        "id": "B4zG4MKEimwz",
        "outputId": "647a796e-2660-44c1-927c-bcf5eaa31556"
      },
      "source": [
        "train_scores"
      ],
      "execution_count": null,
      "outputs": [
        {
          "output_type": "execute_result",
          "data": {
            "text/plain": [
              "[1.0,\n",
              " 0.7504604051565378,\n",
              " 0.7624309392265194,\n",
              " 0.6860036832412523,\n",
              " 0.6979742173112339,\n",
              " 0.6574585635359116,\n",
              " 0.6579189686924494,\n",
              " 0.6335174953959485,\n",
              " 0.6358195211786372,\n",
              " 0.6293738489871087,\n",
              " 0.6298342541436464,\n",
              " 0.6252302025782689,\n",
              " 0.6197053406998159,\n",
              " 0.6035911602209945,\n",
              " 0.6022099447513812,\n",
              " 0.6012891344383057,\n",
              " 0.5906998158379374,\n",
              " 0.5796500920810314,\n",
              " 0.58195211786372,\n",
              " 0.580110497237569]"
            ]
          },
          "metadata": {
            "tags": []
          },
          "execution_count": 173
        }
      ]
    },
    {
      "cell_type": "code",
      "metadata": {
        "colab": {
          "base_uri": "https://localhost:8080/"
        },
        "id": "aXn_KTinjPEy",
        "outputId": "92ca51c0-ca83-4678-9544-e914a9c8f219"
      },
      "source": [
        "test_scores"
      ],
      "execution_count": null,
      "outputs": [
        {
          "output_type": "execute_result",
          "data": {
            "text/plain": [
              "[0.4947916666666667,\n",
              " 0.4817708333333333,\n",
              " 0.4869791666666667,\n",
              " 0.5104166666666666,\n",
              " 0.4947916666666667,\n",
              " 0.4973958333333333,\n",
              " 0.5104166666666666,\n",
              " 0.4817708333333333,\n",
              " 0.5182291666666666,\n",
              " 0.4921875,\n",
              " 0.5078125,\n",
              " 0.5026041666666666,\n",
              " 0.4817708333333333,\n",
              " 0.5078125,\n",
              " 0.4973958333333333,\n",
              " 0.4765625,\n",
              " 0.4791666666666667,\n",
              " 0.4895833333333333,\n",
              " 0.4921875,\n",
              " 0.4635416666666667]"
            ]
          },
          "metadata": {
            "tags": []
          },
          "execution_count": 174
        }
      ]
    },
    {
      "cell_type": "markdown",
      "metadata": {
        "id": "_Qt5cy34ZI-N"
      },
      "source": [
        "#### Visualizing KNN Score"
      ]
    },
    {
      "cell_type": "code",
      "metadata": {
        "colab": {
          "base_uri": "https://localhost:8080/",
          "height": 296
        },
        "id": "e_DqYM5EjTwD",
        "outputId": "11a2c204-08e4-4baa-d808-2554235eabaa"
      },
      "source": [
        "plt.plot(neighbors, train_scores, label=\"Train Score\")\n",
        "plt.plot(neighbors, test_scores, label=\"Test Score\")\n",
        "plt.xticks(np.arange(1,21,1))\n",
        "plt.xlabel(\"Number of neighbors\")\n",
        "plt.ylabel(\"Model Score\")\n",
        "plt.legend()\n",
        "\n",
        "print(f\"Maximum KNN Score on the test data: {max(test_scores)*100:.2f}%\")"
      ],
      "execution_count": null,
      "outputs": [
        {
          "output_type": "stream",
          "text": [
            "Maximum KNN Score on the test data: 51.82%\n"
          ],
          "name": "stdout"
        },
        {
          "output_type": "display_data",
          "data": {
            "image/png": "[encoded data removed]",
            "text/plain": [
              "<Figure size 432x288 with 1 Axes>"
            ]
          },
          "metadata": {
            "tags": [],
            "needs_background": "light"
          }
        }
      ]
    },
    {
      "cell_type": "code",
      "metadata": {
        "id": "pdEG4R2jjZRl"
      },
      "source": [
        "# Creating a hyperparameter grid for LogisticRegression\n",
        "log_reg_grid = {\"C\":np.logspace(-4,4,20),\n",
        "               \"solver\": [\"liblinear\"]}\n",
        "\n",
        "# Creating a hyperparameter grid for RandomForesClassifier\n",
        "rf_grid = {\"n_estimators\": np.arange(10,1000,50),\n",
        "          \"max_depth\": [None, 3,5,10],\n",
        "          \"min_samples_split\": np.arange(2,20,2),\n",
        "          \"min_samples_leaf\": np.arange(1,20,2)}"
      ],
      "execution_count": null,
      "outputs": []
    },
    {
      "cell_type": "markdown",
      "metadata": {
        "id": "1OlvFfmMZSss"
      },
      "source": [
        "#### Tuning Logistic Regression "
      ]
    },
    {
      "cell_type": "code",
      "metadata": {
        "colab": {
          "base_uri": "https://localhost:8080/"
        },
        "id": "kNJxgJRgjgDu",
        "outputId": "5f54b86f-6dd5-4996-f9f1-20ad3b153254"
      },
      "source": [
        "# Tuning LogisticRegression\n",
        "np.random.seed(42)\n",
        "\n",
        "# Setting up random hyperparameter search for LogisticRegression\n",
        "rs_log_reg = RandomizedSearchCV(LogisticRegression(),\n",
        "                               param_distributions=log_reg_grid,\n",
        "                               cv=9,\n",
        "                               n_iter=25,\n",
        "                               verbose=True)\n",
        "\n",
        "# Fit random hyperparameter search model for LogisticRegression\n",
        "rs_log_reg.fit(X_train, y_train);"
      ],
      "execution_count": null,
      "outputs": [
        {
          "output_type": "stream",
          "text": [
            "/usr/local/lib/python3.7/dist-packages/sklearn/model_selection/_search.py:281: UserWarning: The total space of parameters 20 is smaller than n_iter=25. Running 20 iterations. For exhaustive searches, use GridSearchCV.\n",
            "  % (grid_size, self.n_iter, grid_size), UserWarning)\n",
            "[Parallel(n_jobs=1)]: Using backend SequentialBackend with 1 concurrent workers.\n"
          ],
          "name": "stderr"
        },
        {
          "output_type": "stream",
          "text": [
            "Fitting 9 folds for each of 20 candidates, totalling 180 fits\n"
          ],
          "name": "stdout"
        },
        {
          "output_type": "stream",
          "text": [
            "[Parallel(n_jobs=1)]: Done 180 out of 180 | elapsed:    2.3s finished\n"
          ],
          "name": "stderr"
        }
      ]
    },
    {
      "cell_type": "code",
      "metadata": {
        "colab": {
          "base_uri": "https://localhost:8080/"
        },
        "id": "DUmekLidjf9W",
        "outputId": "2aff9dd9-1053-4a26-d7d8-233e8c798aea"
      },
      "source": [
        "rs_log_reg.score(X_test,y_test)"
      ],
      "execution_count": null,
      "outputs": [
        {
          "output_type": "execute_result",
          "data": {
            "text/plain": [
              "0.4635416666666667"
            ]
          },
          "metadata": {
            "tags": []
          },
          "execution_count": 182
        }
      ]
    },
    {
      "cell_type": "code",
      "metadata": {
        "colab": {
          "base_uri": "https://localhost:8080/"
        },
        "id": "c9N62cPBjf64",
        "outputId": "23bd9b8c-0fbb-4045-bbd2-0d1c7638df11"
      },
      "source": [
        "np.random.seed(42)\n",
        "\n",
        "# Setting up random hyperparameter search for RandomForestClassifier()\n",
        "rs_rf = RandomizedSearchCV(RandomForestClassifier(),\n",
        "                           param_distributions=rf_grid,\n",
        "                           cv=9,\n",
        "                           n_iter=25,\n",
        "                           verbose=True)\n",
        "\n",
        "# Fitting random hyperparameter search model for RandomForestClassfier()\n",
        "rs_rf.fit(X_train, y_train)"
      ],
      "execution_count": null,
      "outputs": [
        {
          "output_type": "stream",
          "text": [
            "Fitting 9 folds for each of 25 candidates, totalling 225 fits\n"
          ],
          "name": "stdout"
        },
        {
          "output_type": "stream",
          "text": [
            "[Parallel(n_jobs=1)]: Using backend SequentialBackend with 1 concurrent workers.\n",
            "[Parallel(n_jobs=1)]: Done 225 out of 225 | elapsed:  7.9min finished\n"
          ],
          "name": "stderr"
        },
        {
          "output_type": "execute_result",
          "data": {
            "text/plain": [
              "RandomizedSearchCV(cv=9, error_score=nan,\n",
              "                   estimator=RandomForestClassifier(bootstrap=True,\n",
              "                                                    ccp_alpha=0.0,\n",
              "                                                    class_weight=None,\n",
              "                                                    criterion='gini',\n",
              "                                                    max_depth=None,\n",
              "                                                    max_features='auto',\n",
              "                                                    max_leaf_nodes=None,\n",
              "                                                    max_samples=None,\n",
              "                                                    min_impurity_decrease=0.0,\n",
              "                                                    min_impurity_split=None,\n",
              "                                                    min_samples_leaf=1,\n",
              "                                                    min_samples_split=2,\n",
              "                                                    min_weight_fraction_leaf=0.0,\n",
              "                                                    n_estimators=100,\n",
              "                                                    n_jobs...\n",
              "                   param_distributions={'max_depth': [None, 3, 5, 10],\n",
              "                                        'min_samples_leaf': array([ 1,  3,  5,  7,  9, 11, 13, 15, 17, 19]),\n",
              "                                        'min_samples_split': array([ 2,  4,  6,  8, 10, 12, 14, 16, 18]),\n",
              "                                        'n_estimators': array([ 10,  60, 110, 160, 210, 260, 310, 360, 410, 460, 510, 560, 610,\n",
              "       660, 710, 760, 810, 860, 910, 960])},\n",
              "                   pre_dispatch='2*n_jobs', random_state=None, refit=True,\n",
              "                   return_train_score=False, scoring=None, verbose=True)"
            ]
          },
          "metadata": {
            "tags": []
          },
          "execution_count": 183
        }
      ]
    },
    {
      "cell_type": "code",
      "metadata": {
        "colab": {
          "base_uri": "https://localhost:8080/"
        },
        "id": "qtbKmDMuj5sI",
        "outputId": "9dd79dd2-340d-4c26-dafb-7373f9cf4bd8"
      },
      "source": [
        "# Finding the best parameteres\n",
        "rs_rf.best_params_"
      ],
      "execution_count": null,
      "outputs": [
        {
          "output_type": "execute_result",
          "data": {
            "text/plain": [
              "{'max_depth': None,\n",
              " 'min_samples_leaf': 1,\n",
              " 'min_samples_split': 14,\n",
              " 'n_estimators': 510}"
            ]
          },
          "metadata": {
            "tags": []
          },
          "execution_count": 184
        }
      ]
    },
    {
      "cell_type": "code",
      "metadata": {
        "colab": {
          "base_uri": "https://localhost:8080/"
        },
        "id": "AvWvbQYBj5pF",
        "outputId": "de0ea8bb-69d1-4fa5-c11d-19df4c895b3d"
      },
      "source": [
        "# Evaluating the Randomized search RandomForestClassifier model\n",
        "rs_rf.score(X_test, y_test)"
      ],
      "execution_count": null,
      "outputs": [
        {
          "output_type": "execute_result",
          "data": {
            "text/plain": [
              "0.6197916666666666"
            ]
          },
          "metadata": {
            "tags": []
          },
          "execution_count": 185
        }
      ]
    },
    {
      "cell_type": "markdown",
      "metadata": {
        "id": "iuI43yI2Za3H"
      },
      "source": [
        "#### Best Model Scores "
      ]
    },
    {
      "cell_type": "code",
      "metadata": {
        "colab": {
          "base_uri": "https://localhost:8080/"
        },
        "id": "eWW8Xwomj5mS",
        "outputId": "d3ccd0cd-8ca6-4a93-f049-0b47304ace85"
      },
      "source": [
        "model_scores"
      ],
      "execution_count": null,
      "outputs": [
        {
          "output_type": "execute_result",
          "data": {
            "text/plain": [
              "{'KNN': 0.4947916666666667,\n",
              " 'Logistic Regression': 0.4635416666666667,\n",
              " 'Random Forest': 0.6041666666666666}"
            ]
          },
          "metadata": {
            "tags": []
          },
          "execution_count": 186
        }
      ]
    },
    {
      "cell_type": "code",
      "metadata": {
        "colab": {
          "base_uri": "https://localhost:8080/"
        },
        "id": "vZic-XsUmKJe",
        "outputId": "697d6c5f-a0ae-418b-88d4-088b9b719ea6"
      },
      "source": [
        "# Hyperparameters for our LogisticRegression model\n",
        "log_reg_grid = {\"C\": np.logspace(-4,4,30),\n",
        "                \"solver\": [\"liblinear\"]}\n",
        "\n",
        "# Grid Hyperparmeter search for LogisticRegression\n",
        "gs_log_reg = GridSearchCV(LogisticRegression(),\n",
        "                         param_grid=log_reg_grid,\n",
        "                         cv=5,\n",
        "                         verbose=True)\n",
        "# Fitting grid hyperparameter search model\n",
        "gs_log_reg.fit(X_train, y_train);"
      ],
      "execution_count": null,
      "outputs": [
        {
          "output_type": "stream",
          "text": [
            "Fitting 5 folds for each of 30 candidates, totalling 150 fits\n"
          ],
          "name": "stdout"
        },
        {
          "output_type": "stream",
          "text": [
            "[Parallel(n_jobs=1)]: Using backend SequentialBackend with 1 concurrent workers.\n",
            "[Parallel(n_jobs=1)]: Done 150 out of 150 | elapsed:    1.8s finished\n"
          ],
          "name": "stderr"
        }
      ]
    },
    {
      "cell_type": "code",
      "metadata": {
        "colab": {
          "base_uri": "https://localhost:8080/"
        },
        "id": "LGcu0LwJmZKd",
        "outputId": "55d1564e-7f40-47c1-d3d0-78798fbf63d9"
      },
      "source": [
        "# Checking the best Hyperparameter\n",
        "gs_log_reg.best_params_"
      ],
      "execution_count": null,
      "outputs": [
        {
          "output_type": "execute_result",
          "data": {
            "text/plain": [
              "{'C': 0.0006723357536499335, 'solver': 'liblinear'}"
            ]
          },
          "metadata": {
            "tags": []
          },
          "execution_count": 190
        }
      ]
    },
    {
      "cell_type": "code",
      "metadata": {
        "colab": {
          "base_uri": "https://localhost:8080/"
        },
        "id": "d-w4_Hg8mZHt",
        "outputId": "ee0f47f5-3c06-4b0d-b148-1fac9ea3870b"
      },
      "source": [
        "# Evaluating the grid Search LogisticRegression model\n",
        "gs_log_reg.score(X_test, y_test)"
      ],
      "execution_count": null,
      "outputs": [
        {
          "output_type": "execute_result",
          "data": {
            "text/plain": [
              "0.4713541666666667"
            ]
          },
          "metadata": {
            "tags": []
          },
          "execution_count": 192
        }
      ]
    },
    {
      "cell_type": "code",
      "metadata": {
        "colab": {
          "base_uri": "https://localhost:8080/"
        },
        "id": "42oyS8vamZE7",
        "outputId": "0aea35b8-394b-4029-aa4f-a5f14b45add6"
      },
      "source": [
        "model_scores"
      ],
      "execution_count": null,
      "outputs": [
        {
          "output_type": "execute_result",
          "data": {
            "text/plain": [
              "{'KNN': 0.4947916666666667,\n",
              " 'Logistic Regression': 0.4635416666666667,\n",
              " 'Random Forest': 0.6041666666666666}"
            ]
          },
          "metadata": {
            "tags": []
          },
          "execution_count": 193
        }
      ]
    },
    {
      "cell_type": "markdown",
      "metadata": {
        "id": "kd6UUqqPZkEK"
      },
      "source": [
        "#### Tuning Random Forest Classifier"
      ]
    },
    {
      "cell_type": "code",
      "metadata": {
        "colab": {
          "base_uri": "https://localhost:8080/"
        },
        "id": "va8TjeTwmYn0",
        "outputId": "e938f2d2-f6af-4ce5-cd4c-4388f1edf33f"
      },
      "source": [
        "# Hyperparameters for our RandomForestClassifier Model\n",
        "rf_grid = {'n_jobs': [1],\n",
        "         'verbose': [0],\n",
        "          'n_estimators': [100]}\n",
        "\n",
        "# Grid Hyperparmeter search for LogisticRegression\n",
        "gs_rf = GridSearchCV(RandomForestClassifier(),\n",
        "                         param_grid=rf_grid,\n",
        "                         cv=2,\n",
        "                         verbose=True)\n",
        "\n",
        "# Fitting grid hyperparameter search model\n",
        "gs_rf.fit(X_train, y_train)"
      ],
      "execution_count": null,
      "outputs": [
        {
          "output_type": "stream",
          "text": [
            "Fitting 2 folds for each of 1 candidates, totalling 2 fits\n"
          ],
          "name": "stdout"
        },
        {
          "output_type": "stream",
          "text": [
            "[Parallel(n_jobs=1)]: Using backend SequentialBackend with 1 concurrent workers.\n",
            "[Parallel(n_jobs=1)]: Done   2 out of   2 | elapsed:    1.0s finished\n"
          ],
          "name": "stderr"
        },
        {
          "output_type": "execute_result",
          "data": {
            "text/plain": [
              "GridSearchCV(cv=2, error_score=nan,\n",
              "             estimator=RandomForestClassifier(bootstrap=True, ccp_alpha=0.0,\n",
              "                                              class_weight=None,\n",
              "                                              criterion='gini', max_depth=None,\n",
              "                                              max_features='auto',\n",
              "                                              max_leaf_nodes=None,\n",
              "                                              max_samples=None,\n",
              "                                              min_impurity_decrease=0.0,\n",
              "                                              min_impurity_split=None,\n",
              "                                              min_samples_leaf=1,\n",
              "                                              min_samples_split=2,\n",
              "                                              min_weight_fraction_leaf=0.0,\n",
              "                                              n_estimators=100, n_jobs=None,\n",
              "                                              oob_score=False,\n",
              "                                              random_state=None, verbose=0,\n",
              "                                              warm_start=False),\n",
              "             iid='deprecated', n_jobs=None,\n",
              "             param_grid={'n_estimators': [100], 'n_jobs': [1], 'verbose': [0]},\n",
              "             pre_dispatch='2*n_jobs', refit=True, return_train_score=False,\n",
              "             scoring=None, verbose=True)"
            ]
          },
          "metadata": {
            "tags": []
          },
          "execution_count": 196
        }
      ]
    },
    {
      "cell_type": "code",
      "metadata": {
        "colab": {
          "base_uri": "https://localhost:8080/"
        },
        "id": "WH3tnZQnmtZ7",
        "outputId": "80882d77-2536-4066-d78e-fa84dbbb932b"
      },
      "source": [
        "# Checking the best Hyperparameter\n",
        "gs_rf.best_params_"
      ],
      "execution_count": null,
      "outputs": [
        {
          "output_type": "execute_result",
          "data": {
            "text/plain": [
              "{'n_estimators': 100, 'n_jobs': 1, 'verbose': 0}"
            ]
          },
          "metadata": {
            "tags": []
          },
          "execution_count": 197
        }
      ]
    },
    {
      "cell_type": "code",
      "metadata": {
        "colab": {
          "base_uri": "https://localhost:8080/"
        },
        "id": "hASkGAqkmtXP",
        "outputId": "4a0a90e3-804b-4a70-f14d-d20175d60114"
      },
      "source": [
        "# Evaluating the grid Search LogisticRegression model\n",
        "gs_rf.score(X_test, y_test)"
      ],
      "execution_count": null,
      "outputs": [
        {
          "output_type": "execute_result",
          "data": {
            "text/plain": [
              "0.6197916666666666"
            ]
          },
          "metadata": {
            "tags": []
          },
          "execution_count": 198
        }
      ]
    },
    {
      "cell_type": "code",
      "metadata": {
        "colab": {
          "base_uri": "https://localhost:8080/"
        },
        "id": "IYrLBURDmtUR",
        "outputId": "59805d3b-d5b2-40af-c547-7ecd7ff8659e"
      },
      "source": [
        "model_scores[\"Random Forest\"]"
      ],
      "execution_count": null,
      "outputs": [
        {
          "output_type": "execute_result",
          "data": {
            "text/plain": [
              "0.6041666666666666"
            ]
          },
          "metadata": {
            "tags": []
          },
          "execution_count": 199
        }
      ]
    },
    {
      "cell_type": "code",
      "metadata": {
        "colab": {
          "base_uri": "https://localhost:8080/"
        },
        "id": "BD5x7koZmtRd",
        "outputId": "9edd293d-aa7b-4a74-d700-0456a52a6008"
      },
      "source": [
        "tuned_model = RandomForestClassifier()\n",
        "tuned_model.fit(X_train,y_train)\n",
        "tuned_model.score(X_test, y_test)"
      ],
      "execution_count": null,
      "outputs": [
        {
          "output_type": "execute_result",
          "data": {
            "text/plain": [
              "0.6171875"
            ]
          },
          "metadata": {
            "tags": []
          },
          "execution_count": 201
        }
      ]
    },
    {
      "cell_type": "code",
      "metadata": {
        "id": "Tt4NC3eYm_jh"
      },
      "source": [
        "# Make predictions with tuned model\n",
        "Y_preds = tuned_model.predict(X_test)"
      ],
      "execution_count": null,
      "outputs": []
    },
    {
      "cell_type": "markdown",
      "metadata": {
        "id": "J1lkwM4_ZpFB"
      },
      "source": [
        "## Plotting ROC Curve for the best model"
      ]
    },
    {
      "cell_type": "code",
      "metadata": {
        "colab": {
          "base_uri": "https://localhost:8080/",
          "height": 298
        },
        "id": "CLNhbxTwnKXO",
        "outputId": "d15a9033-4358-4583-bfd8-a9f35871015d"
      },
      "source": [
        "# Plotting ROC curve and calculate AUC metric\n",
        "plot_roc_curve(tuned_model, X_test, y_test, color = \"orange\");"
      ],
      "execution_count": null,
      "outputs": [
        {
          "output_type": "display_data",
          "data": {
            "image/png": "[encoded data removed]",
            "text/plain": [
              "<Figure size 432x288 with 1 Axes>"
            ]
          },
          "metadata": {
            "tags": []
          }
        }
      ]
    },
    {
      "cell_type": "markdown",
      "metadata": {
        "id": "ZDFn8i7WZtey"
      },
      "source": [
        "## Confusion Matrix"
      ]
    },
    {
      "cell_type": "code",
      "metadata": {
        "colab": {
          "base_uri": "https://localhost:8080/",
          "height": 298
        },
        "id": "_2QaIL3EnNXp",
        "outputId": "d3b79a28-8731-45ef-d0cc-ed6637a3ed02"
      },
      "source": [
        "import seaborn as sns\n",
        "sns.set(font_scale=1.5)\n",
        "\n",
        "def plot_conf_mat(y_test, Y_preds):\n",
        "    \"\"\"\n",
        "    Plots a confusion matrix using Seaborn's heatmap().\n",
        "    \"\"\"\n",
        "    fig, ax = plt.subplots(figsize=(4, 4))\n",
        "    ax = sns.heatmap(confusion_matrix(Y_preds, y_test),\n",
        "                     annot=True, # Annotate the boxes\n",
        "                     cbar=False)\n",
        "    plt.xlabel(\"Predicted label\") # predictions go on the x-axis\n",
        "    plt.ylabel(\"True label\") # true labels go on the y-axis \n",
        "    \n",
        "plot_conf_mat(y_test, Y_preds)"
      ],
      "execution_count": null,
      "outputs": [
        {
          "output_type": "display_data",
          "data": {
            "image/png": "[encoded data removed]",
            "text/plain": [
              "<Figure size 288x288 with 1 Axes>"
            ]
          },
          "metadata": {
            "tags": []
          }
        }
      ]
    },
    {
      "cell_type": "markdown",
      "metadata": {
        "id": "dmzJfhrZpLLP"
      },
      "source": [
        "1.3e+02 = 1.3 * 10^2 <br>\n",
        "1.1e+02 = 1.1 * 10^2 "
      ]
    },
    {
      "cell_type": "code",
      "metadata": {
        "colab": {
          "base_uri": "https://localhost:8080/"
        },
        "id": "fextJoC7pDBb",
        "outputId": "7c563c03-c90e-4346-c677-4909c0531816"
      },
      "source": [
        "130+110"
      ],
      "execution_count": null,
      "outputs": [
        {
          "output_type": "execute_result",
          "data": {
            "text/plain": [
              "240"
            ]
          },
          "metadata": {
            "tags": []
          },
          "execution_count": 214
        }
      ]
    },
    {
      "cell_type": "code",
      "metadata": {
        "colab": {
          "base_uri": "https://localhost:8080/"
        },
        "id": "t0HZkiLPotDh",
        "outputId": "4aebe9c4-e766-4275-bc63-848c81712c3a"
      },
      "source": [
        "63+84"
      ],
      "execution_count": null,
      "outputs": [
        {
          "output_type": "execute_result",
          "data": {
            "text/plain": [
              "147"
            ]
          },
          "metadata": {
            "tags": []
          },
          "execution_count": 213
        }
      ]
    },
    {
      "cell_type": "code",
      "metadata": {
        "colab": {
          "base_uri": "https://localhost:8080/"
        },
        "id": "1fB9ogqaop5b",
        "outputId": "ad38fc8f-d61d-418c-9513-f3e7e503de7a"
      },
      "source": [
        "len(y_test)"
      ],
      "execution_count": null,
      "outputs": [
        {
          "output_type": "execute_result",
          "data": {
            "text/plain": [
              "384"
            ]
          },
          "metadata": {
            "tags": []
          },
          "execution_count": 212
        }
      ]
    },
    {
      "cell_type": "code",
      "metadata": {
        "colab": {
          "base_uri": "https://localhost:8080/"
        },
        "id": "NRwFe5GHnpnv",
        "outputId": "aaf08fe9-5191-4d01-a7b2-1b949fb4a317"
      },
      "source": [
        "print(classification_report(y_test, Y_preds))"
      ],
      "execution_count": null,
      "outputs": [
        {
          "output_type": "stream",
          "text": [
            "              precision    recall  f1-score   support\n",
            "\n",
            "           0       0.61      0.67      0.64       193\n",
            "           1       0.63      0.56      0.59       191\n",
            "\n",
            "    accuracy                           0.62       384\n",
            "   macro avg       0.62      0.62      0.62       384\n",
            "weighted avg       0.62      0.62      0.62       384\n",
            "\n"
          ],
          "name": "stdout"
        }
      ]
    },
    {
      "cell_type": "markdown",
      "metadata": {
        "id": "FNwU_Ca5Z9BH"
      },
      "source": [
        "## Feature Importance \n",
        "\n",
        "Trying to find whixh features were more useful in predicting the target label."
      ]
    },
    {
      "cell_type": "code",
      "metadata": {
        "id": "FMMnOzgCnzvS"
      },
      "source": [
        "# Fitting an instance of RandomForestClassifier()\n",
        "clf = RandomForestClassifier(n_estimators = 100,\n",
        "                             n_jobs= 1)\n",
        "\n",
        "clf.fit(X_train, y_train);"
      ],
      "execution_count": null,
      "outputs": []
    },
    {
      "cell_type": "code",
      "metadata": {
        "id": "TA5vC3rIpfPq"
      },
      "source": [
        "# Checking feature_importances_\n",
        "clf_ = list(clf.feature_importances_)"
      ],
      "execution_count": null,
      "outputs": []
    },
    {
      "cell_type": "code",
      "metadata": {
        "colab": {
          "base_uri": "https://localhost:8080/"
        },
        "id": "d8H2ySrApfNC",
        "outputId": "2239b477-d48f-4a7d-ef23-adb05472c071"
      },
      "source": [
        "# Matching feature_importances_ of features to columns\n",
        "feature_dict = dict(zip(df.columns,clf_))\n",
        "feature_dict"
      ],
      "execution_count": null,
      "outputs": [
        {
          "output_type": "execute_result",
          "data": {
            "text/plain": [
              "{'Chloramines': 0.1127215153698058,\n",
              " 'Conductivity': 0.09957454978757804,\n",
              " 'Hardness': 0.12454856742070103,\n",
              " 'Organic_carbon': 0.10012132520016527,\n",
              " 'Solids': 0.11594545040829801,\n",
              " 'Sulfate': 0.1221698709027506,\n",
              " 'Trihalomethanes': 0.10055914112926233,\n",
              " 'Turbidity': 0.09659488802974116,\n",
              " 'ph': 0.12776469175169777}"
            ]
          },
          "metadata": {
            "tags": []
          },
          "execution_count": 217
        }
      ]
    },
    {
      "cell_type": "markdown",
      "metadata": {
        "id": "5cY8a5kiaI9V"
      },
      "source": [
        "### Feature Importance Chart"
      ]
    },
    {
      "cell_type": "code",
      "metadata": {
        "colab": {
          "base_uri": "https://localhost:8080/",
          "height": 415
        },
        "id": "bV5F_1r2pfKV",
        "outputId": "994dc0b3-70be-4563-9d05-6bd9aa8de314"
      },
      "source": [
        "# Visualizing feature importance\n",
        "feature_df = pd.DataFrame(feature_dict, index=[0])\n",
        "feature_df.T.plot.bar(title=\"Feature Importance\", legend=False, color=\"#B993D6\");"
      ],
      "execution_count": null,
      "outputs": [
        {
          "output_type": "display_data",
          "data": {
            "image/png": "[encoded data removed]",
            "text/plain": [
              "<Figure size 432x288 with 1 Axes>"
            ]
          },
          "metadata": {
            "tags": []
          }
        }
      ]
    }
  ]
}